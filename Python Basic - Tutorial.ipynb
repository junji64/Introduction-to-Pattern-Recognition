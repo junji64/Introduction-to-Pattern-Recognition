{
  "cells": [
    {
      "metadata": {},
      "cell_type": "markdown",
      "source": "# Python Tutorial - Basic\n\n(from https://github.com/kuleshov/cs228-material/blob/master/tutorials/python/cs228-python-tutorial.ipynb)\n\n## Introduction\n\n파이썬은 그 자체로 훌륭한 범용 프로그래밍 언어이지만 몇 가지 인기있는 라이브러리 (numpy, scipy, matplotlib)의 도움으로 과학 컴퓨팅을 위한 강력한 환경이 되었습니다. \n\n많은 사람들이 파이썬에 대한 약간의 경험이 있을 것으로 기대합니다. 나머지는 이 섹션이 파이썬 프로그래밍 언어와 과학 컴퓨팅을 위한 파이썬 사용에 대한 빠른 집중 코스로 사용될 것입니다. \n\n여러분 중 일부는 Matlab에 대한 사전 지식이 있을 수 있습니다. 이 경우 Matlab 사용자 페이지 (https://www.numpy.org/devdocs/user/numpy-for-matlab-users.html)를 권장합니다.\n\n이 자습서에서는 다음을 다룹니다.\n* 기본 파이썬 : 기본 데이터 유형 (컨테이너,리스트, 사전, 집합, 튜플), 함수, 클래스 \n* Numpy : 배열, 배열 인덱싱, 데이터 유형, 배열 수학, 방송\n* Matplotlib : 플로팅, 서브 플로트, 이미지 \n* IPython : 노트북 만들기, 일반적인 워크 플로우\n\n## Basics of Python\n\n파이썬은 높은 수준의 동적인 다중 패러다임의 프로그래밍 언어입니다. 파이썬 코드는 매우 가독성이 있지만 매우 적은 수의 코드 행으로 매우 강력한 아이디어를 표현할 수 있기 때문에 의사 코드와 거의 유사하다고 종종 말합니다. 예를 들어, 다음은 파이썬에서 고전적인 퀵 정렬 알고리즘을 구현 한 것입니다."
    },
    {
      "metadata": {
        "trusted": false
      },
      "cell_type": "code",
      "source": "def quicksort(arr):\n    if len(arr) <= 1:\n        return arr\n    pivot = arr[len(arr) // 2]\n    left = [x for x in arr if x < pivot]\n    middle = [x for x in arr if x == pivot]\n    right = [x for x in arr if x > pivot]\n    return quicksort(left) + middle + quicksort(right)\n\nprint(quicksort([3,6,8,10,1,2,1]))",
      "execution_count": 4,
      "outputs": [
        {
          "name": "stdout",
          "output_type": "stream",
          "text": "[1, 1, 2, 3, 6, 8, 10]\n"
        }
      ]
    },
    {
      "metadata": {},
      "cell_type": "markdown",
      "source": "## Python versions\n현재 Python 2.7과 3.4의 지원되는 두 가지 버전이 있습니다. 다소 혼란스럽게도 Python 3.0은 많은 하위 호환성이없는 언어 변경 사항을 도입했기 때문에 2.7 용으로 작성된 코드는 3.4에서 작동하지 않을 수 있으며 그 반대도 마찬가지입니다. 이 클래스에서 모든 코드는 Python 3.x 을 사용합니다.\n\n\"python --version\" 을 실행하여 명령 줄에서 Python 버전을 확인할 수 있습니다."
    },
    {
      "metadata": {},
      "cell_type": "markdown",
      "source": "## Basic data types\n\n### Numbers\n\n정수 및 실수는 다른 언어에서 기대하는 대로 작동합니다."
    },
    {
      "metadata": {
        "trusted": false
      },
      "cell_type": "code",
      "source": "x = 3\nprint(x, type(x))",
      "execution_count": 7,
      "outputs": [
        {
          "name": "stdout",
          "output_type": "stream",
          "text": "3 <class 'int'>\n"
        }
      ]
    },
    {
      "metadata": {
        "trusted": false
      },
      "cell_type": "code",
      "source": "print(x + 1)  # Addition;\nprint(x - 1)  # Subtraction;\nprint(x * 2)  # Multiplication;\nprint(x ** 2)  # Exponentiation;",
      "execution_count": 8,
      "outputs": [
        {
          "name": "stdout",
          "output_type": "stream",
          "text": "4\n2\n6\n9\n"
        }
      ]
    },
    {
      "metadata": {
        "trusted": false
      },
      "cell_type": "code",
      "source": "x += 1\nprint(x)\nx *= 2\nprint(x)",
      "execution_count": 9,
      "outputs": [
        {
          "name": "stdout",
          "output_type": "stream",
          "text": "4\n8\n"
        }
      ]
    },
    {
      "metadata": {
        "trusted": false
      },
      "cell_type": "code",
      "source": "y = 2.5\nprint(type(y))  # Prints \"<type 'float'>\"\nprint( y, y+1, y*2, y**2)  # Print \"2.5 3.5 5.0 6.25\"",
      "execution_count": 10,
      "outputs": [
        {
          "name": "stdout",
          "output_type": "stream",
          "text": "<class 'float'>\n2.5 3.5 5.0 6.25\n"
        }
      ]
    },
    {
      "metadata": {},
      "cell_type": "markdown",
      "source": "많은 언어와 달리 파이썬에는 단항 증가 (x ++) 또는 감소 (x--) 연산자가 없습니다. \n\n파이썬에는 긴 정수와 복소수를 위한 기본 제공 유형이 있으며, 자세한 내용은 [documentation](https://docs.python.org/2/library/stdtypes.html#numeric-types- int-float-long-complex)를 사용합니다.\n\n### Booleans\n\n파이썬은 불리언 논리에 대한 모든 일반적인 연산자를 구현하지만 기호 (`&&`,`||`등) 보다는 영어 단어를 사용합니다:"
    },
    {
      "metadata": {
        "trusted": false
      },
      "cell_type": "code",
      "source": "t, f = True, False\nprint(type(t))   # Print \"<type 'bool'>\"",
      "execution_count": 11,
      "outputs": [
        {
          "name": "stdout",
          "output_type": "stream",
          "text": "<class 'bool'>\n"
        }
      ]
    },
    {
      "metadata": {},
      "cell_type": "markdown",
      "source": "이제 다음의 연산들을 살펴 ​​보겠습니다."
    },
    {
      "metadata": {
        "trusted": false
      },
      "cell_type": "code",
      "source": "print(t and f)   # Logical AND;\nprint(t or f)    # Logical OR;\nprint(not t)     # Logical NOT;\nprint(t != f)    # Logical XOR;",
      "execution_count": 12,
      "outputs": [
        {
          "name": "stdout",
          "output_type": "stream",
          "text": "False\nTrue\nFalse\nTrue\n"
        }
      ]
    },
    {
      "metadata": {},
      "cell_type": "markdown",
      "source": "### Strings"
    },
    {
      "metadata": {
        "trusted": false
      },
      "cell_type": "code",
      "source": "hello = 'hello'   # String literals can use single quotes\nworld = \"world\"   # or double quotes; it does not matter\nprint(hello, len(hello))",
      "execution_count": 13,
      "outputs": [
        {
          "name": "stdout",
          "output_type": "stream",
          "text": "hello 5\n"
        }
      ]
    },
    {
      "metadata": {
        "trusted": false
      },
      "cell_type": "code",
      "source": "hw = hello + ' ' + world    # String concatenation\nprint(hw)                   # print \"hello world\"",
      "execution_count": 14,
      "outputs": [
        {
          "name": "stdout",
          "output_type": "stream",
          "text": "hello world\n"
        }
      ]
    },
    {
      "metadata": {
        "trusted": false
      },
      "cell_type": "code",
      "source": "hw12 = '%s %s %d' % (hello, world, 12)   # sprintf style string formatting\nprint(hw12)     # print \"hello world 12\"",
      "execution_count": 15,
      "outputs": [
        {
          "name": "stdout",
          "output_type": "stream",
          "text": "hello world 12\n"
        }
      ]
    },
    {
      "metadata": {},
      "cell_type": "markdown",
      "source": "#### String objects have a bunck of useful methods; for example:"
    },
    {
      "metadata": {
        "trusted": false
      },
      "cell_type": "code",
      "source": "s = \"hello\"\nprint(s.capitalize())    # Capicalize a string; prints \"Hello\"\nprint(s.upper())        # VConvert a string to uppercase; prints \"HELLO\"\nprint(s.rjust(7))        # Right-justify a string, padding with spaces; pring \"  Hello\"\nprint(s.center(7))       # Center a string, padding with spaces; prints \" hello \"\nprint(s.replace('l', '(ell)'))   # Replace all instaces of one substring with another; prints \"he(ell)(ell)o\"\nprint('  world '.strip())   # Strip leading and trailing whitespace; prints \"world\"",
      "execution_count": 20,
      "outputs": [
        {
          "name": "stdout",
          "output_type": "stream",
          "text": "Hello\nHELLO\n  hello\n hello \nhe(ell)(ell)o\nworld\n"
        }
      ]
    },
    {
      "metadata": {},
      "cell_type": "markdown",
      "source": "[documentation](https://docs.python.org/2/library/stdtypes.html#string-methods)에서 모든 문자열 메서드 목록을 찾을 수 있다."
    },
    {
      "metadata": {},
      "cell_type": "markdown",
      "source": "## Containers\n\n파이썬에는  lists, dictionaries, sets, 과  tuples 같은 몇 가지 기본 제공 컨테이너 유형이 포함되어 있습니다.\n\n### Lists\n\nList는 파이썬에서의 배열과 같은 것이지만, 크기를 조정할 수 있고 다른 유형의 요소를 포함 할 수 있습니다."
    },
    {
      "metadata": {
        "trusted": false
      },
      "cell_type": "code",
      "source": "xs = [3, 1, 2]    # Create a list\nprint(xs, xs[2])\nprint(xs[-1])    # Negative indecies count frmo the end of the list; prints \"2\"",
      "execution_count": 22,
      "outputs": [
        {
          "name": "stdout",
          "output_type": "stream",
          "text": "[3, 1, 2] 2\n2\n"
        }
      ]
    },
    {
      "metadata": {
        "trusted": false
      },
      "cell_type": "code",
      "source": "xs[2] = 'foo'   # Lists can contain elements of different types\nprint(xs[2])",
      "execution_count": 23,
      "outputs": [
        {
          "name": "stdout",
          "output_type": "stream",
          "text": "foo\n"
        }
      ]
    },
    {
      "metadata": {
        "trusted": false
      },
      "cell_type": "code",
      "source": "xs.append('bar')   # Add a new element to the end of the list\nprint(xs)",
      "execution_count": 24,
      "outputs": [
        {
          "name": "stdout",
          "output_type": "stream",
          "text": "[3, 1, 'foo', 'bar']\n"
        }
      ]
    },
    {
      "metadata": {
        "trusted": false
      },
      "cell_type": "code",
      "source": "x = xs.pop()    # Remove and return the last element of the list\nprint(x, xs)",
      "execution_count": 25,
      "outputs": [
        {
          "name": "stdout",
          "output_type": "stream",
          "text": "bar [3, 1, 'foo']\n"
        }
      ]
    },
    {
      "metadata": {},
      "cell_type": "markdown",
      "source": "마찬가지로 list 에 대한 모든 세부 정보를 [여기](https://docs.python.org/2/tutorial/datastructures.html#more-on-lists)에서 찾을 수 있습니다."
    },
    {
      "metadata": {},
      "cell_type": "markdown",
      "source": "#### Slicing\n\n한 번에 하나씩 목록 요소에 접근하는 것 외에도 Python은 하위 목록에 접근하기위한 간결한 구문을 제공합니다. 이것은 slicing 으로 알려져 있습니다 :"
    },
    {
      "metadata": {
        "trusted": false
      },
      "cell_type": "code",
      "source": "nums = [0, 1, 2, 3, 4]    # range is a built-in function that creates a list of integers\nprint(nums)        # prints \"[0, 1, 2, 3, 4]\"\nprint(nums[2:4])   # get a slice from index 2 to 4 (exclusive); prints \"[2, 3]\"\nprint(nums[2:])    # Get a slice from index 2 to the end; print \"[2, 3, 4]\"\nprint(nums[:2])    # Get a slice from the start to index 2 (exclusive); print \"[0, 1]\"\nprint(nums[:])     # Get a slice of the whole list; prints \"[0, 1, 2, 3, 4]\"\nprint(nums[:-1])   # Slice indices can be negative; print \"[0, 1, 2, 3]\"\nnums[2:4] = [8, 9] # Assign a new sublist to a slice\nprint(nums)",
      "execution_count": 29,
      "outputs": [
        {
          "name": "stdout",
          "output_type": "stream",
          "text": "[0, 1, 2, 3, 4]\n[2, 3]\n[2, 3, 4]\n[0, 1]\n[0, 1, 2, 3, 4]\n[0, 1, 2, 3]\n[0, 1, 8, 9, 4]\n"
        }
      ]
    },
    {
      "metadata": {
        "collapsed": true,
        "trusted": false
      },
      "cell_type": "code",
      "source": "",
      "execution_count": null,
      "outputs": []
    }
  ],
  "metadata": {
    "kernelspec": {
      "name": "python3",
      "display_name": "Python 3",
      "language": "python"
    },
    "language_info": {
      "mimetype": "text/x-python",
      "nbconvert_exporter": "python",
      "name": "python",
      "pygments_lexer": "ipython3",
      "version": "3.5.4",
      "file_extension": ".py",
      "codemirror_mode": {
        "version": 3,
        "name": "ipython"
      }
    }
  },
  "nbformat": 4,
  "nbformat_minor": 2
}