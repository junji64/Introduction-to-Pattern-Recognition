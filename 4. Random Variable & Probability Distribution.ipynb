{
 "cells": [
  {
   "cell_type": "markdown",
   "metadata": {
    "collapsed": true
   },
   "source": [
    "## 4. 확률변수와 확률분포\n",
    "\n",
    "**확률변수**란?\n",
    "\n",
    "* 주사위 던졌을 때 3이 나올 확률을 P[X=3] = 1/6, 또는 사람의 몸무게가 70kg 일 확률밀도를 p(X=70) = 0.032 로 표현할 때, 이처럼 **시행 결과 하나 하나를 수치로 대응시키는 X를 확률변수**' 혹은 '**랜덤변수(random variables)**'라 정의한다.\n",
    "\n",
    "\n",
    "* **랜덤변수 X** 는 이와 같이 **시행 결과 s를 실수치 X(s) 로 대응시키는 함수**로서, 샘플공간의 모든 요소들을 **실수(또는 실선)**에 매핑을 수행하게 된다.\n",
    "\n",
    "$$ X(s) = x $$\n",
    "\n",
    "<img src=\"./images/random_variable.gif\" width=\"400\">\n",
    "<br>\n",
    "\n",
    "* **랜덤변수**는 주사위 굴리기의 결과와 같이 **이산변수(discrete variable)** 일 경우도 있고, \n",
    "* 표본 추출된 몸무게와 같이 **연속변수(continuous variable)** 일 수도 있다."
   ]
  },
  {
   "cell_type": "markdown",
   "metadata": {},
   "source": [
    "**확률 분포**란?\n",
    "\n",
    "* 수치로 대응된 확률변수의 개별 값들이 가지는 **확률 값의 분포**를  “**확률분포**”라 함.\n",
    "* 확률변수가 취할 수 있는 구체적인 값 하나 하나를 확률공간상의 확률 값으로 할당해 주는 함수를 “**확률분포함수**\" 함.\n",
    "\n",
    "ex1) 두 개의 동전을 던지는 확률 실험에서 앞면이 나오는 숫자의 (이산)확률분포\n",
    "\n",
    "| x | 0 | 1 | 2 |\n",
    "| --- | --- | --- | --- |\n",
    "|P[X=x] | 1/4 | 1/2 | 1/4\n",
    "\n",
    "ex2) 두 개의 주사위를 던져서 나오는 점들의 합의 (이산)확률분포\n",
    "\n",
    "| y | 2 | 3 | 4 | 5 | 6 | 7 | 8 | 9 | 10 | 11 | 12 |\n",
    "| --- | --- |---|---|---|---|---|---|---|----|----|----|\n",
    "|P[Y=y] | 1/36 | 2/36 | 3/36 | 4/36 | 5/36 | 6/36 | 5/36 | 4/36 | 3/36 | 2/36 | 1/36 |"
   ]
  },
  {
   "cell_type": "markdown",
   "metadata": {},
   "source": [
    "\n",
    "### 확률분포함수의 종류\n",
    "\n",
    "**누적분포함수** \n",
    "\n",
    "확률변수 X의 **누적분포함수 (cumulative distribution function; cdf)** $F_X(x)$는 확률변수 $X$ 가 $\\{X ≤ x\\}$ 일 확률함수이다.\n",
    "\n",
    "\n",
    "$$F_X(x) = P[X \\le x] \\quad \\text{for }  -\\infty < x < \\infty$$\n",
    "\n",
    "누적분포함수의 성질\n",
    "\n",
    "$$ 0 \\le F_X(x) \\le 1 $$\n",
    "\n",
    "$$ \\lim_{x \\rightarrow \\infty} F_X(x) = 1 $$\n",
    "\n",
    "$$ \\lim_{x \\rightarrow -\\infty} F_X(x) = 0 $$\n",
    "\n",
    "$$ F_X(a) \\le F_X(b) \\text{ if }  a \\le b $$\n",
    "\n",
    "<img src=\"images/cdf.png\" width=\"250\" align=\"left\">\n",
    "<img src=\"images/pdf.png\" width=\"270\">"
   ]
  },
  {
   "cell_type": "markdown",
   "metadata": {},
   "source": [
    "**확률밀도함수  / 확률질량함수**\n",
    "\n",
    "확률변수 X의 **확률밀도함수(probability density function; pdf)** $f_X(x)$ 는 **연속확률변수** X 의 **누적분포 $F_X(x)$ 의 미분값**으로 정의한다. \n",
    "\n",
    "$$ f_X(x) = { dF_X(x) \\over dX}  $$\n",
    "\n",
    "**이산확률변수**에서는 확률밀도함수와 동일한 개념으로 **누적분포 $F_X(x)$ 의 차분값**으로 정의하며, 이를 특별히 **확률질량함수(probability mass function, pmf)** 라고 한다.\n",
    "\n",
    "$$ f_X(x) = {\\Delta F_X(x) \\over \\Delta X}  $$\n",
    "\n",
    "확률밀도함수의 성질\n",
    "\n",
    "$$ f_X(x) \\ge 0 $$\n",
    "\n",
    "$$ P[ a < x < b ] = \\int_a^b f_X(x) dx $$\n",
    "\n",
    "$$ F_X(x) = \\int_{-\\infty}^x f_X(x) dx $$\n",
    "\n",
    "$$ 1 = \\int_{-\\infty}^{+\\infty} f_X(x) dx $$\n",
    "\n",
    "$$ f_X(x|A) = {d \\over dx} F_X(x|A) \\quad \\text{where }  F_X(x|A) = { P[\\{X<x\\}\\cap A] \\over P[A] } \\text{ if } P[A] > 0   $$\n",
    "\n",
    "* 확률밀도함수는 확률의 밀도를 정의하는 것이므로, **실제 확률을 얻기 위해서는 확률밀도함수를 일정구간에서 적분하여야 함**.\n",
    "\n",
    "* 확률질량함수는 **실제 확률**을 나타냄.\n",
    "\n",
    "<img src=\"images/pdf-c.png\" width=\"230\" align=\"left\">\n",
    "<img src=\"images/pmf.png\" width=\"250\">"
   ]
  },
  {
   "cell_type": "markdown",
   "metadata": {},
   "source": [
    "**확률변수의 평균 : 기대값** \n",
    "\n",
    "* **표본(일반 데이타)**의 성질들은 **표본 성질**이라고 하며\n",
    "* **확률분포**의 성질은 **모델(또는 모집단) 성질** 이라고 한다.\n",
    "\n",
    "따라서, **일반 데이타에 대한 평균 $\\bar{x}$ 과 분산 $s^2$** 을 구별하기 위해서 **모집단의 평균은 $\\mu$(mu)**로, **분산은 $\\sigma^2$(sigma square)** 로 사용한다.\n",
    "\n",
    "$$ \\bar{x} = { 1 \\over n } \\sum_{i=1}^n x_i = { 1 \\over n } \\sum_{all x} n_x x =  \\sum_{all x} x { n_x \\over n} $$\n",
    "\n",
    "여기에서 ${ n_x / n}$ 는 상대도수 ($n_x$는 $x$값을 갖는 자료점의 수)\n",
    "\n",
    "**이산자료의 모집단**의 경우에는, $n$ 값을 증가시키면 상대도수  ${n_x / n}$ 는 통계적 확률, 즉 근사확률 $p(x)$ 에 접근하게 된다. 그러므로 다음과 같이 되고, \n",
    "\n",
    "$$ E[x] = \\mu = \\sum_{all x} x p(x) $$\n",
    "\n",
    "이 식을 $x$ 의 **기대값(expectation)**이라고 한다. 이는 각 값의 가중 산술평균을 확률적 용어로 표현한 것인데, 어떤 실험을 무수히 반복했을 때 예상되는 평균 값을 말한다.\n",
    "\n",
    "**연속확률변수**인 경우에는 다음과 같이 표현된다.\n",
    "\n",
    "$$  E[X] = \\mu = \\int_{-\\infty}^{\\infty}  x f_X(x) dx$$"
   ]
  },
  {
   "cell_type": "markdown",
   "metadata": {},
   "source": [
    "**확률변수의 분산**:\n",
    "\n",
    "**이산 자료 표본**의 분산\n",
    "$$ s^2 = { 1 \\over n} \\sum_{i=1}^n (x_i - \\bar{x})^2 = \\sum_{all x} (x - \\bar{x})^2   { n_x \\over n}$$\n",
    "\n",
    "여기에서 ${ n_x / n}$ 는 상대도수이다.\n",
    "\n",
    "**이산 자료의 모집단** 분산은 $n$ 값을 증가시키면 상대도수  ${n_x / n}$ 는 통계적 확률, 즉 근사확률 $p(x)$ 에 접근하게 되고, 평균 $\\bar{x}$ 대신에 기대값 $\\mu$ 와 함께 다음과 같이 된다.\n",
    "\n",
    "$$ \\sigma^2 = \\sum_{all x} (x - \\mu)^2 p(x)$$\n",
    "\n",
    "**연속 자료의 모집단** 분산은 자료들의 합 대신에 적분으로 표현되어 다음과 같이 된다.\n",
    "\n",
    "$$\\text{Var}[X] = E[(X-E[X])^2] = \\int_{-\\infty}^{\\infty} (x - \\mu)^2 f_X(x)dx $$\n",
    "\n",
    "$$ \\text{STD}[X] = \\text{Var}[X]^{1/2}$$"
   ]
  },
  {
   "cell_type": "markdown",
   "metadata": {},
   "source": [
    "**벡터 랜덤변수**\n",
    "\n",
    "확률 변수를 2개 이상 고려한 경우로 확률변수의 개념을 확장한 것으로 열(column)벡터로 정의된다. 2개의 랜덤변수를 고려한 경우를 이중(binary) 랜덤변수라고 한다. 즉, 표본 공간 $S$ 에서 정의되는 두 개의 랜덤변수 $X, Y$ 를 고려할 경우에 두 개의 랜덤 벡터는 각각 $x, y$ 라는 값을 가지며 순서쌍 $(x, y)$ 로 표현되는 새로운 표본 공간 (이를 **결합 표본공간**이라고 한다)의 $xy$ 평면 상의 임의의 점(random point)에 대응될 것이다. 그리고 누적분포함수와 확률밀도함수 개념은 **\"결합 누적분포함수(joint cdf)\"**와 **\"결합 확률밀도함수(joint pdf)\"**로 확장된다.\n",
    "\n",
    "<img src=\"images/joint_space.png\" width=\"800\">\n",
    "\n",
    "* 단일 랜덤변수의 누적 분포함수의 표현\n",
    "\n",
    "$$ F_X(x)=P\\{X \\le x\\}, \\quad F_Y(y)= P\\{Y \\le y\\} $$\n",
    "\n",
    "* $X,Y$의 이중 벡터 랜덤변수의 누적 분포함수의 표현\n",
    "\n",
    "$$ F_{X,Y}(x,y)=P\\{X \\le x, Y \\le y\\},\\quad P\\{X \\le x, Y \\le y\\} = P(A\\cap B) $$\n",
    "\n",
    "* 랜덤 벡터 $ X = [X_1, X_2, \\cdots X_N]^T $ 가 주어질 경우\n",
    "\n",
    "**결합 누적분포함수 (Joint Cumulative Density Function; Joint cdf)**\n",
    "\n",
    "$$ F_X(x) = P_X[\\{X_1 \\le x_1\\} \\cap \\{X_2 \\le x_2\\} \\cap \\cdots \\cap \\{X_N \\le x_N\\} ]$$\n",
    "\n",
    "**결합 확률밀도함수 (Joint Probability Density Function; Joint pdf)**\n",
    "\n",
    "$$ f_X(x) = { \\partial^N F_X(x) \\over \\partial x_1 \\partial x_2 \\cdots \\partial x_N } $$"
   ]
  },
  {
   "cell_type": "markdown",
   "metadata": {},
   "source": [
    "### 랜덤 벡터의 통계적 특징\n",
    "랜덤 벡터의 통계적 특징은 **결합 누적분포함수(joint cdf)** 혹은 **결합 확률밀도함수(joint pdf)** 를 이용하여 정의할 수 있다. 또한 랜덤 벡터를 스칼라 확률변수에서 정의한 것과 같은 방식으로 표현할 수 있다.\n",
    "\n",
    "* **평균벡터**\n",
    "\n",
    "$$ E[X] = [E[X_1] E[X_2] \\cdots E[X_N]]^T = [ \\mu_1 \\mu_2 \\cdots \\mu_N ]^T = \\mathbf{\\mu} $$\n",
    "\n",
    "* **공분산행렬** (Covariance Matrix) : 랜덤 벡터에서 차원의 각 특징 간의 관계를 나타낸다.\n",
    "\n",
    "$$ COV[X] = \\Sigma = E[(X-\\mu) (X-\\mu)^T ] $$\n",
    "\n",
    "$$ = \\begin{bmatrix}\n",
    "E[(x_1-\\mu_1)(x_1-\\mu_1)] & \\cdots &  E[(x_1-\\mu_1)(x_N-\\mu_N)] \\\\\n",
    "\\vdots & \\ddots & \\vdots \\\\\n",
    "E[(x_N-\\mu_N)(x_1-\\mu_1)] & \\cdots &  E[(x_N-\\mu_N)(x_N-\\mu_N)] \\\\\n",
    "\\end{bmatrix}\n",
    " =\n",
    "  \\begin{bmatrix}\n",
    "\\sigma_1^2 & \\cdots &  c_{1N} \\\\\n",
    "\\vdots & \\ddots & \\vdots \\\\\n",
    "c_{1N} & \\cdots &  \\sigma_N^2  \\\\\n",
    "\\end{bmatrix}\n",
    "$$\n",
    "\n",
    "* **공분산 행렬의 성질**\n",
    "  - 만약 $x_i, x_k$ 가 모두 증가하면 $c_{ik} > 0 $\n",
    "  - 만약 $x_i$ 가 증가할 때, $x_k$ 는 감소하면 $c_{ik} < 0 $\n",
    "  - 만약 $x_i, x_k$ 가 무상관(uncorrelated)이라면 $c_{ik} = 0 $\n",
    "  - $|c_{ik}| < \\sigma_i \\sigma_k$ 여기서 $\\sigma_i$는 $x_i$의 표준편차이다.\n",
    "  - $c_{ii} = \\sigma_i^2 = \\text{Var}(x_i)$\n",
    "  "
   ]
  },
  {
   "cell_type": "markdown",
   "metadata": {},
   "source": [
    "* **상관계수**\n",
    "\n",
    "두 확률변수 $X$ 와 $Y$ 의 공분산은 기대값 연산자를 사용하여 다음과 같이 정의된다.\n",
    "\n",
    "$$ \\Sigma = E[(X-\\mu) (X-\\mu)^T ] = E[XX^T] - \\mu \\mu^T = S - \\mu \\mu^T$$\n",
    "\n",
    "여기에서 $S$는 자기상관행렬로 다음과 같다.\n",
    "\n",
    "$$ S =  E[XX^T] = \n",
    " \\begin{bmatrix}\n",
    "E[x_1x_1] & \\cdots &  E[x_1x_N] \\\\\n",
    "\\vdots & \\ddots & \\vdots \\\\\n",
    "E[x_Nx_1] & \\cdots &  E[x_Nx_N] \\\\\n",
    "\\end{bmatrix}\n",
    "$$\n",
    "\n",
    "그리고,\n",
    "\n",
    "$$ \\Sigma = \\Gamma R \\Gamma = \n",
    "\\begin{bmatrix}\n",
    "\\sigma_1 & 0 & \\cdots &  0 \\\\\n",
    "0 & \\sigma_2 &   &   \\\\\n",
    "\\vdots &    & \\ddots &   \\\\\n",
    "0 &   &   &  \\sigma_N  \\\\\n",
    "\\end{bmatrix}\n",
    "\\begin{bmatrix}\n",
    "1 & \\rho_{12} & \\cdots &  \\rho_{1N} \\\\\n",
    "\\rho_{12} & 1 &   &   \\\\\n",
    "\\vdots &    & \\ddots &   \\\\\n",
    "\\rho_{1N} &   &   &  1 \\\\\n",
    "\\end{bmatrix}\n",
    "\\begin{bmatrix}\n",
    "\\sigma_1 & 0 & \\cdots &  0 \\\\\n",
    "0 & \\sigma_2 &   &   \\\\\n",
    "\\vdots &    & \\ddots &   \\\\\n",
    "0 &   &   &  \\sigma_N  \\\\\n",
    "\\end{bmatrix}\n",
    "$$\n",
    "\n",
    "$\\Gamma$가 특징들의 스칼라를 포함하고, $R$은 특징들 간의 근본적인 관계정보를 보유하고 있으므로 편리한 수식 표현이다. $R$은 상관행렬(correlation matrix)이다.\n",
    "\n",
    "이산확률변수의 공분산 항은 다음과 같이 표현 될 수 있다.\n",
    "$c_{ii} = \\sigma_i^2$ 이고, $c_{ik} = \\rho_{ik} \\sigma_i \\sigma_k$, 여기에서 $\\rho_{ik}$를 **상관계수(correlation coefficient)**라 한다.\n",
    "\n",
    "<img src=\"images/cov_cc.png\" width=\"800\">\n",
    "\n",
    "확률변수의 상관계수는 다음과 같은 성질을 가진다.\n",
    "\n",
    "$$−1 \\le \\rho \\le 1 $$\n",
    "\n",
    "또한 $\\rho$ 가 $-1, 0, 1$인 경우를 각각 다음과 같이 부른다.\n",
    "\n",
    "* $\\rho=1$  : 완전선형 상관관계\n",
    "* $\\rho=0$    : 무상관 (독립과는 다름)\n",
    "* $\\rho=-1$   : 완전선형 반상관관계\n",
    "\n",
    "이 상관계수의 부호와 크기가 의미하는 바는 다음 스캐터 플롯에서 알 수 있다. 이 스캐터 플롯은 특정한 상관계수를 가지는 데이터를 시뮬레이션을 통해 그린 것이다. 스캐터 플롯의 위에 쓰여진 숫자는 시뮬레이션에 사용된 상관계수를 나타낸다. 스캐터 플롯의 데이터가 양의 기울기를 가지는 직선 혹은 타원 모양을 가지면 상관계수는 양수이고 음의 기울기를 가지는 직선 혹은 타원 모양이 되면 상관계수가 음이 된다. 또한 직선 모양이 뚜렷할수록 상관계수의 절대값이 커지고 원에 가까워질 수록 절대값이 작아진다.\n",
    "\n"
   ]
  },
  {
   "cell_type": "code",
   "execution_count": 2,
   "metadata": {},
   "outputs": [
    {
     "data": {
      "image/png": "[encoded data removed]",
      "text/plain": [
       "<Figure size 504x144 with 7 Axes>"
      ]
     },
     "metadata": {},
     "output_type": "display_data"
    }
   ],
   "source": [
    "import numpy as np\n",
    "import matplotlib.pyplot as plt\n",
    "\n",
    "np.random.seed(0)\n",
    "corrs = [-1, -0.7, -0.3, 0, 0.3, 0.7, 1]\n",
    "plt.figure(figsize=(len(corrs), 2))\n",
    "for i, r in enumerate(corrs):\n",
    "    x, y = np.random.multivariate_normal([0, 0], [[1, r], [r, 1]], 500).T\n",
    "    plt.subplot(1, len(corrs), i + 1)\n",
    "    plt.plot(x, y, 'ro', ms=1)\n",
    "    plt.axis('equal')\n",
    "    plt.xticks([])\n",
    "    plt.yticks([])\n",
    "    plt.title(r\"$\\rho$={}\".format(r))\n",
    "plt.suptitle(\"Correlation coefficients and the shape of scatter plots\", y=1.1)\n",
    "plt.tight_layout()\n",
    "plt.show()"
   ]
  },
  {
   "cell_type": "markdown",
   "metadata": {},
   "source": [
    "#### (예) 공분산행렬\n",
    "다음과 같이 3차원 분포의 표본이 주어진 경우, 공분산 행렬과 모든 변수 쌍에 대한 분산플롯을 완성하시오.\n",
    "\n",
    "| Examples | $X_1$ | $X_2$ | $X_3$ |\n",
    "|---|---|---|---|\n",
    "| 1 | 2 | 2 | 4 |\n",
    "| 2 | 3 | 4 | 6 |\n",
    "| 3 | 5 | 4 | 2 |\n",
    "| 4 | 6 | 6 | 4 |\n",
    "\n"
   ]
  },
  {
   "cell_type": "code",
   "execution_count": 3,
   "metadata": {},
   "outputs": [
    {
     "name": "stdout",
     "output_type": "stream",
     "text": [
      "Mean  [4. 4. 4.]\n",
      "difference \n",
      " [[-2. -1.  1.  2.]\n",
      " [-2.  0.  0.  2.]\n",
      " [ 0.  2. -2.  0.]]\n",
      "covariance matrix \n",
      " [[ 2.5  2.  -1. ]\n",
      " [ 2.   2.   0. ]\n",
      " [-1.   0.   2. ]]\n"
     ]
    }
   ],
   "source": [
    "X = np.array([[2,3,5,6],[2,4,4,6],[4,6,2,4]])\n",
    "X_mean = np.mean(X, axis=1)\n",
    "print(\"Mean \", X_mean)\n",
    "X_diff = (X.T - X_mean).T\n",
    "print(\"difference \\n\", X_diff)\n",
    "X_cov = np.dot(X_diff, X_diff.T) / 4\n",
    "print(\"covariance matrix \\n\", X_cov)"
   ]
  },
  {
   "cell_type": "code",
   "execution_count": 4,
   "metadata": {},
   "outputs": [
    {
     "name": "stdout",
     "output_type": "stream",
     "text": [
      "Covariance Matrix \n",
      " [[ 2.5  2.  -1. ]\n",
      " [ 2.   2.   0. ]\n",
      " [-1.   0.   2. ]]\n",
      "Correlation Coefficient \n",
      " [[ 1.          0.89442719 -0.4472136 ]\n",
      " [ 0.89442719  1.          0.        ]\n",
      " [-0.4472136   0.          1.        ]]\n"
     ]
    },
    {
     "data": {
      "image/png": "[encoded data removed]",
      "text/plain": [
       "<Figure size 432x288 with 3 Axes>"
      ]
     },
     "metadata": {
      "needs_background": "light"
     },
     "output_type": "display_data"
    }
   ],
   "source": [
    "print(\"Covariance Matrix \\n\", np.cov(X, ddof=0))\n",
    "print(\"Correlation Coefficient \\n\", np.corrcoef(X))\n",
    "fig, (ax1, ax2, ax3) = plt.subplots(1, 3)\n",
    "fig.suptitle('Scatter plots for each different pair ')\n",
    "ax1.scatter(X[0,:],X[1,:])\n",
    "ax1.set_xlim(-2,10)\n",
    "ax1.set_ylim(1,8)\n",
    "ax1.set_title(\"x1 vs. x2\")\n",
    "ax2.scatter(X[1,:],X[2,:])\n",
    "ax2.set_xlim(-2,10)\n",
    "ax2.set_ylim(1,8)\n",
    "ax2.set_title(\"x2 vs. x3\")\n",
    "ax3.scatter(X[2,:],X[0,:])\n",
    "ax3.set_xlim(-2,10)\n",
    "ax3.set_ylim(1,8)\n",
    "ax3.set_title(\"x3 vs. x1\")\n",
    "plt.show()"
   ]
  }
 ],
 "metadata": {
  "kernelspec": {
   "display_name": "Python 3",
   "language": "python",
   "name": "python3"
  },
  "language_info": {
   "codemirror_mode": {
    "name": "ipython",
    "version": 3
   },
   "file_extension": ".py",
   "mimetype": "text/x-python",
   "name": "python",
   "nbconvert_exporter": "python",
   "pygments_lexer": "ipython3",
   "version": "3.7.6"
  }
 },
 "nbformat": 4,
 "nbformat_minor": 2
}
