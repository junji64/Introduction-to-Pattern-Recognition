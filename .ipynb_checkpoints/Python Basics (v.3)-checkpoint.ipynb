{
 "cells": [
  {
   "cell_type": "markdown",
   "metadata": {},
   "source": [
    "# Python Quick Tutorial (Jun Ji)\n",
    "\n",
    "from [cs231n's python tutorial](http://cs231n.github.io/python-numpy-tutorial/)\n",
    "\n",
    "파이썬은 그 자체로 훌륭한 범용 프로그래밍 언어이면서, 몇 가지 인기있는 라이브러리 (numpy, scipy, matplotlib)의 도움을 받아 과학분야 컴퓨팅을 위한 강력한 환경을 제공합니다.\n",
    "\n",
    "1. Hello World!\n",
    "2. Data Types\n",
    "    * Numbers\n",
    "    * Booleans\n",
    "    * Strings\n",
    "3. Containers\n",
    "    * List\n",
    "    * Dictionary\n",
    "    * Sets (Optional)\n",
    "    * Tuples (Optional)\n",
    "4. Function\n",
    "5. Classes and Objects (Optional)\n",
    "\n",
    "## 1. Hello World!"
   ]
  },
  {
   "cell_type": "code",
   "execution_count": 56,
   "metadata": {
    "scrolled": true
   },
   "outputs": [
    {
     "name": "stdout",
     "output_type": "stream",
     "text": [
      "Hello World!\n"
     ]
    }
   ],
   "source": [
    "print(\"Hello World!\") # 출력"
   ]
  },
  {
   "cell_type": "markdown",
   "metadata": {},
   "source": [
    "## 2. Data Types\n",
    "### Numbers"
   ]
  },
  {
   "cell_type": "code",
   "execution_count": 7,
   "metadata": {},
   "outputs": [
    {
     "name": "stdout",
     "output_type": "stream",
     "text": [
      "5 <class 'int'>\n",
      "6\n",
      "4\n",
      "10\n",
      "25\n",
      "2.5\n",
      "2\n",
      "1\n",
      "6\n",
      "12\n",
      "2.5 <class 'float'>\n",
      "2.5 3.5 1.5 5.0 6.25\n"
     ]
    }
   ],
   "source": [
    "x = 5 # 정수(integer)를 변수로 저장\n",
    "print(x, type(x)) # 변수 타입\n",
    "print(x + 1) # 덧셈\n",
    "print(x - 1) # 뺄셈\n",
    "print(x * 2) # 곱셈\n",
    "print(x ** 2) # 2의 제곱\n",
    "print(x / 2) # 나눗셈\n",
    "print(x // 2) # 몫 (quotient)\n",
    "print(x % 2) # 나머지 (remainder)\n",
    "x += 1; print(x) # 복합연산 (x = x + 1)\n",
    "x *= 2; print(x) # 복합연산 (x = x * 2)\n",
    "#===========================\n",
    "y = 2.5 # 실수(float)를 변수로 저장\n",
    "print(y, type(y))\n",
    "print(y, y + 1, y - 1, y * 2, y ** 2)"
   ]
  },
  {
   "cell_type": "markdown",
   "metadata": {},
   "source": [
    "**주의**: 많은 다른 언어와 달리 파이썬에는 단항 증가 (x++) 또는 감소 (x--) 연산자가 없습니다."
   ]
  },
  {
   "cell_type": "markdown",
   "metadata": {},
   "source": [
    "### Booleans\n",
    "\n",
    "파이썬은 불리언 논리에 대한 모든 일반적인 연산자를 구현하지만 기호(&&, || 등) 보다는 영어 단어(and, or, not)를 사용합니다."
   ]
  },
  {
   "cell_type": "code",
   "execution_count": 11,
   "metadata": {},
   "outputs": [
    {
     "name": "stdout",
     "output_type": "stream",
     "text": [
      "<class 'bool'>\n",
      "False\n",
      "True\n",
      "False\n",
      "True\n"
     ]
    }
   ],
   "source": [
    "t = True\n",
    "f = False\n",
    "print(type(t)) # 논리값 타입\n",
    "print(t and f) # True and False\n",
    "print(t or f) # True or False\n",
    "print(not t) # not True\n",
    "print(t != f) # True != (not equal) False"
   ]
  },
  {
   "cell_type": "markdown",
   "metadata": {},
   "source": [
    "### Strings\n",
    "\n",
    "파이썬은 문자열을 크게 지원합니다."
   ]
  },
  {
   "cell_type": "code",
   "execution_count": 5,
   "metadata": {},
   "outputs": [
    {
     "name": "stdout",
     "output_type": "stream",
     "text": [
      "hello\n",
      "5\n",
      "hello world\n",
      "\n",
      "Hi!\n",
      "    Good morning...\n",
      "        nice to meet you\n",
      "\n",
      "hello world 12\n",
      "hello 12\n"
     ]
    }
   ],
   "source": [
    "h = \"hello\" # 문자열을 변수로 저장\n",
    "w = 'world'\n",
    "print(h)\n",
    "print(len(h)) # 문자열의 길이\n",
    "hw = h + ' ' + w\n",
    "print(hw)\n",
    "greeting = '''\n",
    "Hi!\n",
    "    Good morning...\n",
    "        nice to meet you\n",
    "'''\n",
    "print(greeting)\n",
    "no = 12\n",
    "hw12 = f'{h} {w} {no}'  # After v 3.6 \n",
    "print(hw12)\n",
    "print(f'{h} {no}')"
   ]
  },
  {
   "cell_type": "markdown",
   "metadata": {},
   "source": [
    "String 객체는 유용한 메소드를 많이 가지고 있다."
   ]
  },
  {
   "cell_type": "code",
   "execution_count": 19,
   "metadata": {},
   "outputs": [
    {
     "name": "stdout",
     "output_type": "stream",
     "text": [
      "Hello\n",
      "HELLO\n",
      "     hello\n",
      " hello \n",
      "heggo\n",
      "world\n"
     ]
    }
   ],
   "source": [
    "s = \"hello\"\n",
    "print(s.capitalize()) # 첫글자를 대문자로\n",
    "print(s.upper()) # 대문자로\n",
    "print(s.rjust(10)) # 오른쪽으로 정렬 (왼쪽에 5개의 공백 (전체 너비 갯수 = 10))\n",
    "print(s.center(7)) # 중앙정렬\n",
    "print(s.replace('l', 'g')) # 'l'을 'g'로 대체 \n",
    "print('   world'.strip()) # 공백 지우기"
   ]
  },
  {
   "cell_type": "markdown",
   "metadata": {},
   "source": [
    "[모든 문자열 메서드 목록](https://docs.python.org/3.5/library/stdtypes.html#string-methods)"
   ]
  },
  {
   "cell_type": "markdown",
   "metadata": {},
   "source": [
    "## 5. Containers\n",
    "\n",
    "파이썬의 기본 내장 컨테이너 유형에는 : list, dictionary, set, tuple 등이 있습니다."
   ]
  },
  {
   "cell_type": "markdown",
   "metadata": {},
   "source": [
    "### 5.1 List\n",
    "\n",
    "리스트는 파이썬에서의 배열이지만, 크기를 조정할 수 있고 (resizeable), 다른 유형의 요소를 포함 할 수 있습니다."
   ]
  },
  {
   "cell_type": "code",
   "execution_count": 24,
   "metadata": {},
   "outputs": [
    {
     "name": "stdout",
     "output_type": "stream",
     "text": [
      "[3, 1, 2] 2\n",
      "2\n",
      "[3, 1, 'foo']\n",
      "[3, 1, 'foo', 'bar']\n",
      "bar [3, 1, 'foo']\n"
     ]
    }
   ],
   "source": [
    "xs = [3, 1, 2] # 리스트를 변수로 저장\n",
    "print(xs, xs[2]) # 2번째 인덱스에 있는 요소\n",
    "print(xs[-1]) # 마지막 인덱스 (negative indices count from the end of the list)\n",
    "xs[2] = 'foo' # 인덱스 안의 값을 바꿈\n",
    "print(xs)\n",
    "xs.append('bar') # 마지막 값으로 추가\n",
    "print(xs)\n",
    "x = xs.pop() # 마지막 요소를 끄집어내기\n",
    "print(x, xs) "
   ]
  },
  {
   "cell_type": "code",
   "execution_count": 28,
   "metadata": {},
   "outputs": [
    {
     "name": "stdout",
     "output_type": "stream",
     "text": [
      "[1, 2, 3]\n",
      "[1, 2, 3, 4]\n",
      "[1, 2, 3, 4, 'a']\n",
      "[1, 2]\n",
      "[1, 3, 4, 'a']\n",
      "[1, 3, 4]\n"
     ]
    }
   ],
   "source": [
    "list_1 = [1, 2, 3] # 변수명에 올 수 있는 기호: 문자, 숫자, 밑줄(_)\n",
    "print(list_1)\n",
    "list_1.append(4)\n",
    "print(list_1)\n",
    "list_1.append(\"a\")\n",
    "print(list_1)\n",
    "# List에 숫자, 문자 한꺼번에 넣을 수 있다. \n",
    "print(list_1[:2]) # 처음부터 2번 인덱스 전까지 (인덱스 0 에서 인덱스 1 까지)\n",
    "del list_1[1]\n",
    "print(list_1)\n",
    "list_1.pop()\n",
    "print(list_1)"
   ]
  },
  {
   "cell_type": "markdown",
   "metadata": {},
   "source": [
    "**Slicing**: 목록 요소를 한 번에 하나씩 액세스하는 것 외에도 Python은 하위 목록에 액세스하기위한 간결한 구문을 제공합니다. 이를 \"**Slicing**\" 이라 부릅니다"
   ]
  },
  {
   "cell_type": "code",
   "execution_count": 35,
   "metadata": {},
   "outputs": [
    {
     "name": "stdout",
     "output_type": "stream",
     "text": [
      "[0, 1, 2, 3, 4]\n",
      "[2, 3]\n",
      "[2, 3, 4]\n",
      "[0, 1]\n",
      "[0, 1, 2, 3, 4]\n",
      "[0, 1, 2, 3]\n",
      "[0, 1, 8, 9, 4]\n"
     ]
    }
   ],
   "source": [
    "nums = list(range(5)) # 0부터 시작해서 5라는 숫자 앞까지 숫자로 리턴 \n",
    "print(nums)\n",
    "print(nums[2:4]) # 2부터 4번 인덱스 전까지\n",
    "print(nums[2:]) # 2부터 마지막 인덱스 전까지\n",
    "print(nums[:2]) # 0부터 2번 인덱스 전까지\n",
    "print(nums[:]) # 0부터 마지막 인덱스 까지 \n",
    "print(nums[:-1]) # 0부터 마지막 인덱스 전까지\n",
    "nums[2:4] = [8, 9] # 2,3이 8,9로 바꿔치기됨\n",
    "print(nums)"
   ]
  },
  {
   "cell_type": "markdown",
   "metadata": {},
   "source": [
    "**Loops**: 다음과 같이 리스트의 요소들에 대하여 반복 할 수 있습니다."
   ]
  },
  {
   "cell_type": "code",
   "execution_count": 37,
   "metadata": {},
   "outputs": [
    {
     "name": "stdout",
     "output_type": "stream",
     "text": [
      "cat\n",
      "dog\n",
      "monkey\n"
     ]
    }
   ],
   "source": [
    "animals = ['cat', 'dog', 'monkey'] # 루프에 사용할 변수명\n",
    "for animal in animals:\n",
    "    print(animal) # indentation이 되어야 for의 영향권에 있음"
   ]
  },
  {
   "cell_type": "markdown",
   "metadata": {},
   "source": [
    "루프의 리스트에 있는 각 요소의 인덱스에 액세스하려면 내장된 enumerate 함수를 사용하십시오."
   ]
  },
  {
   "cell_type": "code",
   "execution_count": 38,
   "metadata": {},
   "outputs": [
    {
     "name": "stdout",
     "output_type": "stream",
     "text": [
      "#1: cat\n",
      "#2: dog\n",
      "#3: monkey\n"
     ]
    }
   ],
   "source": [
    "for idx, animal in enumerate(animals): # 루프에 활용할 변수명 (idx, animal)\n",
    "    print('#%d: %s' %(idx + 1, animal)) # idx: enumeration한 숫자의 순서를 가르켜주는 번호"
   ]
  },
  {
   "cell_type": "markdown",
   "metadata": {},
   "source": [
    "**List Comprehension**: 프로그래밍 할 때 종종 한 유형의 데이터를 다른 데이터로 변환할 경우가 있습니다. 간단한 예로, 제곱 값을 계산하는 다음 코드를 생각해 보십시오."
   ]
  },
  {
   "cell_type": "code",
   "execution_count": 41,
   "metadata": {},
   "outputs": [
    {
     "name": "stdout",
     "output_type": "stream",
     "text": [
      "[0, 1, 4, 9, 16]\n"
     ]
    }
   ],
   "source": [
    "nums = [0, 1, 2, 3, 4]\n",
    "squares = []\n",
    "for x in nums:\n",
    "    squares.append(x ** 2) # 전달받은 값 하나하나의 제곱값\n",
    "print(squares)"
   ]
  },
  {
   "cell_type": "markdown",
   "metadata": {},
   "source": [
    "**List Comprehension** 을 사용하여, 이 코드를 더 간단하게 만들 수 있습니다."
   ]
  },
  {
   "cell_type": "code",
   "execution_count": 43,
   "metadata": {},
   "outputs": [
    {
     "name": "stdout",
     "output_type": "stream",
     "text": [
      "[0, 1, 4, 9, 16]\n"
     ]
    }
   ],
   "source": [
    "squares = [x ** 2 for x in nums]\n",
    "print(squares)"
   ]
  },
  {
   "cell_type": "markdown",
   "metadata": {},
   "source": [
    "**List Comprehension** 은 또한 조건을 포함 할 수 있습니다."
   ]
  },
  {
   "cell_type": "code",
   "execution_count": 44,
   "metadata": {},
   "outputs": [
    {
     "name": "stdout",
     "output_type": "stream",
     "text": [
      "[0, 4, 16]\n"
     ]
    }
   ],
   "source": [
    "even_squares = [x ** 2 for x in nums if x % 2 == 0]\n",
    "print(even_squares)"
   ]
  },
  {
   "cell_type": "markdown",
   "metadata": {},
   "source": [
    "### 5.2 Dictionary\n",
    "\n",
    "Dictionary는 Java의 Map 또는 Javascript의 오브젝트와 유사한 (키, 값) 쌍을 저장합니다. 다음과 같이 사용할 수 있습니다."
   ]
  },
  {
   "cell_type": "code",
   "execution_count": 57,
   "metadata": {},
   "outputs": [
    {
     "name": "stdout",
     "output_type": "stream",
     "text": [
      "cute\n",
      "True\n",
      "wet\n",
      "N/A\n",
      "wet\n",
      "{'cat': 'cute', 'dog': 'furry'}\n",
      "N/A\n"
     ]
    }
   ],
   "source": [
    "d = {'cat':'cute', 'dog':'furry'}\n",
    "print(d['cat']) # 'cat'이라는 key값을 사용 \n",
    "print('cat' in d) # d에 'cat'값이 있는지 확인\n",
    "d['fish'] = 'wet'\n",
    "print(d['fish'])\n",
    "# print(d['monkey']) # KeyError: 'monkey' not a key of d\n",
    "print(d.get('monkey', 'N/A'))\n",
    "print(d.get('fish', 'N/A'))\n",
    "del d['fish'] # key값을 지우기\n",
    "print(d)\n",
    "print(d.get('fish', 'N/A'))"
   ]
  },
  {
   "cell_type": "markdown",
   "metadata": {},
   "source": [
    "**Loops** : dictionary의 키를 반복하는 것은 쉽습니다."
   ]
  },
  {
   "cell_type": "code",
   "execution_count": 49,
   "metadata": {},
   "outputs": [
    {
     "name": "stdout",
     "output_type": "stream",
     "text": [
      "A person has 2 legs\n",
      "A cat has 4 legs\n",
      "A spider has 8 legs\n"
     ]
    }
   ],
   "source": [
    "d = {'person':2, 'cat':4, 'spider':8}\n",
    "for animal in d:\n",
    "    legs = d[animal] # 하나의 특정한값을 접근하기 위해 [] 사용\n",
    "    print('A %s has %d legs' %(animal, legs))"
   ]
  },
  {
   "cell_type": "markdown",
   "metadata": {},
   "source": [
    "키와 해당 값에 액세스하려면 items 메서드를 사용합니다."
   ]
  },
  {
   "cell_type": "code",
   "execution_count": 58,
   "metadata": {},
   "outputs": [
    {
     "name": "stdout",
     "output_type": "stream",
     "text": [
      "A person has 2 legs\n",
      "A cat has 4 legs\n",
      "A spider has 8 legs\n"
     ]
    }
   ],
   "source": [
    "d = {'person':2, 'cat':4, 'spider':8}\n",
    "for animal, legs in d.items():\n",
    "    print('A %s has %d legs' % (animal, legs)) # key, value값 모두 리턴"
   ]
  },
  {
   "cell_type": "markdown",
   "metadata": {},
   "source": [
    "**Dictionary comprehension**: 이것은 **List Comprehension**과 유사하지만, 쉽게 사전을 구성 할 수 있게 해줍니다.\n",
    "예 :"
   ]
  },
  {
   "cell_type": "code",
   "execution_count": 55,
   "metadata": {},
   "outputs": [
    {
     "name": "stdout",
     "output_type": "stream",
     "text": [
      "{0: 0, 2: 4, 4: 16}\n"
     ]
    }
   ],
   "source": [
    "nums = [0, 1, 2, 3, 4]\n",
    "even_num_to_square = {x: x**2 for x in nums if x % 2 ==0} # 2의 배수만 골라서 넣어주기\n",
    "print(even_num_to_square)"
   ]
  },
  {
   "cell_type": "markdown",
   "metadata": {},
   "source": [
    "### 5.3 Sets (Optional)\n",
    "\n",
    "**Set**는 **고유한 요소들(distinct elements)**의 정렬되지 않은 콜렉션입니다. 간단한 예로서 다음을 고려하십시오."
   ]
  },
  {
   "cell_type": "code",
   "execution_count": 59,
   "metadata": {},
   "outputs": [
    {
     "name": "stdout",
     "output_type": "stream",
     "text": [
      "True\n",
      "False\n",
      "True\n",
      "3\n",
      "3\n",
      "2\n"
     ]
    }
   ],
   "source": [
    "animals = {'cat', 'dog'}\n",
    "print('cat' in animals)\n",
    "print('fish' in animals)\n",
    "animals.add('fish')\n",
    "print('fish' in animals)\n",
    "print(len(animals))\n",
    "animals.add('cat')\n",
    "print(len(animals))\n",
    "animals.remove('cat')\n",
    "print(len(animals))"
   ]
  },
  {
   "cell_type": "markdown",
   "metadata": {},
   "source": [
    "**Loops** : **Set**에 대하여 반복하는 것은 **List**에 대하여 반복하는 것과 동일한 구문을 사용합니다. 그러나 **Set**는 순서가 지정되지 않으므로 집합의 요소를 방문하는 순서에 대해 가정을 할 수 없습니다."
   ]
  },
  {
   "cell_type": "code",
   "execution_count": 60,
   "metadata": {},
   "outputs": [
    {
     "name": "stdout",
     "output_type": "stream",
     "text": [
      "#1: cat\n",
      "#2: fish\n",
      "#3: dog\n"
     ]
    }
   ],
   "source": [
    "animals = {'cat', 'dog', 'fish'}\n",
    "for idx, animal in enumerate(animals):\n",
    "    print('#%d: %s' % (idx + 1, animal))"
   ]
  },
  {
   "cell_type": "markdown",
   "metadata": {},
   "source": [
    "**Set Comprehension** : **List** 및 **Dictionary** 과 마찬가지로, **Set Comprehensions**를 사용하여 쉽게 세트를 구성 할 수 있습니다."
   ]
  },
  {
   "cell_type": "code",
   "execution_count": 61,
   "metadata": {},
   "outputs": [
    {
     "name": "stdout",
     "output_type": "stream",
     "text": [
      "{0, 1, 2, 3, 4, 5}\n"
     ]
    }
   ],
   "source": [
    "from math import sqrt\n",
    "nums = {int(sqrt(x)) for x in range(30)}\n",
    "print(nums)"
   ]
  },
  {
   "cell_type": "markdown",
   "metadata": {},
   "source": [
    "### 5.4 Tuples (Optional)\n",
    "\n",
    "튜플은 값의 **불변(변경이 불가함)** 순차 목록입니다. 튜플은 여러면에서 리스트와 유사합니다. 가장 중요한 차이점 중 하나는 튜플을 **Dictionary**의 키로 사용할 수 있고, **List**의 요소로 사용할 수 있다는 것입니다. 다음은 간단한 예입니다."
   ]
  },
  {
   "cell_type": "code",
   "execution_count": 63,
   "metadata": {},
   "outputs": [
    {
     "name": "stdout",
     "output_type": "stream",
     "text": [
      "{(0, 1): 0, (1, 2): 1, (2, 3): 2, (3, 4): 3, (4, 5): 4, (5, 6): 5, (6, 7): 6, (7, 8): 7, (8, 9): 8, (9, 10): 9}\n",
      "<class 'tuple'>\n",
      "5\n",
      "1\n"
     ]
    }
   ],
   "source": [
    "d = {(x, x + 1): x for x in range(10)}\n",
    "print(d)\n",
    "t = (5, 6)\n",
    "print(type(t))\n",
    "print(d[t])\n",
    "print(d[(1, 2)])"
   ]
  },
  {
   "cell_type": "markdown",
   "metadata": {},
   "source": [
    "## 6. Functions \n",
    "\n",
    "파이썬 함수는 **def** 키워드를 사용하여 정의됩니다. \n",
    "예 :"
   ]
  },
  {
   "cell_type": "code",
   "execution_count": 64,
   "metadata": {},
   "outputs": [
    {
     "name": "stdout",
     "output_type": "stream",
     "text": [
      "negative\n",
      "zero\n",
      "positive\n"
     ]
    }
   ],
   "source": [
    "def sign(x):\n",
    "    if x > 0:\n",
    "        return 'positive'\n",
    "    elif x < 0:\n",
    "        return 'negative'\n",
    "    else:\n",
    "        return 'zero'\n",
    "\n",
    "for x in [-1, 0, 1]:\n",
    "    print(sign(x))"
   ]
  },
  {
   "cell_type": "markdown",
   "metadata": {},
   "source": [
    "다음과 같이 선택적 키워드 인수를 취하는 함수를 정의합니다."
   ]
  },
  {
   "cell_type": "code",
   "execution_count": 6,
   "metadata": {},
   "outputs": [
    {
     "name": "stdout",
     "output_type": "stream",
     "text": [
      "Hello, Bob!\n",
      "HELLO, FRED!\n"
     ]
    }
   ],
   "source": [
    "def hello(name, loud=False): # loud의 default값 = False\n",
    "    if loud:\n",
    "        print(f'HELLO, {name.upper()}!')   \n",
    "    else:\n",
    "        print(f'Hello, {name}!')\n",
    "\n",
    "hello('Bob')\n",
    "hello('Fred', loud=True)"
   ]
  },
  {
   "cell_type": "markdown",
   "metadata": {},
   "source": [
    "## 7. Classes and Objects (Optional)\n",
    "\n",
    "파이썬에서 클래스를 정의하는 구문은 간단합니다."
   ]
  },
  {
   "cell_type": "code",
   "execution_count": 8,
   "metadata": {},
   "outputs": [
    {
     "name": "stdout",
     "output_type": "stream",
     "text": [
      "Hello, Fred!\n",
      "HELLO, FRED!\n"
     ]
    }
   ],
   "source": [
    "## 7. Classes\n",
    "\n",
    "class Greeter(object):\n",
    "    \n",
    "    # Constructor\n",
    "    def __init__(self, name):\n",
    "        self.name = name\n",
    "    \n",
    "    # Instance method\n",
    "    def greet(self, loud = False):\n",
    "        if loud:\n",
    "            print(f'HELLO, {self.name.upper()}!' )\n",
    "        else:\n",
    "            print(f'Hello, {self.name}!' )\n",
    "\n",
    "g = Greeter('Fred')\n",
    "g.greet()\n",
    "g.greet(loud=True)"
   ]
  },
  {
   "cell_type": "code",
   "execution_count": null,
   "metadata": {},
   "outputs": [],
   "source": []
  }
 ],
 "metadata": {
  "kernelspec": {
   "display_name": "Python 3",
   "language": "python",
   "name": "python3"
  },
  "language_info": {
   "codemirror_mode": {
    "name": "ipython",
    "version": 3
   },
   "file_extension": ".py",
   "mimetype": "text/x-python",
   "name": "python",
   "nbconvert_exporter": "python",
   "pygments_lexer": "ipython3",
   "version": "3.7.6"
  }
 },
 "nbformat": 4,
 "nbformat_minor": 4
}
