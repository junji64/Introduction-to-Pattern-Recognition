{
 "cells": [
  {
   "cell_type": "markdown",
   "metadata": {},
   "source": [
    "# 선형판별분석법 (Linear Discriminant Analysis: LDA)\n",
    "\n",
    "* **PCA (주성분 분석법)**은 데이타의 **최적 표현**의 견지에서 데이타 차원을 축소하는 방법으로, **클래스 라벨이 없는** 데이타에 대하여 주로 적용한다.\n",
    "\n",
    "\n",
    "* **LDA (선형판별 분석법)**은 데이타의 **최적 분류**의 견지에서 데이타 차원을 축소하는 방법으로, **클래스 라벨이 있는** 데이타에 대하여 적용한다.\n",
    "\n",
    "  - (목적) 클래스 간의 분별정보를 가능한 최대한 유지시키면서 차원을 축소\n",
    "  \n",
    "  - D-차원 표본 데이타 집합 $\\mathbf{X}=\\{\\mathbf{x}^{(1}, \\mathbf{x}^{(2}, \\cdots, \\mathbf{x}^{(N}\\}$ 가 주어진 경우,  \n",
    "    - $\\omega_1$클래스에 속하는 것이 $N_1$개이고,  \n",
    "    - $\\omega_2$클래스에 속하는 것이 $N_2$개 일  때,  \n",
    "  $\\mathbf{x}^{(i}$를 임의의 선 $\\mathbf{w}$를 따라서 사영하여 스칼라 $y$를 얻고자 한다.\n",
    "  $$ y = \\mathbf{w}^T \\mathbf{x} $$\n",
    "  \n",
    "  - 가능한 모든 선들 중에서 이러한 $\\omega_1$ 과 $\\omega_2$의 스칼라 값들의 분리를 최대화 하는 것을 선택한다.( 예: 2차원의 경우 다음과 같다)\n",
    "  \n",
    "  \n",
    "  \n",
    "<img src=\"./images/pca_lda.png\" width=\"450\">"
   ]
  },
  {
   "cell_type": "markdown",
   "metadata": {},
   "source": [
    "- 선형판별분석법(LDA)은 특징 공간 상에서 **클래스분리를 최대화** 하는 주축으로 사상시켜 선형 부공간으로 차원을 축소하는 방법이다.\n",
    "\n",
    "\n",
    "- 선형판별분석법(LDA)에서는 **클래스간 분산(between-class scatter)과 클래스내 분산(within-class scatter)의 비율을 최대화**하는 방식으로 데이타에 대한 특징벡터의 차원을 축소한다.\n",
    "\n",
    "\n",
    "$$ \\textbf{작다} < {\\textbf{클래스간 분산(between-class Scatter)} \\over \\textbf{클래스내 분산(within-class Scatter) }} < \\textbf{크다}$$\n",
    "\n",
    "\n",
    "<img src=\"images/bad.png\" width=\"250\" align=\"left\" > \n",
    "<img src=\"images/good.png\" width=\"250\"  align=\"clear\">\n"
   ]
  },
  {
   "cell_type": "markdown",
   "metadata": {},
   "source": [
    "### 2진 분류에 적용된 LDA\n",
    "어느 사영을 취하는 것이 좋을 것인가? ==> 좋은 사영을 찾기 위해서는 사영들 간의 분리정도를 측정할 수 있어야 한다.\n",
    "\n",
    "선형변환에 의한 사영\n",
    "$$ y = \\mathbf{w}^T \\mathbf{x} $$\n",
    "여기에서 $\\mathbf{w}: D\\times1$, $\\mathbf{x}: D\\times1$\n",
    "\n",
    "**평균을 기준 척도**로 하면, 각 클래스들의 $x$와 $y$ 에서의 평균벡터는 다음과 같다.\n",
    "$$ \\mathbf{\\mu}_i = {1 \\over N_i}\\sum_{x\\in\\omega_i} \\mathbf{x} $$\n",
    "$$ \\tilde{\\mu_i} = {1 \\over N_i}\\sum_{y\\in\\omega_i} y = {1 \\over N_i}\\sum_{x\\in\\omega_i}\\mathbf{w}^T \\mathbf{x} = \\mathbf{w}^T \\mathbf{\\mu}_i $$\n",
    "\n",
    "즉, 사영된 자료 $y$의 평균 $\\tilde{\\mu_i}$는 사영되기 이전 자료 $x$의 평균 $\\mathbf{\\mu}_i$가 사영된 값과 같다.\n",
    "\n",
    "<img src=\"./images/LDA-1.png\" width=\"300\">\n",
    "\n",
    "이 때 사영된 데이터들의 중심(평균) 간의 거리를 목적함수로 선택하면 \n",
    "\n",
    "$$ J(\\mathbf{w}) = \\bracevert \\tilde{\\mu_1} - \\tilde{\\mu_2} \\bracevert = \\bracevert \\mathbf{w}^T ( \\mathbf{\\mu}_1 - \\mathbf{\\mu}_2  )\\bracevert $$\n",
    "\n",
    "하지만, 이렇게 평균 만을 고려하면, 클래스 안에서의 표준편차가 고려되지 않으므로 좋은 척도가 아니다."
   ]
  },
  {
   "cell_type": "markdown",
   "metadata": {},
   "source": [
    "Fisher 에 의해서 제안된 방법은 **클래스내(within-class)의 스캐터로 정규화한 평균들 간의 차이**로 표현된 함수를 최대화 시키는 것이다.\n",
    "\n",
    "\n",
    "사영된 후에 각 클래스들에 대하여 스캐터 (공분산과 같은 개념)는 다음과 같이 주어지며\n",
    "\n",
    "$$ \\tilde {S_i} = \\sum_{y\\in\\omega_i} (y-\\tilde{\\mu_i})^2= \\sum_{y\\in\\omega_i} (y-\\tilde{\\mu_i})(y-\\tilde{\\mu_i})^T$$\n",
    "\n",
    "사영된 전체 표본들의 **클래스내 분산(within-class scatter)**은 다음과 같이 쓸 수 있다.\n",
    "\n",
    "$$ S_B = (\\tilde {S_1} + \\tilde {S_2} ) $$\n",
    "\n",
    "<img src=\"./images/LDA-2.png\" width=\"300\">\n",
    "\n",
    "따라서, **Ficher의 선형판별**은 다음의 목적함수를 최대화 하는 선형함수 $\\mathbf{w}^T \\mathbf{x}$에 해당한다.\n",
    "\n",
    "$$ J(\\mathbf{w}) = { \\bracevert \\tilde{\\mu_1} - \\tilde{\\mu_2}\\bracevert ^2 \\over \\tilde {S_1} + \\tilde {S_2} }$$\n",
    "\n",
    "따라서, Fisher의 선형판펼식은 \n",
    "* 동일한 클래스의 표본들은 인접하게 사영이 취해지고, \n",
    "* 동시에 클래스 간의 사영은 중심들이 가능한 멀리 떨어지게 하는 \n",
    "\n",
    "변환 벡터 또는 행렬($\\mathbf{w}$)를 찾아내는 것이다."
   ]
  },
  {
   "cell_type": "markdown",
   "metadata": {},
   "source": [
    "Q : 어떻게 변환행렬 $\\mathbf{w}$ 에 대한 함수로 표현되는 위의 목적함수 $J(\\mathbf{w})$를 최대화하는 변환행렬 $\\mathbf{w}$를 찾을 것인가?\n",
    "\n",
    "A : 최적의 사영 $\\bf{w}$를 구하기 위해서는 $J(\\bf{w})$를 $\\bf{w}$에 대한 함수로 표현해야 한다. \n",
    "\n",
    "다차원 특징공간에서 사영되기 이전 표본들의 스캐터행렬은 사영 후의 분산과 동일한 형태를 가진다.\n",
    "\n",
    "$$ \\bf{S}_i = \\sum_{x\\in\\omega_i} (x-\\mu_i)(x-\\mu_i)^T $$\n",
    "\n",
    "따라서, 클래스내 스캐터 (within-class scatter) 행렬 $$ \\bf{S}_w = \\bf{S}_1 + \\bf{S}_2  $$\n",
    "\n",
    "사영된 $\\bf{y}$의 스캐터를 특징백터 $\\bf{x}$의 스캐터 행렬의 함수로 다음과 같이 표현이 된다.\n",
    "\n",
    "\\begin{align*}\n",
    "\\bf{\\tilde S_i} &= \\sum_{y\\in\\omega_i} \\bf{(y-\\tilde{\\mu_i})(y-\\tilde{\\mu_i})^T} \\\\\n",
    "                  &= \\sum_{y\\in\\omega_i} \\bf{(w^Tx-w^T\\mu_i)(w^Tx-w^T\\mu_i)^T}\\\\\n",
    "                  & = \\sum_{y\\in\\omega_i} \\bf{w^T(x-\\mu_i)(x-\\mu_i)^T}w\\\\\n",
    "                  & =  \\bf{w^T S_i w} \\\\\n",
    "\\end{align*}\n",
    "따라서\n",
    "$$ \\bf { \\tilde {S}_w = \\tilde{S}_1 + \\tilde{S}_2 = w^T S_w w}$$\n",
    "\n"
   ]
  },
  {
   "cell_type": "markdown",
   "metadata": {},
   "source": [
    "마찬가지로 사영된 평균들 간의 차이 (즉, 분산)를 원래의 특징공간에서의 평균들 간의 차이로 다음과 같이 동일한 표현될 수 있다.\n",
    "\n",
    "\\begin{align*}\n",
    "( \\tilde{\\bf{\\mu}}_1 - \\tilde{\\bf{\\mu}}_2)^2  &= (\\bf{w}^T \\bf{\\mu}_1 - \\bf{w}^T \\bf{\\mu}_2)^2 \\\\\n",
    "                                          &= \\bf{w}^T(\\bf{\\mu}_1 - \\bf{\\mu}_2)(\\bf{\\mu}_1 - \\bf{\\mu}_2)^T \\bf{w}\\\\\n",
    "                                          &= \\bf{w^T} S_B \\bf{w} \\\\\n",
    "\\end{align*}\n",
    "\n",
    "\n",
    "$$ J(\\bf{w}) = {  \\tilde{S}_B  \\over \\tilde{S}_W  }  = { \\left| \\tilde{\\mu}_1-\\tilde{\\mu}_2 \\right|^2  \\over \\left( \\tilde{S}_1 + \\tilde{S}_2 \\right) } \\quad \\Rightarrow \\quad J(\\bf{w}) = { \\mathbf{w}^T S_B \\mathbf{w} \\over \\mathbf{w}^T S_W \\mathbf{w} } $$\n",
    "   \n",
    "   이처럼 $\\bf{S}_B$와 $\\bf{S}_W$로 표현된 이 목적함수를 최대로 하는 변환행렬 $\\bf{w}$ 를 어떻게 찾을 것인가?\n",
    "\n",
    "$J(\\bf{w})$의 최대값을 찾기 위해서는 $\\bf{w}$ 에 대하여 미분한 식을 0 으로 놓고, 이를 만족하는 $\\bf{w}$ 를 구하면 된다.\n",
    "\n",
    "<img src=\"./images/lda_object.png\" width=\"350\" >\n"
   ]
  },
  {
   "cell_type": "markdown",
   "metadata": {},
   "source": [
    "### LDA derivation \n",
    "\n",
    "$$ { d \\over d\\mathbf{w} } [ J(\\mathbf{w}) ] = { d \\over d\\mathbf{w} } { \\mathbf{w}^T S_B \\mathbf{w} \\over \\mathbf{w}^T S_W \\mathbf{w} } = 0 $$\n",
    "\n",
    "$$ { d[\\mathbf{w^T} S_B \\mathbf{w}] \\over  d\\mathbf{w}  } [\\mathbf{w^T} S_W \\mathbf{w}] - [\\mathbf{w^T} S_B \\mathbf{w}] { d[\\mathbf{w^T} S_W \\mathbf{w}] \\over  d\\mathbf{w}} = 0 \n",
    "\\quad  \\Leftarrow \\left( { f \\over g} \\right)' = { f'g -g'f \\over g^2 }$$\n",
    "\n",
    "$$ 2 S_B \\mathbf{w} [\\mathbf{w^T} S_W \\mathbf{w}] -  [\\mathbf{w^T} S_B \\mathbf{w}] 2 S_W \\bf{w} = 0 \n",
    "\\quad  \\Leftarrow { d[\\mathbf{w^T} S_B \\mathbf{w}] \\over  d\\mathbf{w}  } = 2 S_B \\mathbf{w}\n",
    "$$\n",
    "\n",
    "위의 식을 $\\mathbf{w^T} S_W \\mathbf{w}$ 로 나누고, 2를 제거하면\n",
    "\n",
    "$$ 2 S_B \\mathbf{w} \\left[{\\mathbf{w^T} S_W \\mathbf{w} \\over \\mathbf{w^T} S_W \\mathbf{w}} \\right] -  \\left[{\\mathbf{w^T} S_B \\mathbf{w}  \\over \\mathbf{w^T} S_W \\mathbf{w} } \\right] 2 S_W \\bf{w} = 0 $$\n",
    "\n",
    "$$ S_B \\mathbf{w} - J(\\mathbf{w}) S_W \\bf{w} = 0 $$\n",
    "\n",
    "$$ S_W^{-1} S_B \\mathbf{w} - J(\\mathbf{w}) \\bf{w} = 0 $$\n",
    "\n",
    "$$ S_W^{-1} S_B \\mathbf{w} =  J(\\mathbf{w}) \\bf{w}  $$\n",
    "\n",
    "이 식은, 다음의 고유값과 고유벡터의 정의와 같다.\n",
    "\n",
    "$$ \\mathbf{A}\\mathbf{u} = \\lambda \\mathbf{u} $$\n",
    "여기에서 $\\mathbf{A} =(S_W^{-1} S_B),  \\mathbf{u}= \\mathbf{w},  \\lambda = J(\\mathbf{w})$\n"
   ]
  },
  {
   "cell_type": "markdown",
   "metadata": {},
   "source": [
    "### Fisher's Linear Discriminant (Another approach to LDA)\n",
    "\n",
    "일반화한 고유값 문제 ($ S_W^{-1} S_B \\mathbf{w} =  J \\bf{w}$)의 또 다른 해법으로 \n",
    "\n",
    "$$ S_W^{-1} S_B  \\mathbf{w} = \\left[{\\mathbf{w^T} S_B \\mathbf{w}  \\over \\mathbf{w^T} S_W \\mathbf{w} } \\right] \\bf{w}$$\n",
    "\n",
    "$$ \\left[ {\\mathbf{w^T} S_B \\mathbf{w} } \\right]  S_W \\mathbf{w}  = \\left[{\\mathbf{w^T} S_W \\mathbf{w}  } \\right] S_B  \\mathbf{w}$$\n",
    "\n",
    "여기에서 $S_B \\mathbf{w}= (\\mu_1 - \\mu_2)  (\\mu_1 - \\mu_2)^T \\mathbf{w}$ 로서, $(\\mu1-\\mu2)$ 과 같은 방향의 벡터이므로,\n",
    "\n",
    "$$ \\left[ {\\mathbf{w^T} S_B \\mathbf{w} } \\right]  S_W \\mathbf{w}  = \\left[{\\mathbf{w^T} S_W \\mathbf{w}  } \\right] \\alpha_1 (\\mu_1 - \\mu_2) $$\n",
    "\n",
    "$$ S_W \\mathbf{w}  = \\left[{\\mathbf{w^T} S_W \\mathbf{w}  \\over \\mathbf{w^T} S_B \\mathbf{w} }  \\right]  \\alpha_1 (\\mu_1 - \\mu_2) $$\n",
    "\n",
    "$$ S_W \\mathbf{w}  =  \\alpha_2 \\alpha_1 (\\mu_1 - \\mu_2) $$\n",
    "\n",
    "$$ \\mathbf{w}  =  \\alpha_2 \\alpha_1  S_W^{-1}(\\mu_1 - \\mu_2) $$\n",
    "\n",
    "벡터 w 의 크기는 중요하지 않으므로 이를 무시하면\n",
    "\n",
    "$$ \\mathbf{w}^* = argmax_{\\mathbf{w}} \\left[ {\\mathbf{w^T} S_B \\mathbf{w} \\over \\mathbf{w^T} S_W \\mathbf{w} }  \\right] =  S_W^{-1}(\\mu_1 - \\mu_2) $$ \n",
    "이를 Fisher (1936)의 선형 판별식(LInear Discriminant) 이라 하며, LDA 방향을 구하는 또 다른 방법이다."
   ]
  },
  {
   "cell_type": "markdown",
   "metadata": {},
   "source": [
    "### Example\n",
    "\n",
    "다음의 2차원 데이타에 대한 선형판별사영을 구하라.\n",
    "\n",
    "$A =  \\{(4,1),(2,4),(2,3),(3,6),(4,4)\\}$\n",
    "\n",
    "$B= \\{(9,10),(6,8),(9,5),(8,7),(10,8)\\}$"
   ]
  },
  {
   "cell_type": "code",
   "execution_count": 90,
   "metadata": {},
   "outputs": [
    {
     "data": {
      "image/png": "[encoded data removed]",
      "text/plain": [
       "<matplotlib.figure.Figure at 0x7f4e0e88d748>"
      ]
     },
     "metadata": {},
     "output_type": "display_data"
    }
   ],
   "source": [
    "import matplotlib.pyplot as plt\n",
    "import numpy as np\n",
    "\n",
    "A = np.array([[4,1],[2,4],[2,3],[3,6],[4,4]])\n",
    "B = np.array([[9,10],[6,8],[9,5],[8,7],[10,8]])\n",
    "\n",
    "plt.plot(A[:,0],A[:,1], 'ro')\n",
    "plt.plot(B[:,0],B[:,1], 'bo')\n",
    "plt.axis('equal')\n",
    "plt.grid()\n",
    "plt.show()"
   ]
  },
  {
   "cell_type": "code",
   "execution_count": 95,
   "metadata": {},
   "outputs": [
    {
     "name": "stdout",
     "output_type": "stream",
     "text": [
      "mean_A =  [3.  3.6] ,  mean_B =  [8.4 7.6]\n",
      "S_A =  [[ 0.8  -0.4 ]\n",
      " [-0.4   2.64]] \n",
      "S_B =  [[ 1.84 -0.04]\n",
      " [-0.04  2.64]]\n",
      "S_within = \n",
      " [[ 2.64 -0.44]\n",
      " [-0.44  5.28]] \n",
      "S_between = \n",
      " [[29.16 21.6 ]\n",
      " [21.6  16.  ]]\n",
      "S_between / S_within =  [[11.89244558  8.80921895]\n",
      " [ 5.08194622  3.76440461]]\n",
      "eigenvalues =  [1.56568502e+01 4.44089210e-16]\n",
      "eigenvectors =  [[ 0.91955932 -0.59522755]\n",
      " [ 0.39295122  0.80355719]]\n",
      "LDA direction =  [0.91955932 0.39295122]\n",
      "Fisher's LDA =  [-2.20230474 -0.94110115]\n"
     ]
    }
   ],
   "source": [
    "mean_A = A.mean(axis=0)   # mean of A\n",
    "mean_B = B.mean(axis=0)   # mean of B\n",
    "print(\"mean_A = \", mean_A, \",  mean_B = \", mean_B)\n",
    "\n",
    "S_A = np.cov(A.T, bias=True)   # (biased) covariance of A\n",
    "S_B = np.cov(B.T, bias=True)   # (biased) covariance of B\n",
    "print(\"S_A = \", S_A, \"\\nS_B = \", S_B)\n",
    "\n",
    "S_within = S_A + S_B                      # Within class Scatterer\n",
    "mean_A_B = mean_A - mean_B\n",
    "S_between = np.outer(mean_A_B, mean_A_B)  # Between class Scatterer\n",
    "print(\"S_within = \\n\", S_within, \"\\nS_between = \\n\", S_between)\n",
    "\n",
    "C = np.dot(np.linalg.inv(S_within),S_between)\n",
    "print(\"S_between / S_within = \", C)\n",
    "\n",
    "w, v = np.linalg.eig(C)        # Eigenvalue & Eigenvector of  (S_between/S_within)\n",
    "print(\"eigenvalues = \", w)\n",
    "print(\"eigenvectors = \", v)\n",
    "print(\"LDA direction = \", v[:,0])     # Eigenvector of the biggist eigenvalue.\n",
    "\n",
    "w_2 = np.dot(np.linalg.inv(S_within), mean_A_B)   # Fisher's LDA Equation \n",
    "print(\"Fisher's LDA = \", w_2)"
   ]
  },
  {
   "cell_type": "code",
   "execution_count": 98,
   "metadata": {
    "scrolled": true
   },
   "outputs": [
    {
     "data": {
      "image/png": "[encoded data removed]",
      "text/plain": [
       "<matplotlib.figure.Figure at 0x7f4e0e581e48>"
      ]
     },
     "metadata": {},
     "output_type": "display_data"
    }
   ],
   "source": [
    "plt.plot(A[:,0],A[:,1], 'ro')\n",
    "plt.plot(B[:,0],B[:,1], 'bo')\n",
    "plt.axis('equal')\n",
    "plt.grid()\n",
    "plt.quiver( 14*v[0,0], 14*v[1,0], units='xy' ,scale=1)   # LDA direction\n",
    "\n",
    "plt.quiver(w_2[0], w_2[1], units='xy' ,scale=1, color=\"g\")   # Fisher's LDA direction\n",
    "\n",
    "A_proj = np.outer(np.dot(A,v[:,0]),v[:,0]).T  # Projected Data\n",
    "B_proj = np.outer(np.dot(B,v[:,0]),v[:,0]).T  # Projected Data\n",
    "plt.plot(A_proj[0],A_proj[1], 'rv')             # Projected Data\n",
    "plt.plot(B_proj[0],B_proj[1], 'bv')             # Projected Data\n",
    "plt.xlim([-2, 10])\n",
    "plt.ylim([-2, 12])\n",
    "\n",
    "plt.show()"
   ]
  },
  {
   "cell_type": "code",
   "execution_count": 110,
   "metadata": {},
   "outputs": [
    {
     "data": {
      "image/png": "[encoded data removed]",
      "text/plain": [
       "<matplotlib.figure.Figure at 0x7f4e0e8493c8>"
      ]
     },
     "metadata": {},
     "output_type": "display_data"
    },
    {
     "data": {
      "image/png": "[encoded data removed]",
      "text/plain": [
       "<matplotlib.figure.Figure at 0x7f4e0e1c2278>"
      ]
     },
     "metadata": {},
     "output_type": "display_data"
    }
   ],
   "source": [
    "from sklearn.discriminant_analysis import LinearDiscriminantAnalysis as LDA\n",
    "\n",
    "N = len(A)\n",
    "X = np.concatenate((A,B),axis=0)      # Each class's sample corresponds to each row.\n",
    "one = np.ones(N)\n",
    "two = 2*one\n",
    "y = np.concatenate((one,two), axis=None)\n",
    "\n",
    "sk_lda = LDA(n_components=1)\n",
    "X_lda = sk_lda.fit(X, y)\n",
    "plt.plot(X_lda.transform(X), 'rv') \n",
    "plt.show()\n",
    "\n",
    "plt.plot(X_lda.predict(X), 'rv') \n",
    "plt.show()"
   ]
  },
  {
   "cell_type": "markdown",
   "metadata": {},
   "source": [
    "### C-클래스 분류에 적용된 LDA\n",
    "Fisher의 LDA는 C-클래스 문제로 자연스럽게 일반화 될 수 있다. \n",
    "y 로의 단일 사영 대신에, (C-1)개의 사영벡터 $\\mathbf{w}_i$ 에 의한 (C-1) 개의 사영 $[y_1,y_2,...,y_{c-1}]$을 구하게 되며, 이때의 사영벡터들은 사영행렬 $\\mathbf{W}=[\\mathbf{w}_1|\\mathbf{w}_2|...|\\mathbf{w}_{c-1}]$ 의 열들로 정렬된다. \n",
    "\n",
    "$$ y_i = \\mathbf{w}_j^T \\mathbf{x} \\rightarrow \\mathbf{y} = \\mathbf{W}^T \\mathbf{x} $$\n",
    "\n",
    "\n",
    "클래스내 분산(within-class scatter) 의 일반화는  \n",
    "\n",
    "$$ \\mathbf{S}_{W} = \\sum_{i=1}^C \\mathbf{S}_i $$\n",
    "\n",
    "$$ \\mathbf{S}_{i} = \\sum_{x \\in \\omega_i} (\\mathbf{x} - \\mu_i)(\\mathbf{x} - \\mu_i)^T \n",
    "\\quad \\text{and }\\quad \n",
    "  \\mathbf{\\mu}_i = {1 \\over N_i} \\sum_{x \\in \\omega_i} \\mathbf{x}$$\n",
    "\n",
    "클래스간 분산(between-class scatter) 의 일반화는\n",
    "\n",
    "$$  \\mathbf{S}_B = \\sum_{i=1}^C N_i(\\mathbf{\\mu}_i -\\mathbf{\\mu})(\\mathbf{\\mu}_i-\\mathbf{\\mu})^T $$\n",
    "\n",
    "$$\\mathbf{\\mu} = {1 \\over N} \\sum_{\\forall x}^C \\mathbf{x} = {1 \\over N} \\sum_{x \\in \\omega} N_i \\mathbf{\\mu}_i$$\n",
    "\n",
    "$$ \\mathbf{S}_{T} = \\mathbf{S}_{B} + \\mathbf{S}_{W} $$ 는 총 스캐터 행렬이라고 한다.\n",
    "\n",
    "<img src=\"./images/LDA-C-classes.png\" width=\"300\">"
   ]
  },
  {
   "cell_type": "markdown",
   "metadata": {},
   "source": [
    "사영된 표본들에 대한 평균벡터와 스캐터행렬 : $\\tilde{\\mu}_i, \\tilde{\\mathbf{S}}_B, \\tilde{\\mathbf{S}}_W,$\n",
    "\n",
    "$$ \\tilde{\\mathbf{\\mu}}_i = {1 \\over N_i} \\sum_{y \\in \\omega_i} \\mathbf{y} $$\n",
    "\n",
    "$$ \\tilde{\\mathbf{\\mu}} = {1 \\over N_i} \\sum_{\\forall y} \\mathbf{y} $$\n",
    "\n",
    "$$ \\tilde{\\mathbf{S}}_W = \\sum_{i=1}^C \\sum_{y \\in \\omega_i} (\\mathbf{y} - \\tilde{\\mathbf{\\mu}}_i)(\\mathbf{y} - \\tilde{\\mathbf{\\mu}}_i)^T $$\n",
    "\n",
    "\n",
    "$$ \\tilde{\\mathbf{S}}_B = \\sum_{i=1}^C N_i (\\tilde{\\mathbf{\\mu}}_i - \\tilde{\\mathbf{\\mu}})(\\tilde{\\mathbf{\\mu}}_i - \\tilde{\\mathbf{\\mu}})^T $$\n",
    "\n",
    "\n",
    "$$ \\tilde{\\mathbf{S}}_W = \\mathbf{W}^T \\mathbf{S}_W \\mathbf{W} $$\n",
    "\n",
    "$$ \\tilde{\\mathbf{S}}_B = \\mathbf{W}^T \\mathbf{S}_B \\mathbf{W} $$\n",
    "\n",
    "사영이 이제는 더 이상 스칼라가 아니며 ($C-1$ 차원이다), 스칼라형태의 목적함수를 얻기 위해서 분산행렬의 행렬식을 사용한다. 따라서\n",
    "\n",
    "$$ J(W) = { |  \\tilde{\\mathbf{S}}_B | \\over |\\tilde{\\mathbf{S}}_W | } =\n",
    "{ |\\mathbf{W}^T \\mathbf{S}_B \\mathbf{W} | \\over | \\mathbf{W}^T \\mathbf{S}_W \\mathbf{W}| } $$\n",
    "\n",
    "를 최대화하는 최적의 사영행렬\n",
    "\n",
    "$$ \\mathbf{W}^* = [\\mathbf{w}_1^* | \\mathbf{w}_2^* | \\cdots | \\mathbf{w}_{C-1}^* ] =\n",
    "argmax \\left({ |\\mathbf{W}^T \\mathbf{S}_B \\mathbf{W} | \\over | \\mathbf{W}^T \\mathbf{S}_W \\mathbf{W}| }  \\right)\n",
    " \\Rightarrow (S_B -\\lambda_i S_W)\\mathbf{w}_i^* = 0 $$\n",
    " \n",
    "$\\mathbf{W}^*$ 는 위의 $\\mathbf{S}_W^{-1} \\mathbf{S}_B$ 에 대하여 일반화된 고유값 문제에서의 가장 큰 고유값들과 관련된 고유벡터들을 열로 하는 행렬이 된다."
   ]
  },
  {
   "cell_type": "markdown",
   "metadata": {},
   "source": [
    "### LDA의 두가지 접근법과 한계\n",
    "* **클래스-종속** 변환 : 이 접근법은 클래스간 분산과 각각의 클래스내 분산의 비율을 최대화 하는 방법이다. 이 변환의 주된 목적은, 적절한 클래스 분류 능력을 가지도록 (클래스간 분산과 클래스내 분산의) 비율을 최대화하는 변환법이다. 해당 클래스의 변환 행렬을 클래스마다 지정하여야 하므로 2클래스 분류에서는 두 개의 최적화된 변환 행렬을 사용하게 된다. 즉 $(\\mathbf{S}_{W_j}^{-1} \\mathbf{S}_B)$         의 고유값 문제를 푼다\n",
    "\n",
    "<img src=\"./images/class-dep.png\" width=\"250\">\n",
    "\n",
    "\n",
    "* **클래스-독립** 변환 :  이 접근법은 클래스간 분산과 전체의 클래스내 분산 비율을 최대화하는 방법이다. 이 방법은 데이터 집합을 변환하기 위해서 하나의 최적화된 변환 행렬을 사용하며, 모든 자료는 그들의 해당하는 클래스와 상관 없이 같은 변환을 사용한다. 이러한 종류의 LDA에서는 각각의 클래스는 모든 다른 클래스에 대하여 분리된 클래스로 간주된다. 즉  $(\\mathbf{S}_{W}^{-1} \\mathbf{S}_B)$  의 고유값 문제를 푼다\n",
    "\n",
    "<img src=\"./images/class-ind.png\" width=\"250\">\n"
   ]
  },
  {
   "cell_type": "markdown",
   "metadata": {},
   "source": [
    "### LDA Algorithm\n",
    "\n",
    "선형판별분석(클래스-종속)에 의한 변환행렬 구성 및 적용 방법\n",
    "\n",
    "1. **클래스간 분산(between-class scatter)** $S_B$ 를 구한다.\n",
    "\n",
    "$$ S_B = \\sum_{i=1}^C N_i(\\mu_i -\\mu)(\\mu_i-\\mu)^T $$\n",
    "여기에서 \n",
    "$$\\mu = {1 \\over N} \\sum_{\\forall x}^C \\mathbf{x} = {1 \\over N} \\sum_{x \\in \\omega} N_i \\mu_i  \\quad \\text{and }\\quad \n",
    " \\mu_i = {1 \\over N} \\sum_{x\\in \\omega_i} \\mathbf{x} $$\n",
    "\n",
    "2. 각각의 **클래스내 분산 (within-class scatter)** $S_{W_i}$ 를 구한다.\n",
    "\n",
    "$$ S_{W_i} = \\sum_{x \\in \\omega_i} (\\mathbf{x} - \\mu_i)(\\mathbf{x} - \\mu_i)^T $$\n",
    "또는, 클래스-독립 알고리즘의 경우에는\n",
    "$$ S_{W} = \\sum_i^C S_{W_i} $$\n",
    "\n",
    "3. 각각의 $S_{W_i}^{-1}S_B$에 대한 **고유값 분석**을 수행한다.\n",
    "이 때, i-클래스의 고유치들 중에서 q 개의 가장 큰 고유값 ($\\lambda_1, \\cdots, \\lambda_q$)에 해당하는 고유벡터\n",
    "($u_1, \\cdots, u_q$)를 선택하여, 이를 열로 하는 i-클래스의 **변환행렬** $W_i$ 를 구성한다.\n",
    "\n",
    "$$ \\mathbf{W}_i = [\\mathbf{u_1} \\cdots \\mathbf{u_q} ]$$\n",
    "\n",
    "4. 각각의 훈련자료들을 변환한다.\n",
    "\n",
    "$$ \\mathbf{y} = \\mathbf{W}_i^T \\mathbf{x} $$  \n",
    "\n",
    "\n",
    "5. (knn 방식의 분류) 임의의 시험자료들을 변환하여(using $W_i^T$), 변환된 훈련자료의 평균과 비교하여 클래스를 결정한다."
   ]
  },
  {
   "cell_type": "markdown",
   "metadata": {},
   "source": [
    "### LDA vs PCA\n",
    "냄새감지문제에서의 PCA와 LDA의 효용성 실험. - 다섯 종류의 커피빈을 화학가스감지기에 실험하였다. 각각의 커피에 대하여 45회 실험을 한 후에 가스감지반응을 처리하여 60차원의 특징벡터를 얻어 냈다.\n",
    "3차원 분산플롯결과는 LDA 가 PCA보다 클래스판별에 뛰어나다는 것을 명확히 보여주고 있다.\n",
    "\n",
    "<img src=\"./images/LDA-PCA-1.png\" width=\"400\">\n",
    "\n",
    "<img src=\"./images/LDA-PCA-2.png\" width=\"700\">"
   ]
  },
  {
   "cell_type": "markdown",
   "metadata": {},
   "source": [
    "[예제] Iris petal 분류\n",
    "\n",
    "* https://sebastianraschka.com/Articles/2014_python_lda.html\n",
    "\n",
    "[References]\n",
    "* http://courses.cs.tamu.edu/rgutier/cs790_w02/l6.pdf\n",
    "* http://www.sci.utah.edu/~shireen/pdfs/tutorials/Elhabian_LDA09.pdf\n"
   ]
  }
 ],
 "metadata": {
  "kernelspec": {
   "display_name": "Python 3",
   "language": "python",
   "name": "python3"
  },
  "language_info": {
   "codemirror_mode": {
    "name": "ipython",
    "version": 3
   },
   "file_extension": ".py",
   "mimetype": "text/x-python",
   "name": "python",
   "nbconvert_exporter": "python",
   "pygments_lexer": "ipython3",
   "version": "3.7.6"
  }
 },
 "nbformat": 4,
 "nbformat_minor": 2
}
