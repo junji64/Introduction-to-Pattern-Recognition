{
 "cells": [
  {
   "cell_type": "markdown",
   "metadata": {
    "collapsed": true
   },
   "source": [
    "## 3. 기초 통계 및 확률 이론\n",
    "\n",
    "\n",
    "* 패턴인식에서는 통계학적인 여러 가지 기법들을 이용하여 이미 알려진 자료에 대한 **통계적인 분석이 필수**\n",
    "* 불확실성 하에서 미지의 데이터가 속하는 카테고리들에 대한 판별 결정을 위한 방법으로 **확률적인 여러 기법들 사용**\n",
    "* **확률을 이용**하여 미지의 자료가 **어느 카테고리에 속하는가를 결정**하고 인식\n",
    "\n",
    "#### 통계 용어\n",
    "* **모집단 (population)** : 데이터 분석의 관심이 되는 전체 대상, 분석하고자 하는 **대상의 전체집합**\n",
    "* **표본 (sample)** : 모집단의 특성을 파악하기 위해서 수집된 모집단의 일 부분인 개별 자료, 모집단으로부터 임의로 추출된 **모집단의 부분집합**\n",
    "* **표본 분포 (sampling distribution)** : 동일한 모집단으로부터 취해진 동일한 크기의 모든 가능한 **표본으로부터 얻어진 통계값들의 분포**\n",
    "\n",
    "<img src=\"images/population.png\" width=\"350\" align=\"left\">\n",
    "<img src=\"images/sample_distribution.gif\" width=\"450\">"
   ]
  },
  {
   "cell_type": "markdown",
   "metadata": {},
   "source": [
    "### 통계 파라미터 (모수: 모집단의 특성을 요약한 값)\n",
    "\n",
    "**평균 (mean)** : 평균은 자료의 총합을 자료의 개수로 나눈 것을 말한다.\n",
    "\n",
    "$$ \\bar{x} = \\sum_{i=1}^{n} { x_i \\over n} $$\n",
    "\n",
    "Let $ x_{(1)} = \\{3, 4, 5, 4, 3, 4, 5\\} $, then  $\\bar{x}_{(1)} = {28 \\over 7} = 4$\n",
    "\n",
    "Let $ x_{(2)} = \\{1, 2, 3, 4, 5, 6, 7\\} $, then  $\\bar{x}_{(2)} = {28 \\over 7} = 4$\n",
    "\n",
    "Let $ x_{(3)} = \\{4, 4, 4, 4, 4, 4, 4\\} $, then  $\\bar{x}_{(3)} = {28 \\over 7} = 4$"
   ]
  },
  {
   "cell_type": "code",
   "execution_count": 41,
   "metadata": {},
   "outputs": [
    {
     "name": "stdout",
     "output_type": "stream",
     "text": [
      "x_1 : [3 4 5 4 3 4 5] ==> mean : 4.0\n",
      "x_2 : [1 2 3 4 5 6 7] ==> mean : 4.0\n",
      "x_3 : [4 4 4 4 4 4 4] ==> mean : 4.0\n"
     ]
    }
   ],
   "source": [
    "import numpy as np\n",
    "\n",
    "x_1 = np.array([3,4,5,4,3,4,5])\n",
    "print('x_1 :', x_1 ,\"==> mean :\", x_1.mean())\n",
    "\n",
    "x_2 = np.array([1,2,3,4,5,6,7])\n",
    "print('x_2 :', x_2 ,\"==> mean :\", x_2.mean())\n",
    "\n",
    "x_3 = np.array([4,4,4,4,4,4,4])\n",
    "print('x_3 :', x_3 ,\"==> mean :\", x_3.mean())"
   ]
  },
  {
   "cell_type": "markdown",
   "metadata": {},
   "source": [
    "**분산 (variance)** : 자료로부터 평균값의 차이에 대한 제곱 값의 평균을 분산이라고 하는데, **자료의 흩어진 정도**를 나타낸다. (때때로 편향되지 않은 (unbiased) 분산으로 n 대신에 n-1 로 나눈 것이 사용되기도 한다. 본 강의에서는 편의상 편향된(biased) 분산을 사용한다.)\n",
    "\n",
    "$$ s^2 = \\sum_{i=1}^{n} { (x_i - \\bar{x})^2 \\over n} $$\n",
    "\n",
    "$$ s_1^2 = {(1+0+1+0+1+0+1) \\over 7 }= { 4 \\over 7} = 0.57 $$\n",
    "\n",
    "$$ s_2^2 = {(9+4+1+0+1+4+9) \\over 7 }= { 28 \\over 7} = 4 $$\n",
    "\n",
    "$$ s_3^2 = {(0+0+0+0+0+0+0) \\over 7 }= 0$$"
   ]
  },
  {
   "cell_type": "code",
   "execution_count": 42,
   "metadata": {},
   "outputs": [
    {
     "name": "stdout",
     "output_type": "stream",
     "text": [
      "x_1's variance : 0.5714285714285714\n",
      "x_1's variance : 0.5714285714285714\n",
      "x_2's variance : 4.0\n",
      "x_2's variance : 4.0\n",
      "x_3's variance : 0.0\n",
      "x_3's variance : 0.0\n"
     ]
    }
   ],
   "source": [
    "print(\"x_1's variance :\", np.mean((x_1 - x_1.mean())**2) ) \n",
    "print(\"x_1's variance :\", x_1.var() )\n",
    "\n",
    "print(\"x_2's variance :\", np.mean((x_2 - x_2.mean())**2))\n",
    "print(\"x_2's variance :\", x_2.var())\n",
    "\n",
    "print(\"x_3's variance :\", np.mean((x_3- x_3.mean())**2))\n",
    "print(\"x_3's variance :\", x_3.var())"
   ]
  },
  {
   "cell_type": "markdown",
   "metadata": {},
   "source": [
    "**표준 편차 (standard deviation)** : 분산은 자료의 단위와 달라지므로 분산의 제곱근을 취하여 **자료의 단위와 일치**시킨 것을 표준 편차라고 한다.(때때로 편향되지 않은 (unbiased) 표준편차로 n 대신에 n-1 로 나눈 것이 사용되기도 한다. 본 강의에서는 편의상 편향된(biased) 표준편차를 사용한다.)\n",
    "\n",
    "$$ s = \\sqrt{s^2} =  \\sqrt{\\sum_{i=1}^{n} { (x_i - \\bar{x})^2\\over n}} $$\n",
    "\n",
    "$$ s_1 = \\sqrt{ {4\\over 7} } = 0.756$$\n",
    "\n",
    "$$ s_2 = \\sqrt {4} = 2$$\n",
    "\n",
    "$$ s_3 = \\sqrt {0}  = 0 $$\n"
   ]
  },
  {
   "cell_type": "code",
   "execution_count": 43,
   "metadata": {},
   "outputs": [
    {
     "name": "stdout",
     "output_type": "stream",
     "text": [
      "x_1's standard deviation : 0.7559289460184544\n",
      "x_1's standard deviation : 0.7559289460184544\n",
      "x_2's standard deviation : 2.0\n",
      "x_2's standard deviation : 2.0\n",
      "x_3's standard deviation : 0.0\n",
      "x_3's standard deviation : 0.0\n"
     ]
    }
   ],
   "source": [
    "print(\"x_1's standard deviation :\", np.sqrt(np.mean((x_1 - x_1.mean())**2)))\n",
    "print(\"x_1's standard deviation :\", x_1.std())\n",
    "\n",
    "print(\"x_2's standard deviation :\", np.sqrt(np.mean((x_2 - x_2.mean())**2)))\n",
    "print(\"x_2's standard deviation :\", x_2.std())\n",
    "\n",
    "print(\"x_3's standard deviation :\", np.sqrt(np.mean((x_3 - x_3.mean())**2)))\n",
    "print(\"x_3's standard deviation :\", x_3.std())"
   ]
  },
  {
   "cell_type": "markdown",
   "metadata": {},
   "source": [
    "**공분산 (covariance)** : 공분산이란 두 개 이상의 변량 데이터가 주어질 경우에 각 변량 간의 변화하는 양상을 나타내는 통계적 척도이다. 표본의 랜덤 데이터가 이변량 데이터(bivariate) $(x_i, y_i)$일 경우의 공분산은 다음과 같이 계산된다.\n",
    "\n",
    "$$ C(x,y) = {1 \\over N} \\sum_{i=1}^{n} { (x_i - \\bar{x})(y_i - \\bar{y})} $$\n",
    "\n",
    "여기에서 $ \\bar{x} = \\sum_{i=1}^{n} { x_i / n} $  이고,  $ \\bar{y} = \\sum_{i=1}^{n} { y_i / n} $ 이다.\n",
    "\n",
    "\n",
    "\n",
    "**상관 계수 (correlation coefficient)** : 두 변량 $x, y$ 사이의 상관관계의 정도를 나타내는 수치(계수)를 상관계수 (correlation) $\\rho$ 라고 한다.\n",
    "\n",
    "$$ \\rho_{xy} = {C(x,y) \\over s_x s_y} = {C(x,y) \\over \\sqrt{s_x^2} \\sqrt{s_y^2}} $$\n",
    "\n",
    "$$ 0 \\le |\\rho_{xy} | \\le 1 $$"
   ]
  },
  {
   "cell_type": "code",
   "execution_count": 44,
   "metadata": {},
   "outputs": [
    {
     "name": "stdout",
     "output_type": "stream",
     "text": [
      "covariance of x_1 and x_2 is :  -2.0\n",
      "correlation coefficient of x_1 and x_2 is :  -1.3228756555322954\n"
     ]
    }
   ],
   "source": [
    "x1_diff = x_1 - x_1.mean()\n",
    "x2_diff = x_2 - x_2.mean()\n",
    "x12_cov = np.mean(x_diff*y_diff)\n",
    "print(\"covariance of x_1 and x_2 is : \", x12_cov)\n",
    "print(\"correlation coefficient of x_1 and x_2 is : \", x12_cov/(x_1.std()*x_2.std()) )"
   ]
  },
  {
   "cell_type": "code",
   "execution_count": 45,
   "metadata": {},
   "outputs": [
    {
     "name": "stdout",
     "output_type": "stream",
     "text": [
      "covariance of x and y is :  -2.0\n",
      "covariance of x and y is :  -0.9999999999999998\n"
     ]
    }
   ],
   "source": [
    "x = np.arange(5)         # [0,1,2,3,4]\n",
    "y = np.arange(4,-1,-1)   # [4,3,2,1,0]\n",
    "x_diff = x - x.mean()\n",
    "y_diff = y - y.mean()\n",
    "xy_cov = np.mean(x_diff*y_diff)\n",
    "print(\"covariance of x and y is : \", xy_cov)\n",
    "xy_corrcoef = xy_cov / (x.std()*y.std())\n",
    "print(\"covariance of x and y is : \", xy_corrcoef)\n",
    "#print(\"covariance matrix of x and y is : \\n\", np.cov(x,y, ddof=0))     # ddof=1 is for unbiased estimate. i.e. divided by (N-1) instead of (N)\n",
    "#print(\"correlation coefficient of x and y is : \\n\", np.corrcoef(x,y))  # correlation coefficient"
   ]
  },
  {
   "cell_type": "markdown",
   "metadata": {},
   "source": [
    "### Example\n",
    "\n",
    "어느 학생 집단에서 주당 도서관에 있는 시간을 $x_1$, 패턴인식 과목 점수를 $x_2$, 주당 강의 결석시간을 $x_3$라 할 때, 다음과 같은 데이터가 수집되었다.$(x_1,x_2)$ 그리고 $(x_2,x_3)$ 에 대한 **상관관계**를 상관계수를 구해 알아보라.\n",
    "\n",
    "| $x_1$ | $x_2$  | $x_3$  |\n",
    "|---|---|---|\n",
    "| 35  | 11  |  0.5 |\n",
    "| 5   | 12  |  0 |\n",
    "| 0  | 5  | 10 |\n",
    "| 10 | 9  | 4.5  |\n",
    "| 15 | 8  | 5  |"
   ]
  },
  {
   "cell_type": "code",
   "execution_count": 50,
   "metadata": {},
   "outputs": [
    {
     "name": "stdout",
     "output_type": "stream",
     "text": [
      "15.0 9.0 4.0\n",
      "150.0 6.0 13.1\n",
      "14.0 -23.5 -8.8\n",
      "0.46666666666666673 -0.5301351308840563 -0.9925934365488716\n"
     ]
    }
   ],
   "source": [
    "x_1 = np.array([35, 5, 0, 20,15])\n",
    "x_2 = np.array([11,12, 5, 9, 8])\n",
    "x_3 = np.array([0.5, 0, 10, 4.5, 5])\n",
    "x_1_mean = x_1.mean()\n",
    "x_2_mean = x_2.mean()\n",
    "x_3_mean = x_3.mean()\n",
    "print(x_1_mean, x_2_mean, x_3_mean)\n",
    "x_1_var = x_1.var()\n",
    "x_2_var = x_2.var()\n",
    "x_3_var = x_3.var()\n",
    "print(x_1_var, x_2_var, x_3_var)\n",
    "x1_diff = x_1 - x_1.mean()\n",
    "x2_diff = x_2 - x_2.mean()\n",
    "x3_diff = x_3 - x_3.mean()\n",
    "x_12_cov = np.mean(x1_diff*x2_diff)\n",
    "x_13_cov = np.mean(x1_diff*x3_diff)\n",
    "x_32_cov = np.mean(x3_diff*x2_diff)\n",
    "print( x_12_cov, x_13_cov, x_32_cov)\n",
    "x_12_corrcoef = x_12_cov / ( x_1.std() * x_2.std())\n",
    "x_13_corrcoef = x_13_cov / ( x_1.std() * x_3.std())\n",
    "x_32_corrcoef = x_32_cov / ( x_3.std() * x_2.std())\n",
    "print( x_12_corrcoef, x_13_corrcoef, x_32_corrcoef)\n",
    "#x_total = np.array([x_1, x_2, x_3])  # or x_total = np.stack((x_1, x_2, x_3), axis=0)\n",
    "#print(x_total)\n",
    "#print('Covariance matrix : \\n', np.cov(x_total, ddof=0))\n",
    "#X_cc = np.corrcoef(x_total)\n",
    "#print('Correlation Coefficients : \\n', X_cc)\n",
    "#print(f'rho(x1,x2) :{X_cc[1][0]:3.2}')\n",
    "#print(f'rho(x2,x3) :{X_cc[1][2]:3.2}')\n",
    "#print(f'rho(x3,x1) :{X_cc[2][0]:3.2}')"
   ]
  },
  {
   "cell_type": "markdown",
   "metadata": {},
   "source": [
    "| 모수 |  $x_1$  |  $x_2$  | $x_3$  |\n",
    "|------|-------|-------|-------|\n",
    "| 평균 | 15  | 9  |  4 |\n",
    "| 분산 | 150.0 | 6.0  |  13.1 |\n",
    "|------| $(x_1,x_2)$  |$(x_2,x_3)$|$(x_3,x_1)$ |\n",
    "| 공분산 |14 | -8.8 |  -23.5 |\n",
    "|상관계수 |  0.47 | -0.99  | -0.53  |"
   ]
  },
  {
   "cell_type": "markdown",
   "metadata": {},
   "source": [
    "### 확률 용어 정리\n",
    "\n",
    "**통계적 현상(statistical phenomena)** : 불확정 현상을 **반복하여 관찰**하거나 혹은 집단 안에서 대량으로 관찰하거나 하여 그 현상 **고유의 법칙성을 찾아내는 것이 가능한 현상**.\n",
    "\n",
    "**확률 실험 (Random experimental, trial)** : \n",
    "1. 같은 조건 아래에서 반복할 수 있으며,\n",
    "2. 시행의 결과는 매 번 우연적으로 변하므로 예측할 수 없으나, 가능한 모든 결과의 집합을 알 수 있으며,\n",
    "3. 시행을 반복할 때 낱낱의 결과는 불규칙하게 나타나지만, 반복의 수를 늘이면 어떤 규칙성이 나타나는 특징을 가지는 행위를 \"**확률 실험**\"이라고 한다.\n",
    "\n",
    "**확률 변수 (Random variable)** : 확률 실험의 결과를 말한다.\n",
    "확률(probability)이란 이러한 **통계적 현상의 확실함의 정도**를 나타내는 척도이다.\n",
    "즉, 랜덤 시행에서 어떠한 사건이 일어날 정도를 나타내는 사건에 할당된 수들을 말한다.\n",
    "\n",
    "**확률 법칙**이란 랜덤 시행에서 사건에 확률을 할당하는 규칙을 말한다.\n",
    "\n",
    "랜덤 시행의 **표본 공간 S**가 모든 가능한 출력 집합이 된다.\n",
    "\n",
    "<img src=\"images/probability.png\" width=400>"
   ]
  },
  {
   "cell_type": "markdown",
   "metadata": {},
   "source": [
    "**수학적 확률** : 표본공간 S의 **각 근원 사건이 일어날 가능성이 동등할 때**, 사건 A에 대하여 **n(A)/n(S)** 을 사건 A 의 수학적 확률이라고 한다. (여기에서 n(A), n(S) 는 각각 A, S 에 속하는 표본의 개수를 말함)\n",
    "\n",
    "**통계적 확률** : 일반적인 자연 현상이나 사회 현상에는 일어날 가능성이 동일한 현상은 드물 뿐만 아니라, **일어날 가능성이 동일한지 어떤지가 분명하지 않는 경우**가 대부분이다. 이러한 때에는 시행을 여러 번 반복하여 문제의 사건이 일어나는 확률을 **상대도수에 의하여 추정**하게 된다. 여기서 상대도수는 **n 회의 시행에서 문제의 사건이 r 회 일어났다고 하면 r/n** 이 된다. 이와 같이 추정되는 확률을 통계적 확률이라고 한다. 일정한 조건 아래에서 시행을 n 회 반복할 때 사건 A의 상대도수 r/n 이, n 이 커짐과 더불어 일정한 값 p 에 수렴하는 경향이 있으면, 이 p를 사건 A의 “통계적 확률” 또는 “확률”이라고 하고 기호 P(A)로 나타낸다. \n",
    "\n",
    "**사건과 배반 사건** : 우리가 관심을 갖는 것이 어떤 랜덤 시행에서 개별적으로 발생할 결과일 수도 있고, 또한 몇 가지의 복합된 결과의 집합이 될 수도 있다. 이러한 복합된 **결과를 \"사건\"**이라고 한다. 그러므로 어떤 사건의 확률은 그 사건에 포함되어 있는 각 결과의 발생 확률의 합으로 나타낸다.\n",
    "그리고 **두 사건 A, B가 동시에 일어날 수 없을 때** A, B는 서로 **배반**한다고 한다."
   ]
  },
  {
   "cell_type": "markdown",
   "metadata": {},
   "source": [
    "**표본 공간(sample space)** 과 **확률 공간**\n",
    "\n",
    "관찰할 면을 지정한다. ==>  일어날 수 있는 결과의 범위를 규정한다. ==> 그 범위 내의 각 결과에 기호를 대응시킨다.\n",
    "\n",
    "이와 같이 하여 얻어진 **기호화된 결과의 집합을 \"표본 공간\"** 이라고 한다. 이 때,\n",
    "* 표본 공간의 원소를 \"**표본점**\"이라 하고\n",
    "* 표본 공간의 부분 집합을 \"**사건**\",\n",
    "* 오직 한 표본점으로 이루어진 사건을 \"**근원 사건**\"이라고 한다.\n",
    "* 그리고 표본 공간을 확률까지 대응시킨 결과의 집합이라 생각할 때의 공간을 \"**확률 공간**\" 이라 한다. 즉, 확률 공간이란 확률 실험에서 가능한 모든 결과의 집합을 말한다.\n",
    "\n",
    "**확률의 공리 (axioms)** : 확률실험에서 $S$를 표본 공간, $A_i$를 사건, $\\emptyset$ 를 공집합이라 할 때, 확률은 항상 다음 조건을 만족한다.\n",
    "* Axiom I : $ 0 \\le P[A_i] $ ==> 확률은 항상 0 보다 크거나 같아야 한다.\n",
    "* Axiom II : $P[S] = 1$  ==> 확률은 모두 더하면 1이 되어야 한다.\n",
    "* Axiom III : $ \\text{if } A_i \\cap A_j = \\emptyset, \\text{ then } P[A_i \\cup A_j] = P[A_i] + P[A_j]$\n",
    "\n",
    "**확률에 관한 성질 (property)**\n",
    "* 성질 1: $P[A^c] = 1 - P[A]$ : 여집합의 확률 - 어떤 사건의 여집합인 사건의 확률은 (1 - 원래 사건의 확률)과 같다.\n",
    "* 성질 2: $P[A] \\le 1$ : \n",
    "* 성질 3: $P[\\emptyset] = 0$ : 공집합의 확률 - 공집합인 사건의 확률은 0 이다.\n",
    "* 성질 4: $\\{A_1, A_2, \\cdots, A_N \\} \\text{이 주어질 때, 만약} \\{A_i \\cap A_j = \\emptyset \\forall{i,j} \\} \\text{이면, } P[\\cup_{k=1}^N A_k] = \\sum_{i=1}^N P[A_k] $\n",
    "* 성질 5: $P[A_1 \\cup A_2] = P[A_1] + P[A_2] - P[A_1 \\cap A_2] $ : 포함-배제의 원리(Inclusion–exclusion principle) - 두 사건의 합집합의 확률은 각 사건의 확률의 합에서 두 사건의 교집합의 확률을 뺀 것과 같다.\n",
    "* 성질 6: $P[\\cup_{k=1}^N A_k] = \\sum_{i=1}^N P[A_k] -\\sum_{j<k}^N P[A_k \\cap A_j] + \\cdots + (-1)^{N+1}  P[A_1 \\cap A_2 \\cap \\cdots \\cup A_N] $\n",
    "* 성질 7: 만약 $A_1 \\subset A_2$ 이면, $P[A_1] \\le P[A_2]$\n"
   ]
  },
  {
   "cell_type": "markdown",
   "metadata": {},
   "source": [
    "**주변 확률 (marginal probability)** : 어떤 하나의 사건이 일어날 단순한 확률로 **아무 조건이 붙지 않는 확률** \n",
    "\n",
    "**조건부 확률 (conditional probability)** : A와 B 두 개의 사건이 있을 경우, 사건 B가 일어날 확률이 이미 알려져 있을 경우에 사건 A가 일어날 확률로서, **P[A|B]** 는 “**B가 일어났다고 가정할 때, A의 조건부 확률**” 또는 “**주어진 B에 대한 A의 확률**”이라 한다. \n",
    "$$ P[B] > 0 \\text{ 에 대하여 } P[A|B] = {P[A \\cap B] \\over P[B]} $$\n",
    "\n",
    "<img src='./images/conditional.png' width=400>\n",
    "\n",
    "Ex: 주사위 눈금이 3이 나올 확률은 1/6 이다. 만약 눈금이 홀수가 나왔다는 사실을 알고 있다면 (주어졌다면), 눈금이 3일 확률은 (1/6)/(1/2) = 1/3 이다.\n"
   ]
  },
  {
   "cell_type": "markdown",
   "metadata": {},
   "source": [
    "**결합 확률** \n",
    "\n",
    "조건부 확률로부터  **P[B]P[A|B] = P(A∩B)** 또는  **P[A]P[B|A] = P(A∩B)** 가 성립한다. A와 B 사건이 동시에 발생하는 확률을 “**결합확률(joint probability)**” 또는 **\"동시확률”**이라 하며, 조건부 확률의 수식으로 유도 할 수 있는데, 이를 **\"곱셈 법칙\"** 이라고 한다.\n",
    "\n",
    "만약, 각 사건 **A와 B가 독립이라면**, (동일한 시행을 반복할 때, 각 시행의 결과가 서로 독립일 경우 독립시행이라 한다. 예를 들어 주사위를 두 번 던지는 행위 등.) P[A|B]=P(A)이 되므로 위의 곱셈 법칙에 대입하면, P[B]×P[A]=P(A∩B)가 성립한다. \n",
    "\n",
    "\n",
    "**전체 확률 이론** \n",
    "\n",
    "$B_1, B_2, ..., B_N$ 의 합집합이 표본 공간이고, **서로 상호 배타적인 사건**이라고 하자. 표본 공간 $S$의 분할 영역으로 이들 집합을 나타낼 수 있다. 이 때, 사건  A는 다음과 같이 표현된다. \n",
    "\n",
    "$$ A = A \\cap S = A \\cap (B_1 \\cup B_2 \\cup \\cdots \\cup B_N ) = (A \\cap B_1)\\cup (A \\cap B_2) \\cup \\cdots (A \\cap B_N) $$\n",
    "\n",
    "<img src=\"images/total.png\" width=350> \n",
    " $B_1, B_2, \\cdots, B_N$ 은 상호 배타적이므로 \n",
    " \n",
    "$$ P[A] = P[A \\cap B_1 ] + P[A \\cap B_2 ] + \\cdots + P[A \\cap B_N ] $$\n",
    "$$ P[A] = P[A | B_1] P[B_1] + \\cdots P[A | B_N] P[B_N] = \\sum_{k=1}^N P[A | B_k] P[B_k] $$\n",
    "이를 사건 **A**의 전체 확률이라고 한다. \n"
   ]
  },
  {
   "cell_type": "markdown",
   "metadata": {},
   "source": [
    "#### 베이즈의 정리\n",
    "\n",
    "$B_1, B_2, \\cdots, B_N$ 의 합집합이 표본 공간 $S$인 경우, $A$ 사건이 일어났을 때 $B_j$ 사건이 일어날 확률은?\n",
    "\n",
    "$$ P[B_j |A] = { P[A\\cap B_j] \\over P[A] } = { P[A|B_j] P[B_j] \\over \\sum_{k=1}^N P[A|B_k] P[B_k]}$$\n",
    "\n",
    "또는 패턴 분류 목적으로, 특정 샘플 $x$가 얻어졌을 때, 이 것이 $\\omega_j$에서 나왔을 확률은?\n",
    "\n",
    "$$ P[\\omega_j |x] = { P[x|\\omega_j] P[\\omega_j] \\over \\sum_{k=1}^N P[x|\\omega_k] P[\\omega_k]} = \n",
    "{ P[x | \\omega_j] P[\\omega_j] \\over P[x] } $$\n",
    "\n",
    "여기에서 $\\omega_j$ 는 j-번째 클래스를, $x$는  특징 벡터를 각각 나타낸다.\n",
    "\n",
    "* $P[\\omega_j]$ : 클래스 $\\omega_j$ 의 **사전확률 (prior probability)**\n",
    "* $P[\\omega_j |x] $ : 관측  $x$가 주어질 경우 $\\omega_j$ 에 대한 **사후확률 (posterior probability)**\n",
    "* $P[x | \\omega_j]$ : 클래스 $\\omega_j$가 주어질 경우 관측  $x$가 일어날 조건부 확률 - **우도 (likelihood)** \n",
    "* $ P[x]$ :  $x$가 일어날 확률로 결정에 영향을 미치지 않는 **정규화 상수**\n",
    "\n",
    "$$ \\text{사후확률} = { \\text{우도} \\times \\text{사전확률}  \\over \\text{정규화 상수}}$$"
   ]
  },
  {
   "cell_type": "markdown",
   "metadata": {},
   "source": [
    "**예제 (전체 확률 이론)** : 어느 공장에서 A, B, C 3종류의 기계를 사용하여 물건을 생산한\n",
    "다. A, B, C 종류의 기계가 생산하는 제품의 양은 전체생산량의 50%, 30%, 20% 이고 제품의 불량률은 각각 1%, 2%, 3% 라 한다. 이들 제품에서 임의의 1개를 뽑아 검사할 때,\n",
    "그것이 불량품일 확률은 ?\n",
    "\n",
    "$$\n",
    "\\begin{eqnarray}\n",
    "P[\\text{불량}] & = & P[A\\cap\\text{불량}] + P[B\\cap\\text{불량}] + P[C\\cap\\text{불량}]\\\\\n",
    "        & = & P[\\text{불량}|A]P[A] + P[\\text{불량}|B]P[B] + P[\\text{불량}|C]P[C]\\\\\n",
    "        & = & (0.01 \\times 0.5) + (0.02 \\times 0.3) + (0.03 \\times 0.2)    \\\\\n",
    "        & = & 0.017\\\\\n",
    "\\end{eqnarray}\n",
    "$$"
   ]
  },
  {
   "cell_type": "markdown",
   "metadata": {},
   "source": [
    "**예제 (베이즈의 정리)** : 위의 문제에서 제품의 무더기에서 1개를 뽑아 검사하였더니 불량품이었다고 가정하면, 이것이 A기계에서 생산된 물건일 확률은?\n",
    "\n",
    "$$ \\begin{eqnarray}\n",
    "P[\\omega_A |x] & = & { P[x|\\omega_A] P[\\omega_A] \\over \\sum_{k=A,B,C}^N P[x|\\omega_k] P[\\omega_k]} \\\\\n",
    "               & = & { P[x | \\omega_A] P[\\omega_A] \\over P[x | \\omega_A] P[\\omega_A]  + P[x | \\omega_B] P[\\omega_B]  + P[x | \\omega_C] P[\\omega_C]  } \\\\\n",
    "               & = & {  (0.01 \\times 0.5)  \\over (0.01 \\times 0.5) + (0.02 \\times 0.3) + (0.03 \\times 0.2) } \\\\\n",
    "               & = & { 5 \\over 17 }\n",
    "\\end{eqnarray} $$\n"
   ]
  }
 ],
 "metadata": {
  "kernelspec": {
   "display_name": "Python 3",
   "language": "python",
   "name": "python3"
  },
  "language_info": {
   "codemirror_mode": {
    "name": "ipython",
    "version": 3
   },
   "file_extension": ".py",
   "mimetype": "text/x-python",
   "name": "python",
   "nbconvert_exporter": "python",
   "pygments_lexer": "ipython3",
   "version": "3.7.6"
  }
 },
 "nbformat": 4,
 "nbformat_minor": 2
}
