{
  "cells": [
    {
      "metadata": {},
      "cell_type": "markdown",
      "source": "# Numpy\n\nFrom [CS231n's Python Numpy Tutorial](http://cs231n.github.io/python-numpy-tutorial/)\n\nNumpy는 Python 과학분야 컴퓨팅을 위한 핵심 라이브러리입니다. 고성능 다차원 배열 객체와 이러한 배열 작업을 위한 도구를 제공합니다. 이미 MATLAB에 익숙하다면, 이 튜토리얼이 Numpy를 시작하는데 유용할 것입니다."
    },
    {
      "metadata": {},
      "cell_type": "markdown",
      "source": "## Arrays\n\n* numpy 배열은 모두 같은 유형의 값들의 그리드이며, 음수가 아닌 정수의 튜플(tuple)에 의해 인덱싱됩니다.\n* 차원의 수는 배열의 순위입니다.\n* 배열의 모양은 각 차원을 따라 배열의 크기를 제공하는 정수의 튜플입니다.\n* 우리는 중첩된 파이썬 리스트로부터 numpy 배열을 초기화 할 수 있고, 대괄호를 사용하여 요소에 접근 할 수 있습니다."
    },
    {
      "metadata": {
        "trusted": true
      },
      "cell_type": "code",
      "source": "import numpy as np # import numpy library\n\na = np.array([1, 2, 3]) # list를 array(배열)로 만드는 method\nprint(a, type(a))\nprint(a.shape) # dimension 을 살펴보기 (shape는 tuple형식의 문법으로 표현됨)\n# (3, ) = 1차원 array (2차원 부터는 ',' 뒤에 array의 크기(2 번째 방향으로의 길이)까지 표현)\nprint(a[0], a[1], a[2]) # a의 0, 1, 2 번쨰 index에 위치한 요소를 접근 \na[0] = 5 # 특정한 element를 수정하거나 고치고 싶을때 (a의 0번째 값을 5로 바꾸기)\nprint(a) # 1이 5로 바뀜\n\nb = np.array([[1, 2, 3], [4, 5, 6]]) # 2차원 리스트를 줘서 2차원 array로 바꿈 (2 by 3 배열)\n# 첫번째 행: [1, 2, 3]\n# 두번째 행: [4, 5, 6]\nprint(b, b.shape) # (2, 3) = 2 by 3 배열 (tuple형식의 소괄호)\nprint(b[0, 0], b[0, 1], b[0, 2]) \n# b의 (첫번째 행, 첫번째 열), (첫번째 행, 두번째 열), (첫번째 행, 세번째 열) index에 위치한 요소를 접근",
      "execution_count": 2,
      "outputs": [
        {
          "output_type": "stream",
          "text": "[1 2 3] <class 'numpy.ndarray'>\n(3,)\n1 2 3\n[5 2 3]\n[[1 2 3]\n [4 5 6]] (2, 3)\n1 2 3\n",
          "name": "stdout"
        }
      ]
    },
    {
      "metadata": {},
      "cell_type": "markdown",
      "source": "Numpy는 또한 배열을 생성하는 많은 함수를 제공합니다 :"
    },
    {
      "metadata": {
        "trusted": true
      },
      "cell_type": "code",
      "source": "a = np.zeros((2, 2)) # 0으로 가득차 있는 (2 by 2) 배열 \nprint(a)\n\nb = np.ones((1, 2)) # 1로 가득차 있는 (1 by 2) 배열 \nprint(b)\n\nc = np.full((2, 2), 7) # 7이라는 값으로 가득 채워진 (2 by 2) 배열 \nprint(c)\n\nd = np.eye(2) # 단위행렬: 대각선 요소만 1이고 나머지는 0 인 (2 by 2) 행렬/배열\nprint(d) # 단위행렬은 항상 행과 열이 똑같다 (square matrix)\n\ne = np.random.random((2, 2)) # np에서 지원되는 random이라는 object안에서 random값을 생성하는 method\nprint(e) # 랜덤한 값(0 과 1 사이의 실수)으로 채워진 (2 by 2) 배열 ",
      "execution_count": 10,
      "outputs": [
        {
          "output_type": "stream",
          "text": "[[0. 0.]\n [0. 0.]]\n[[1. 1.]]\n[[7 7]\n [7 7]]\n[[1. 0.]\n [0. 1.]]\n[[0.96972102 0.78954997]\n [0.84464228 0.45572465]]\n",
          "name": "stdout"
        }
      ]
    },
    {
      "metadata": {
        "trusted": true
      },
      "cell_type": "code",
      "source": "a = np.arange(5) # 0부터 4까지 숫자를 return하는 method (python 에서는 .range())\nprint(a)\nb = np.arange(2, 3, 0.3) # 2와 3사이를 0.3간격으로 sampling한 실수값을 return (3 보다는 작음) \nprint(b)\nc = np.linspace(1., 4., 5) # 1과 4를 포함하는 5개의 등간격(equally-spaced)으로 sampling된 실수값을 return\nprint(c) # linspace (linear space의 약자)",
      "execution_count": 13,
      "outputs": [
        {
          "output_type": "stream",
          "text": "[0 1 2 3 4]\n[2.  2.3 2.6 2.9]\n[1.   1.75 2.5  3.25 4.  ]\n",
          "name": "stdout"
        }
      ]
    },
    {
      "metadata": {},
      "cell_type": "markdown",
      "source": "[여기에서](https://docs.scipy.org/doc/numpy/user/basics.creation.html#arrays-creation) 다른 배열 생성 방법을 읽을 수 있습니다."
    },
    {
      "metadata": {},
      "cell_type": "markdown",
      "source": "## Array Indexing\n\nNumpy는 배열에 색인을 생성하는 몇 가지 방법을 제공합니다.\n\n**슬라이싱**: 파이썬 리스트와 마찬가지로, numpy 배열은 슬라이스 할 수 있습니다. 배열은 다차원 일 수 있으므로, 배열의 각 차원에 대해 슬라이스를 지정해야 합니다."
    },
    {
      "metadata": {
        "trusted": true
      },
      "cell_type": "code",
      "source": "a = np.array([[1, 2, 3, 4], [5, 6, 7, 8], [9, 10, 11, 12]]) # (3 by 4) 배열\nprint(a)\n\n# 배열의 조각(slice)은 동일한 데이터에 대한 뷰이므로 수정하면 원래 배열이 수정됩니다.\n\nb = a[:2, 1:3] # a의 첫번째 부터 두번째 행까지, 두번째 부터 세번째 열까지\nprint(b)\nprint(a[0,1]) # a의 첫번째 행, 두번째 열\nb[0,0] = 77 # slicing을 해서 배열을 새로운 이름으로 할지라도 원래 배열을 그대로 가짐 (pointer 개념).\nprint(b)\nprint(a)",
      "execution_count": 17,
      "outputs": [
        {
          "output_type": "stream",
          "text": "[[ 1  2  3  4]\n [ 5  6  7  8]\n [ 9 10 11 12]]\n[[2 3]\n [6 7]]\n2\n[[77  3]\n [ 6  7]]\n[[ 1 77  3  4]\n [ 5  6  7  8]\n [ 9 10 11 12]]\n",
          "name": "stdout"
        }
      ]
    },
    {
      "metadata": {},
      "cell_type": "markdown",
      "source": "**정수 인덱싱**과 슬라이스 인덱싱을 혼용 할 수도 있습니다. 그러나 이렇게 하면 **원래 배열보다 낮은 순위의 배열**이 생성됩니다. 이것은 MATLAB이 배열 슬라이스를 처리하는 방식과 매우 다릅니다."
    },
    {
      "metadata": {
        "trusted": true
      },
      "cell_type": "code",
      "source": "a = np.array([[1, 2, 3, 4], [5, 6, 7, 8], [9, 10, 11, 12]])\nprint(a)\n\nrow_r1 = a[1, :] # a의 두번째 행 (정수 인덱싱)\nrow_r2 = a[1:2, :] # a의 두번째 행 (슬라이싱)\nprint(row_r1, row_r1.shape) # 정수 인덱싱을 하면 차원이 하나 줄어듬 (1차원 배열)\nprint(row_r2, row_r2.shape) # 행렬 형태 (2차원 행렬)\n\ncol_r1 = a[:, 1] # a의 두번째 열 (정수 인덱싱)\ncol_r2 = a[:, 1:2] # a의 두번째 열 (슬라이싱)\nprint(col_r1, col_r1.shape)\nprint(col_r2, col_r2.shape)",
      "execution_count": 19,
      "outputs": [
        {
          "output_type": "stream",
          "text": "[[ 1  2  3  4]\n [ 5  6  7  8]\n [ 9 10 11 12]]\n[5 6 7 8] (4,)\n[[5 6 7 8]] (1, 4)\n[ 2  6 10] (3,)\n[[ 2]\n [ 6]\n [10]] (3, 1)\n",
          "name": "stdout"
        }
      ]
    },
    {
      "metadata": {},
      "cell_type": "markdown",
      "source": "**정수 배열 인덱싱**: 슬라이싱을 사용하여 numpy 배열로 인덱싱 할 때, 결과 배열 뷰는 항상 원래 배열의 하위 배열이 됩니다. 반대로 정수 배열 인덱싱을 사용하면, 다른 배열의 데이터를 사용하여 임의의 배열을 구성 할 수 있습니다. 다음은 그 예입니다."
    },
    {
      "metadata": {
        "trusted": true
      },
      "cell_type": "code",
      "source": "a = np.array([[1, 2], [3, 4], [5, 6]])\nprint(a)\nprint(a[[0, 1 ,2], [0, 1, 0]]) # 특정한 element를 뽑기\nprint(np.array([a[0, 0], a[1, 1], a[2, 0]])) # 특정한 element를 뽑아서 배열로 만들어줌\nprint(a[[0,0], [1,1]])\nprint(np.array([a[0, 1], a[0, 1]]))",
      "execution_count": 24,
      "outputs": [
        {
          "output_type": "stream",
          "text": "[[1 2]\n [3 4]\n [5 6]]\n[1 4 5]\n[1 4 5]\n[2 2]\n[2 2]\n",
          "name": "stdout"
        }
      ]
    },
    {
      "metadata": {},
      "cell_type": "markdown",
      "source": "정수 배열 인덱싱을 사용하는 유용한 트릭은 행렬의 각 행에서 하나의 요소를 선택하거나 변경하는 것입니다."
    },
    {
      "metadata": {
        "trusted": true
      },
      "cell_type": "code",
      "source": "a = np.array([[1, 2, 3], [4, 5, 6], [7, 8, 9], [10, 11, 12]]) # (4 by 4) 배열\nprint(a)\nb = np.array([0, 2, 0, 1]) # a의 특정한 element 4개를 뽑아낼때 사용할 index 번호\nprint(b)\nprint(a[np.arange(4), b]) # a[0, 0], a[1, 2], a[2, 0], a[3, 1]를 뽑아내기\na[np.arange(4), b] += 10 # a[0, 0], a[1, 2], a[2, 0], a[3, 1]를 10만큼 더함\nprint(a)",
      "execution_count": 28,
      "outputs": [
        {
          "output_type": "stream",
          "text": "[[ 1  2  3]\n [ 4  5  6]\n [ 7  8  9]\n [10 11 12]]\n[0 2 0 1]\n[ 1  6  7 11]\n[[11  2  3]\n [ 4  5 16]\n [17  8  9]\n [10 21 12]]\n",
          "name": "stdout"
        }
      ]
    },
    {
      "metadata": {},
      "cell_type": "markdown",
      "source": "**부울 배열 인덱싱** : 부울 배열 인덱싱을 사용하면 배열의 임의 요소를 선택할 수 있습니다. 이 유형의 인덱싱은 일부 조건을 충족하는 배열 요소를 선택하는 데 자주 사용됩니다. 다음은 그 예입니다."
    },
    {
      "metadata": {
        "trusted": true
      },
      "cell_type": "code",
      "source": "# 부울 배열 인덱싱: 배열 안에 부울값만 너놓고 True 값만 뽑아내기\na = np.array([[1, 2], [3, 4], [5, 6]])\nprint(a)\n# 부울값으로 인덱스를 갖고있는 배열\nbool_idx = (a > 2) # a라는 배열에 2보다 큰 값들을 찾아서 그 값들의 부울 값 (True or False)\nprint(bool_idx)\nprint(a[bool_idx]) # True인 값을 가지는 인덱스 위치의 값을 뽑아냄\nprint(a[a>2])",
      "execution_count": 32,
      "outputs": [
        {
          "output_type": "stream",
          "text": "[[1 2]\n [3 4]\n [5 6]]\n[[False False]\n [ True  True]\n [ True  True]]\n[3 4 5 6]\n[3 4 5 6]\n",
          "name": "stdout"
        }
      ]
    },
    {
      "metadata": {},
      "cell_type": "markdown",
      "source": "간단히하기 위해 numpy 배열 인덱싱에 대한 많은 세부 사항을 생략했습니다.\n더 많은 것을 알고 싶다면 [여기 문서](https://docs.scipy.org/doc/numpy/reference/arrays.indexing.html)를 읽어야합니다."
    },
    {
      "metadata": {},
      "cell_type": "markdown",
      "source": "## Datatype\n\n각 numpy 배열은 동일한 유형의 요소 그리드입니다. \n\nNumpy는 배열을 생성하는 데 사용할 수 있는 많은 수의 데이터 유형을 제공합니다.\n\nNumpy는 배열을 만들 때 데이터 유형을 추측하려 하지만, 배열을 생성하는 함수는 대개 데이터 유형을 명시적으로 지정하는 선택적 인수도 포함합니다. \n\n다음은 그 예입니다."
    },
    {
      "metadata": {
        "trusted": true
      },
      "cell_type": "code",
      "source": "import numpy as np\n\nx = np.array([1, 2])\nprint(x.dtype) # x가 갖고있는 값들의 datatype = 32bit자리 정수\n\nx = np.array([1.0, 2.0])\nprint(x.dtype) # x가 갖고있는 값들의 datatype = 64bit자리 실수\n\nx = np.array([1, 2], dtype = np.float64) # 직접 datatype 주기: datatype를 np에서 제공되는 float64 type으로 만듦\nprint(x.dtype)\nprint(x)",
      "execution_count": 5,
      "outputs": [
        {
          "output_type": "stream",
          "text": "int64\nfloat64\nfloat64\n[1. 2.]\n",
          "name": "stdout"
        }
      ]
    },
    {
      "metadata": {},
      "cell_type": "markdown",
      "source": "## Array Math\n\n기본 수학 함수는 배열에서 요소 단위로 작동하며, 연산자 오버로드와 numpy 모듈의 함수로 사용할 수 있습니다."
    },
    {
      "metadata": {
        "trusted": true
      },
      "cell_type": "code",
      "source": "x = np.array([[1, 2], [3, 4]], dtype = np.float64)\ny = np.array([[5, 6], [7, 8]], dtype = np.float64)\n\nprint(x, y)\n\nprint(x + y) # 해당 요소들끼리의 덧셈\nprint(np.add(x, y)) # x와 y를 더해준 값\n\nprint(x - y) # 해당 요소들끼리의 뺄셈\nprint(np.subtract(x, y)) # x와 y를 뺀 값\n\nprint(x * y) # 해당 요소들끼리의 곱셈\nprint(np.multiply(x, y)) # x와 y를 곱한 값",
      "execution_count": 9,
      "outputs": [
        {
          "output_type": "stream",
          "text": "[[1. 2.]\n [3. 4.]] [[5. 6.]\n [7. 8.]]\n[[ 6.  8.]\n [10. 12.]]\n[[ 6.  8.]\n [10. 12.]]\n[[-4. -4.]\n [-4. -4.]]\n[[-4. -4.]\n [-4. -4.]]\n[[ 5. 12.]\n [21. 32.]]\n[[ 5. 12.]\n [21. 32.]]\n",
          "name": "stdout"
        }
      ]
    },
    {
      "metadata": {
        "trusted": true
      },
      "cell_type": "code",
      "source": "print(x / y) # 해당 요소들끼리의 나눗셈\nprint(np.divide(x, y)) # x와 y를 나눈 값\n\nprint(np.sqrt(x)) # 해당 요소들의 제곱근",
      "execution_count": 11,
      "outputs": [
        {
          "output_type": "stream",
          "text": "[[0.2        0.33333333]\n [0.42857143 0.5       ]]\n[[0.2        0.33333333]\n [0.42857143 0.5       ]]\n[[1.         1.41421356]\n [1.73205081 2.        ]]\n",
          "name": "stdout"
        }
      ]
    },
    {
      "metadata": {},
      "cell_type": "markdown",
      "source": "MATLAB와 달리 *는 행렬 곱셈이 아닌 요소별 곱셈입니다. 대신\n\n* 벡터의 inner product를 계산하고,\n* 벡터에 행렬을 곱하고,\n* 행렬과 행렬을 곱하기 위해\n\ndot 함수를 사용합니다. dot는 numpy 모듈의 함수와 배열 객체의 인스턴스 메서드로 사용할 수 있습니다."
    },
    {
      "metadata": {
        "trusted": true
      },
      "cell_type": "code",
      "source": "x = np.array([[1, 2], [3, 4]]) # 2 by 2 행렬\ny = np.array([[5, 6], [7, 8]]) # 2 by 2 행렬\nprint(x)\nprint(y)\n\nv = np.array([9, 10]) # 1 by 2 벡터 (1-dimensional array)\nw = np.array([11, 12]) # 1 by 2 벡터 (1-dimensional array)\nprint(v, w)\n\n# 벡터와 벡터의 곱 \nprint(v.dot(w)) # v와 w의 dot product = (9 * 11 + 10 * 12)\nprint(np.dot(v, w))\n\n# 벡터와 행렬의 곱\nprint(x.dot(v)) # x와 v의 dot product = [(1 * 9 + 2 * 10), (3 * 9 + 4 * 10)]\nprint(np.dot(x, v))\n\n# 행렬 행렬의 곱\nprint(x.dot(y)) # x와 y의 dot product = [[(1 * 5 + 2 * 7), (1 * 6 + 2 * 8)], [(3 * 5 + 4 * 7), (3 * 6 + 4 * 8)]]\nprint(np.dot(x, y))",
      "execution_count": 17,
      "outputs": [
        {
          "output_type": "stream",
          "text": "[[1 2]\n [3 4]]\n[[5 6]\n [7 8]]\n[ 9 10] [11 12]\n219\n219\n[29 67]\n[29 67]\n[[19 22]\n [43 50]]\n[[19 22]\n [43 50]]\n",
          "name": "stdout"
        }
      ]
    },
    {
      "metadata": {},
      "cell_type": "markdown",
      "source": "Numpy는 배열에 대하여 계산을 수행하는 데 유용한 많은 함수을 제공합니다. 가장 유용한 것 중 하나가 sum입니다."
    },
    {
      "metadata": {
        "trusted": true
      },
      "cell_type": "code",
      "source": "x = np.array([[1, 2], [3, 4]])\nprint(np.sum(x)) # 모든 요소를 더한 값 (1 + 2 + 3 + 4)\nprint(np.sum(x, axis = 0)) # 행 (0번째) 방향으로 더하기\nprint(np.sum(x, axis = 1)) # 열 (1번째) 방향으로 더하기",
      "execution_count": 20,
      "outputs": [
        {
          "output_type": "stream",
          "text": "10\n[4 6]\n[3 7]\n",
          "name": "stdout"
        }
      ]
    },
    {
      "metadata": {},
      "cell_type": "markdown",
      "source": "numpy가 제공하는 수학 함수의 전체 목록은 [여기](https://docs.scipy.org/doc/numpy/reference/routines.math.html)에서 찾을 수 있습니다.\n\n배열을 사용하여 수학 함수를 계산하는 것 외에도 배열의 데이터를 변형하거나 조작해야하는 경우가 자주 있습니다.\n\n이 유형의 연산 중 가장 간단한 예제는 행렬을 transpose 하는 것입니다. 행렬을 transpose 하려면 단순히 배열 객체의 T 속성을 사용하십시오."
    },
    {
      "metadata": {
        "trusted": true
      },
      "cell_type": "code",
      "source": "x = np.array([[1, 2], [3, 4]]) # 행렬\nprint(x)\nprint(x.T) # 행과 열의 값이 뒤바뀜\n\nv = np.array([1, 2, 3]) # 1차원 벡터\nprint(v)\nprint(v.T) # 벡터는 transpose해도 똑같은 하나의 행으로 나타남",
      "execution_count": 23,
      "outputs": [
        {
          "output_type": "stream",
          "text": "[[1 2]\n [3 4]]\n[[1 3]\n [2 4]]\n[1 2 3]\n[1 2 3]\n",
          "name": "stdout"
        }
      ]
    },
    {
      "metadata": {
        "trusted": true
      },
      "cell_type": "markdown",
      "source": "두 배열의 행렬 곱에 numpy.matmul() 함수를 사용합니다. 동작은 다음과 같은 방식으로 인수에 따라 다릅니다.\n\n* 두 인수가 2-D 이면 기존 행렬처럼 곱 해집니다.\n* 두 인수 중 하나가 N-차원(N>2) 이면, 마지막 두 인덱스에 있는 행렬 스택으로 처리되어 그에 따라 브로드캐스팅됩니다.\n* 첫 번째 인수가 1-D 이면, 차원에 1을 선행 (prepending) 하여 행렬로 승격됩니다. 행렬 곱셈 후 앞에 붙인 1이 제거됩니다.\n* 두 번째 인수가 1-D 이면, 차원에 1을 추가 (appending) 하여 행렬로 승격됩니다. 행렬 곱셈 후에 추가 된 1이 제거됩니다.\n\nmatmul 함수는 Python 3.5에서 소개 된 @ 연산자의 의미를 구현합니다 ."
    },
    {
      "metadata": {
        "trusted": true
      },
      "cell_type": "code",
      "source": "import numpy as np\n\na = [[1, 0], [0, 1]]\nb = [[4, 1], [2, 2]]\nnp.matmul(a, b) # c = a @ b",
      "execution_count": 53,
      "outputs": [
        {
          "output_type": "execute_result",
          "execution_count": 53,
          "data": {
            "text/plain": "array([[4, 1],\n       [2, 2]])"
          },
          "metadata": {}
        }
      ]
    },
    {
      "metadata": {
        "trusted": true
      },
      "cell_type": "code",
      "source": "a = [[1, 0], [0, 1]]\nb = [1, 2]\nprint(np.matmul(a, b))\nprint(np.matmul(b, a))",
      "execution_count": 55,
      "outputs": [
        {
          "output_type": "stream",
          "text": "[1 2]\n[1 2]\n",
          "name": "stdout"
        }
      ]
    },
    {
      "metadata": {
        "trusted": true
      },
      "cell_type": "code",
      "source": "a = np.arange(2 * 2 * 4).reshape((2, 2, 4))\nb = np.arange(2 * 2 * 4).reshape((2, 4, 2))\nnp.matmul(a, b).shape                        # ???\nnp.matmul(a, b)[0, 1, 1]                     # ???\nsum(a[0, 1, :] * b[0 , :, 1])                # ???",
      "execution_count": 56,
      "outputs": [
        {
          "output_type": "execute_result",
          "execution_count": 56,
          "data": {
            "text/plain": "98"
          },
          "metadata": {}
        }
      ]
    },
    {
      "metadata": {
        "trusted": true
      },
      "cell_type": "code",
      "source": "np.matmul([1, 2], 3)  #  주의 !!!  Error",
      "execution_count": 57,
      "outputs": [
        {
          "output_type": "error",
          "ename": "ValueError",
          "evalue": "matmul: Input operand 1 does not have enough dimensions (has 0, gufunc core with signature (n?,k),(k,m?)->(n?,m?) requires 1)",
          "traceback": [
            "\u001b[0;31m---------------------------------------------------------------------------\u001b[0m",
            "\u001b[0;31mValueError\u001b[0m                                Traceback (most recent call last)",
            "\u001b[0;32m<ipython-input-57-4b4c9bfb1ee4>\u001b[0m in \u001b[0;36m<module>\u001b[0;34m\u001b[0m\n\u001b[0;32m----> 1\u001b[0;31m \u001b[0mnp\u001b[0m\u001b[0;34m.\u001b[0m\u001b[0mmatmul\u001b[0m\u001b[0;34m(\u001b[0m\u001b[0;34m[\u001b[0m\u001b[0;36m1\u001b[0m\u001b[0;34m,\u001b[0m \u001b[0;36m2\u001b[0m\u001b[0;34m]\u001b[0m\u001b[0;34m,\u001b[0m \u001b[0;36m3\u001b[0m\u001b[0;34m)\u001b[0m  \u001b[0;31m#  주의 !!!  Error\u001b[0m\u001b[0;34m\u001b[0m\u001b[0m\n\u001b[0m",
            "\u001b[0;31mValueError\u001b[0m: matmul: Input operand 1 does not have enough dimensions (has 0, gufunc core with signature (n?,k),(k,m?)->(n?,m?) requires 1)"
          ]
        }
      ]
    },
    {
      "metadata": {},
      "cell_type": "markdown",
      "source": "열 벡터(1-D 배열)와 행 벡터(1-D 배열)의 곱셈은 np.outer() 로 수행한다. "
    },
    {
      "metadata": {
        "trusted": true
      },
      "cell_type": "code",
      "source": "a = np.array(np.arange(1,7))\nb = np.array(np.arange(1,4))\nprint(np.outer(a,b))\nprint(np.outer(b,a))",
      "execution_count": 5,
      "outputs": [
        {
          "output_type": "stream",
          "text": "[[ 1  2  3]\n [ 2  4  6]\n [ 3  6  9]\n [ 4  8 12]\n [ 5 10 15]\n [ 6 12 18]]\n[[ 1  2  3  4  5  6]\n [ 2  4  6  8 10 12]\n [ 3  6  9 12 15 18]]\n",
          "name": "stdout"
        }
      ]
    },
    {
      "metadata": {},
      "cell_type": "markdown",
      "source": "Numpy는 배열 조작을 위한 많은 함수를 제공합니다. [여기](https://docs.scipy.org/doc/numpy/reference/routines.array-manipulation.html)에서 전체 목록을 볼 수 있습니다."
    }
  ],
  "metadata": {
    "kernelspec": {
      "name": "python36",
      "display_name": "Python 3.6",
      "language": "python"
    },
    "language_info": {
      "mimetype": "text/x-python",
      "nbconvert_exporter": "python",
      "name": "python",
      "pygments_lexer": "ipython3",
      "version": "3.6.6",
      "file_extension": ".py",
      "codemirror_mode": {
        "version": 3,
        "name": "ipython"
      }
    }
  },
  "nbformat": 4,
  "nbformat_minor": 2
}