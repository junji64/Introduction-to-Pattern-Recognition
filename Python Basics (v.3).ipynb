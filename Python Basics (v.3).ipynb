{
  "cells": [
    {
      "metadata": {},
      "cell_type": "markdown",
      "source": "# Python Quick Tutorial (Jun Ji)\n\nfrom [cs231n's python tutorial](http://cs231n.github.io/python-numpy-tutorial/)\n\n파이썬은 그 자체로 훌륭한 범용 프로그래밍 언어이면서, 몇 가지 인기있는 라이브러리 (numpy, scipy, matplotlib)의 도움을 받아 과학분야 컴퓨팅을 위한 강력한 환경을 제공합니다.\n\n1. Hello World!\n2. Data Types\n    * Numbers\n    * Booleans\n    * Strings\n3. Containers\n    * List\n    * Dictionary\n    * Sets (Optional)\n    * Tuples (Optional)\n4. Function\n5. Classes and Objects (Optional)\n\n## 1. Hello World!"
    },
    {
      "metadata": {
        "scrolled": true,
        "trusted": false
      },
      "cell_type": "code",
      "source": "print(\"Hello World!\") # 출력",
      "execution_count": 56,
      "outputs": [
        {
          "name": "stdout",
          "output_type": "stream",
          "text": "Hello World!\n"
        }
      ]
    },
    {
      "metadata": {},
      "cell_type": "markdown",
      "source": "## 2. Data Types\n### Numbers"
    },
    {
      "metadata": {
        "trusted": false
      },
      "cell_type": "code",
      "source": "x = 5 # 정수(integer)를 변수로 저장\nprint(x, type(x)) # 변수 타입\nprint(x + 1) # 덧셈\nprint(x - 1) # 뺄셈\nprint(x * 2) # 곱셈\nprint(x ** 2) # 2의 제곱\nprint(x / 2) # 나눗셈\nprint(x // 2) # 몫 (quotient)\nprint(x % 2) # 나머지 (remainder)\nx += 1; print(x) # 복합연산 (x = x + 1)\nx *= 2; print(x) # 복합연산 (x = x * 2)\n#===========================\ny = 2.5 # 실수(float)를 변수로 저장\nprint(y, type(y))\nprint(y, y + 1, y - 1, y * 2, y ** 2)",
      "execution_count": 7,
      "outputs": [
        {
          "name": "stdout",
          "output_type": "stream",
          "text": "5 <class 'int'>\n6\n4\n10\n25\n2.5\n2\n1\n6\n12\n2.5 <class 'float'>\n2.5 3.5 1.5 5.0 6.25\n"
        }
      ]
    },
    {
      "metadata": {},
      "cell_type": "markdown",
      "source": "**주의**: 많은 다른 언어와 달리 파이썬에는 단항 증가 (x++) 또는 감소 (x--) 연산자가 없습니다."
    },
    {
      "metadata": {},
      "cell_type": "markdown",
      "source": "### Booleans\n\n파이썬은 불리언 논리에 대한 모든 일반적인 연산자를 구현하지만 기호(&&, || 등) 보다는 영어 단어(and, or, not)를 사용합니다."
    },
    {
      "metadata": {
        "trusted": false
      },
      "cell_type": "code",
      "source": "t = True\nf = False\nprint(type(t)) # 논리값 타입\nprint(t and f) # True and False\nprint(t or f) # True or False\nprint(not t) # not True\nprint(t != f) # True != (not equal) False",
      "execution_count": 11,
      "outputs": [
        {
          "name": "stdout",
          "output_type": "stream",
          "text": "<class 'bool'>\nFalse\nTrue\nFalse\nTrue\n"
        }
      ]
    },
    {
      "metadata": {},
      "cell_type": "markdown",
      "source": "### Strings\n\n파이썬은 문자열을 크게 지원합니다."
    },
    {
      "metadata": {
        "trusted": false
      },
      "cell_type": "code",
      "source": "h = \"hello\" # 문자열을 변수로 저장\nw = 'world'\nprint(h)\nprint(len(h)) # 문자열의 길이\nhw = h + ' ' + w\nprint(hw)\ngreeting = '''\nHi!\n    Good morning...\n        nice to meet you\n'''\nprint(greeting)\nno = 12\nhw12 = f'{h} {w} {no}'  # After v 3.6 \nprint(hw12)\nprint(f'{h} {no}')",
      "execution_count": 5,
      "outputs": [
        {
          "name": "stdout",
          "output_type": "stream",
          "text": "hello\n5\nhello world\n\nHi!\n    Good morning...\n        nice to meet you\n\nhello world 12\nhello 12\n"
        }
      ]
    },
    {
      "metadata": {},
      "cell_type": "markdown",
      "source": "String 객체는 유용한 메소드를 많이 가지고 있다."
    },
    {
      "metadata": {
        "trusted": false
      },
      "cell_type": "code",
      "source": "s = \"hello\"\nprint(s.capitalize()) # 첫글자를 대문자로\nprint(s.upper()) # 대문자로\nprint(s.rjust(10)) # 오른쪽으로 정렬 (왼쪽에 5개의 공백 (전체 너비 갯수 = 10))\nprint(s.center(7)) # 중앙정렬\nprint(s.replace('l', 'g')) # 'l'을 'g'로 대체 \nprint('   world'.strip()) # 공백 지우기",
      "execution_count": 19,
      "outputs": [
        {
          "name": "stdout",
          "output_type": "stream",
          "text": "Hello\nHELLO\n     hello\n hello \nheggo\nworld\n"
        }
      ]
    },
    {
      "metadata": {},
      "cell_type": "markdown",
      "source": "[모든 문자열 메서드 목록](https://docs.python.org/3.5/library/stdtypes.html#string-methods)"
    },
    {
      "metadata": {},
      "cell_type": "markdown",
      "source": "## 5. Containers\n\n파이썬의 기본 내장 컨테이너 유형에는 : list, dictionary, set, tuple 등이 있습니다."
    },
    {
      "metadata": {},
      "cell_type": "markdown",
      "source": "### 5.1 List\n\n리스트는 파이썬에서의 배열이지만, 크기를 조정할 수 있고 (resizeable), 다른 유형의 요소를 포함 할 수 있습니다."
    },
    {
      "metadata": {
        "trusted": false
      },
      "cell_type": "code",
      "source": "xs = [3, 1, 2] # 리스트를 변수로 저장\nprint(xs, xs[2]) # 2번째 인덱스에 있는 요소\nprint(xs[-1]) # 마지막 인덱스 (negative indices count from the end of the list)\nxs[2] = 'foo' # 인덱스 안의 값을 바꿈\nprint(xs)\nxs.append('bar') # 마지막 값으로 추가\nprint(xs)\nx = xs.pop() # 마지막 요소를 끄집어내기\nprint(x, xs) ",
      "execution_count": 24,
      "outputs": [
        {
          "name": "stdout",
          "output_type": "stream",
          "text": "[3, 1, 2] 2\n2\n[3, 1, 'foo']\n[3, 1, 'foo', 'bar']\nbar [3, 1, 'foo']\n"
        }
      ]
    },
    {
      "metadata": {
        "trusted": false
      },
      "cell_type": "code",
      "source": "list_1 = [1, 2, 3] # 변수명에 올 수 있는 기호: 문자, 숫자, 밑줄(_)\nprint(list_1)\nlist_1.append(4)\nprint(list_1)\nlist_1.append(\"a\")\nprint(list_1)\n# List에 숫자, 문자 한꺼번에 넣을 수 있다. \nprint(list_1[:2]) # 처음부터 2번 인덱스 전까지 (인덱스 0 에서 인덱스 1 까지)\ndel list_1[1]\nprint(list_1)\nlist_1.pop()\nprint(list_1)",
      "execution_count": 28,
      "outputs": [
        {
          "name": "stdout",
          "output_type": "stream",
          "text": "[1, 2, 3]\n[1, 2, 3, 4]\n[1, 2, 3, 4, 'a']\n[1, 2]\n[1, 3, 4, 'a']\n[1, 3, 4]\n"
        }
      ]
    },
    {
      "metadata": {},
      "cell_type": "markdown",
      "source": "**Slicing**: 목록 요소를 한 번에 하나씩 액세스하는 것 외에도 Python은 하위 목록에 액세스하기위한 간결한 구문을 제공합니다. 이를 \"**Slicing**\" 이라 부릅니다"
    },
    {
      "metadata": {
        "trusted": false
      },
      "cell_type": "code",
      "source": "nums = list(range(5)) # 0부터 시작해서 5라는 숫자 앞까지 숫자로 리턴 \nprint(nums)\nprint(nums[2:4]) # 2부터 4번 인덱스 전까지\nprint(nums[2:]) # 2부터 마지막 인덱스 전까지\nprint(nums[:2]) # 0부터 2번 인덱스 전까지\nprint(nums[:]) # 0부터 마지막 인덱스 까지 \nprint(nums[:-1]) # 0부터 마지막 인덱스 전까지\nnums[2:4] = [8, 9] # 2,3이 8,9로 바꿔치기됨\nprint(nums)",
      "execution_count": 35,
      "outputs": [
        {
          "name": "stdout",
          "output_type": "stream",
          "text": "[0, 1, 2, 3, 4]\n[2, 3]\n[2, 3, 4]\n[0, 1]\n[0, 1, 2, 3, 4]\n[0, 1, 2, 3]\n[0, 1, 8, 9, 4]\n"
        }
      ]
    },
    {
      "metadata": {},
      "cell_type": "markdown",
      "source": "**Loops**: 다음과 같이 리스트의 요소들에 대하여 반복 할 수 있습니다."
    },
    {
      "metadata": {
        "trusted": false
      },
      "cell_type": "code",
      "source": "animals = ['cat', 'dog', 'monkey'] # 루프에 사용할 변수명\nfor animal in animals:\n    print(animal) # indentation이 되어야 for의 영향권에 있음",
      "execution_count": 37,
      "outputs": [
        {
          "name": "stdout",
          "output_type": "stream",
          "text": "cat\ndog\nmonkey\n"
        }
      ]
    },
    {
      "metadata": {},
      "cell_type": "markdown",
      "source": "루프의 리스트에 있는 각 요소의 인덱스에 액세스하려면 내장된 enumerate 함수를 사용하십시오."
    },
    {
      "metadata": {
        "trusted": false
      },
      "cell_type": "code",
      "source": "for idx, animal in enumerate(animals): # 루프에 활용할 변수명 (idx, animal)\n    print('#%d: %s' %(idx + 1, animal)) # idx: enumeration한 숫자의 순서를 가르켜주는 번호",
      "execution_count": 38,
      "outputs": [
        {
          "name": "stdout",
          "output_type": "stream",
          "text": "#1: cat\n#2: dog\n#3: monkey\n"
        }
      ]
    },
    {
      "metadata": {},
      "cell_type": "markdown",
      "source": "**List Comprehension**: 프로그래밍 할 때 종종 한 유형의 데이터를 다른 데이터로 변환할 경우가 있습니다. 간단한 예로, 제곱 값을 계산하는 다음 코드를 생각해 보십시오."
    },
    {
      "metadata": {
        "trusted": false
      },
      "cell_type": "code",
      "source": "nums = [0, 1, 2, 3, 4]\nsquares = []\nfor x in nums:\n    squares.append(x ** 2) # 전달받은 값 하나하나의 제곱값\nprint(squares)",
      "execution_count": 41,
      "outputs": [
        {
          "name": "stdout",
          "output_type": "stream",
          "text": "[0, 1, 4, 9, 16]\n"
        }
      ]
    },
    {
      "metadata": {},
      "cell_type": "markdown",
      "source": "**List Comprehension** 을 사용하여, 이 코드를 더 간단하게 만들 수 있습니다."
    },
    {
      "metadata": {
        "trusted": false
      },
      "cell_type": "code",
      "source": "squares = [x ** 2 for x in nums]\nprint(squares)",
      "execution_count": 43,
      "outputs": [
        {
          "name": "stdout",
          "output_type": "stream",
          "text": "[0, 1, 4, 9, 16]\n"
        }
      ]
    },
    {
      "metadata": {},
      "cell_type": "markdown",
      "source": "**List Comprehension** 은 또한 조건을 포함 할 수 있습니다."
    },
    {
      "metadata": {
        "trusted": false
      },
      "cell_type": "code",
      "source": "even_squares = [x ** 2 for x in nums if x % 2 == 0]\nprint(even_squares)",
      "execution_count": 44,
      "outputs": [
        {
          "name": "stdout",
          "output_type": "stream",
          "text": "[0, 4, 16]\n"
        }
      ]
    },
    {
      "metadata": {},
      "cell_type": "markdown",
      "source": "### 5.2 Dictionary\n\nDictionary는 Java의 Map 또는 Javascript의 오브젝트와 유사한 (키, 값) 쌍을 저장합니다. 다음과 같이 사용할 수 있습니다."
    },
    {
      "metadata": {
        "trusted": false
      },
      "cell_type": "code",
      "source": "d = {'cat':'cute', 'dog':'furry'}\nprint(d['cat']) # 'cat'이라는 key값을 사용 \nprint('cat' in d) # d에 'cat'값이 있는지 확인\nd['fish'] = 'wet'\nprint(d['fish'])\n# print(d['monkey']) # KeyError: 'monkey' not a key of d\nprint(d.get('monkey', 'N/A'))\nprint(d.get('fish', 'N/A'))\ndel d['fish'] # key값을 지우기\nprint(d)\nprint(d.get('fish', 'N/A'))",
      "execution_count": 57,
      "outputs": [
        {
          "name": "stdout",
          "output_type": "stream",
          "text": "cute\nTrue\nwet\nN/A\nwet\n{'cat': 'cute', 'dog': 'furry'}\nN/A\n"
        }
      ]
    },
    {
      "metadata": {},
      "cell_type": "markdown",
      "source": "**Loops** : dictionary의 키를 반복하는 것은 쉽습니다."
    },
    {
      "metadata": {
        "trusted": false
      },
      "cell_type": "code",
      "source": "d = {'person':2, 'cat':4, 'spider':8}\nfor animal in d:\n    legs = d[animal] # 하나의 특정한값을 접근하기 위해 [] 사용\n    print('A %s has %d legs' %(animal, legs))",
      "execution_count": 49,
      "outputs": [
        {
          "name": "stdout",
          "output_type": "stream",
          "text": "A person has 2 legs\nA cat has 4 legs\nA spider has 8 legs\n"
        }
      ]
    },
    {
      "metadata": {},
      "cell_type": "markdown",
      "source": "키와 해당 값에 액세스하려면 items 메서드를 사용합니다."
    },
    {
      "metadata": {
        "trusted": false
      },
      "cell_type": "code",
      "source": "d = {'person':2, 'cat':4, 'spider':8}\nfor animal, legs in d.items():\n    print('A %s has %d legs' % (animal, legs)) # key, value값 모두 리턴",
      "execution_count": 58,
      "outputs": [
        {
          "name": "stdout",
          "output_type": "stream",
          "text": "A person has 2 legs\nA cat has 4 legs\nA spider has 8 legs\n"
        }
      ]
    },
    {
      "metadata": {},
      "cell_type": "markdown",
      "source": "**Dictionary comprehension**: 이것은 **List Comprehension**과 유사하지만, 쉽게 사전을 구성 할 수 있게 해줍니다.\n예 :"
    },
    {
      "metadata": {
        "trusted": false
      },
      "cell_type": "code",
      "source": "nums = [0, 1, 2, 3, 4]\neven_num_to_square = {x: x**2 for x in nums if x % 2 ==0} # 2의 배수만 골라서 넣어주기\nprint(even_num_to_square)",
      "execution_count": 55,
      "outputs": [
        {
          "name": "stdout",
          "output_type": "stream",
          "text": "{0: 0, 2: 4, 4: 16}\n"
        }
      ]
    },
    {
      "metadata": {},
      "cell_type": "markdown",
      "source": "### 5.3 Sets (Optional)\n\n**Set**는 **고유한 요소들(distinct elements)**의 정렬되지 않은 콜렉션입니다. 간단한 예로서 다음을 고려하십시오."
    },
    {
      "metadata": {
        "trusted": false
      },
      "cell_type": "code",
      "source": "animals = {'cat', 'dog'}\nprint('cat' in animals)\nprint('fish' in animals)\nanimals.add('fish')\nprint('fish' in animals)\nprint(len(animals))\nanimals.add('cat')\nprint(len(animals))\nanimals.remove('cat')\nprint(len(animals))",
      "execution_count": 59,
      "outputs": [
        {
          "name": "stdout",
          "output_type": "stream",
          "text": "True\nFalse\nTrue\n3\n3\n2\n"
        }
      ]
    },
    {
      "metadata": {},
      "cell_type": "markdown",
      "source": "**Loops** : **Set**에 대하여 반복하는 것은 **List**에 대하여 반복하는 것과 동일한 구문을 사용합니다. 그러나 **Set**는 순서가 지정되지 않으므로 집합의 요소를 방문하는 순서에 대해 가정을 할 수 없습니다."
    },
    {
      "metadata": {
        "trusted": false
      },
      "cell_type": "code",
      "source": "animals = {'cat', 'dog', 'fish'}\nfor idx, animal in enumerate(animals):\n    print('#%d: %s' % (idx + 1, animal))",
      "execution_count": 60,
      "outputs": [
        {
          "name": "stdout",
          "output_type": "stream",
          "text": "#1: cat\n#2: fish\n#3: dog\n"
        }
      ]
    },
    {
      "metadata": {},
      "cell_type": "markdown",
      "source": "**Set Comprehension** : **List** 및 **Dictionary** 과 마찬가지로, **Set Comprehensions**를 사용하여 쉽게 세트를 구성 할 수 있습니다."
    },
    {
      "metadata": {
        "trusted": false
      },
      "cell_type": "code",
      "source": "from math import sqrt\nnums = {int(sqrt(x)) for x in range(30)}\nprint(nums)",
      "execution_count": 61,
      "outputs": [
        {
          "name": "stdout",
          "output_type": "stream",
          "text": "{0, 1, 2, 3, 4, 5}\n"
        }
      ]
    },
    {
      "metadata": {},
      "cell_type": "markdown",
      "source": "### 5.4 Tuples (Optional)\n\n튜플은 값의 **불변(변경이 불가함)** 순차 목록입니다. 튜플은 여러면에서 리스트와 유사합니다. 가장 중요한 차이점 중 하나는 튜플을 **Dictionary**의 키로 사용할 수 있고, **List**의 요소로 사용할 수 있다는 것입니다. 다음은 간단한 예입니다."
    },
    {
      "metadata": {
        "trusted": false
      },
      "cell_type": "code",
      "source": "d = {(x, x + 1): x for x in range(10)}\nprint(d)\nt = (5, 6)\nprint(type(t))\nprint(d[t])\nprint(d[(1, 2)])",
      "execution_count": 63,
      "outputs": [
        {
          "name": "stdout",
          "output_type": "stream",
          "text": "{(0, 1): 0, (1, 2): 1, (2, 3): 2, (3, 4): 3, (4, 5): 4, (5, 6): 5, (6, 7): 6, (7, 8): 7, (8, 9): 8, (9, 10): 9}\n<class 'tuple'>\n5\n1\n"
        }
      ]
    },
    {
      "metadata": {},
      "cell_type": "markdown",
      "source": "## 6. Functions \n\n파이썬 함수는 **def** 키워드를 사용하여 정의됩니다. \n예 :"
    },
    {
      "metadata": {
        "trusted": false
      },
      "cell_type": "code",
      "source": "def sign(x):\n    if x > 0:\n        return 'positive'\n    elif x < 0:\n        return 'negative'\n    else:\n        return 'zero'\n\nfor x in [-1, 0, 1]:\n    print(sign(x))",
      "execution_count": 64,
      "outputs": [
        {
          "name": "stdout",
          "output_type": "stream",
          "text": "negative\nzero\npositive\n"
        }
      ]
    },
    {
      "metadata": {},
      "cell_type": "markdown",
      "source": "다음과 같이 선택적 키워드 인수를 취하는 함수를 정의합니다."
    },
    {
      "metadata": {
        "trusted": false
      },
      "cell_type": "code",
      "source": "def hello(name, loud=False): # loud의 default값 = False\n    if loud:\n        print(f'HELLO, {name.upper()}!')   \n    else:\n        print(f'Hello, {name}!')\n\nhello('Bob')\nhello('Fred', loud=True)",
      "execution_count": 6,
      "outputs": [
        {
          "name": "stdout",
          "output_type": "stream",
          "text": "Hello, Bob!\nHELLO, FRED!\n"
        }
      ]
    },
    {
      "metadata": {},
      "cell_type": "markdown",
      "source": "## 7. Classes and Objects (Optional)\n\n파이썬에서 클래스를 정의하는 구문은 간단합니다."
    },
    {
      "metadata": {
        "trusted": false
      },
      "cell_type": "code",
      "source": "## 7. Classes\n\nclass Greeter(object):\n    \n    # Constructor\n    def __init__(self, name):\n        self.name = name\n    \n    # Instance method\n    def greet(self, loud = False):\n        if loud:\n            print(f'HELLO, {self.name.upper()}!' )\n        else:\n            print(f'Hello, {self.name}!' )\n\ng = Greeter('Fred')\ng.greet()\ng.greet(loud=True)",
      "execution_count": 8,
      "outputs": [
        {
          "name": "stdout",
          "output_type": "stream",
          "text": "Hello, Fred!\nHELLO, FRED!\n"
        }
      ]
    },
    {
      "metadata": {
        "trusted": false
      },
      "cell_type": "code",
      "source": "",
      "execution_count": null,
      "outputs": []
    }
  ],
  "metadata": {
    "kernelspec": {
      "name": "python3",
      "display_name": "Python 3",
      "language": "python"
    },
    "language_info": {
      "mimetype": "text/x-python",
      "nbconvert_exporter": "python",
      "name": "python",
      "pygments_lexer": "ipython3",
      "version": "3.5.4",
      "file_extension": ".py",
      "codemirror_mode": {
        "version": 3,
        "name": "ipython"
      }
    }
  },
  "nbformat": 4,
  "nbformat_minor": 4
}