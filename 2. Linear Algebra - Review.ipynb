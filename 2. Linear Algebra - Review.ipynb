{
 "cells": [
  {
   "cell_type": "markdown",
   "metadata": {
    "collapsed": true
   },
   "source": [
    "# 2. 선형대수 - 벡터와 행렬\n",
    "\n",
    "## 2.1.벡터\n",
    "\n",
    "**벡터(vector)**란?\n",
    "* **물리학**에서는 크기와 방향을 가지는 어떠한 물리량.\n",
    "<img src=\"./images/vector_basic.gif\" width=\"300\">\n",
    "* **수학**적으로는 하나 이상의 숫자들을 묶어 놓은 것을 말하며, 공간 상의 한 위치를 표현하는데 주로 사용된다.\n",
    "\n",
    "<img src=\"./images/points_in_a_plane.png\" width=\"200\" title=\"2D 공간\">\n",
    "\n",
    "<img src=\"./images/235-3D-vector.png\" width=\"200\" title=\"3D 공간\">\n",
    "\n",
    "5차원 공간의 행 벡터 (row vector)  $ \\left[ \\begin{matrix} 3, 7, 9, 5.6, 10 \\end{matrix} \\right] $.\n",
    "\n",
    "5차원 공간의  열 벡터 (column vector) $ \\left[\n",
    "\\begin{matrix}\n",
    "3\\\\\n",
    "7\\\\\n",
    "9\\\\\n",
    "5.6\\\\\n",
    "10\n",
    "\\end{matrix}\n",
    "\\right] $\n",
    "\n",
    "\n",
    "**특징 벡터(feature vector)** : 패턴 인식에서는 인식 대상이 되는 객체가 특징들로 표현되고, 특징들은 일정한 차원을 갖는 벡터로 표현된다. 이러한 벡터를 특징벡터라고 한다. 그리고 특징 벡터에 대한 대수학적인 계산을 위해서 특징 벡터를 행렬로 표현하여 N-차원 공간 상의 한 점의 데이터로 특징을 다루게 된다. 관례적으로 벡터 $  \\mathbf{x}  $ 는 $N\\times1$ 행렬(또는 열벡터)로 간주 한다.\n",
    "\n",
    "$ \\mathbf{x}  = \\left[\n",
    "\\begin{matrix}\n",
    "x_1\\\\ x_2\\\\ \\vdots\\\\ x_N\n",
    "\\end{matrix}\n",
    "\\right] $\n",
    "\n",
    "**벡터의 전치(transpose)** : 벡터의 전치란 $N\\times1$행렬을 $1\\times N$ 행렬로, 혹은 $1\\times N$ 행렬을$N\\times1$행렬로 행과 열을 바꾼 행렬을 의미하며, 벡터에 윗첨자 $^T$로 표시한다.\n",
    "\n",
    "$$ \\mathbf{x}^T = \\left[ \\begin{matrix} x_1, x_2, \\cdots, x_N \\end{matrix} \\right] $$\n",
    "\n",
    "**벡터의 크기(norm)** : 벡터의 크기는 원점에서 벡터 공간 상의 한 점까지의 거리를 말하며, 다음과 같이 정의한다. (유클리드 공간에서의 경우.)\n",
    "\n",
    "$$ \\| \\mathbf{x} \\| =\\sqrt{\\mathbf{x}^T \\mathbf{x} } = \\sqrt{x_1^2 + x_2^2 + \\cdots + x_N^2}  = [ \\sum_{k=1}^N x_k x_k ]^{1/2} $$\n",
    "\n",
    "ex) 벡터 $\\mathbf{x} = [ 3, 4 ]^T $의 크기(norm)는?  $ \\sqrt{9+16} = \\sqrt{25} = 5 $ \n",
    "    \n",
    "ex) 벡터 $\\mathbf{x} = [ 3, 4, 5, 6 ]^T $의 크기(norm)는?"
   ]
  },
  {
   "cell_type": "code",
   "execution_count": 70,
   "metadata": {},
   "outputs": [
    {
     "name": "stdout",
     "output_type": "stream",
     "text": [
      "sqrt(dot(x,x)) =  5.0\n",
      "sqrt(sum(x*x)) =  5.0\n",
      "norm(x) =  5.0\n"
     ]
    }
   ],
   "source": [
    "import numpy as np\n",
    "x = np.array([ 3, 4 ])\n",
    "print(\"sqrt(dot(x,x)) = \", np.sqrt(np.dot(x,x)))\n",
    "print(\"sqrt(sum(x*x)) = \", np.sqrt(np.sum(x*x)))        # 벡터 간의 연산은 요소별 연산이 수행된다.\n",
    "print(\"norm(x) = \", np.linalg.norm(x))                  # using norm mathod in linalg(Linear-Algebra) package"
   ]
  },
  {
   "cell_type": "code",
   "execution_count": 71,
   "metadata": {},
   "outputs": [
    {
     "name": "stdout",
     "output_type": "stream",
     "text": [
      "norm(x) =  9.273618495495704\n"
     ]
    }
   ],
   "source": [
    "x = np.array([ 3, 4, 5, 6])\n",
    "print(\"norm(x) = \", np.linalg.norm(x))   "
   ]
  },
  {
   "cell_type": "markdown",
   "metadata": {},
   "source": [
    "**단위 벡터 (unit vector)**: 벡터의 크기가 1인 벡터를 “단위(unit)”벡터라고 한다. 만약, 벡터 v가 0 이 아닌 벡터라면 v 방향의 단위벡터 u 는 다음과 같이 규정한다. 이렇게 주어진 벡터와 방향이 같은 단위벡터를 구하는 과정을 벡터의 정규화(normalization) 라고 한다. \n",
    "$$ \\mathbf{u} = { 1 \\over \\|\\mathbf{v}\\| } \\mathbf{v} $$\n",
    "\n",
    "ex) 벡터 $\\mathbf{x} = [ 3, 4 ]^T $ 방향의 단위벡터 **u** 는?  $\\mathbf{u} = {1 \\over \\| \\mathbf{v} \\|} [ 3, 4 ] = {1 \\over 5} [ 3, 4 ] = [ 3/5, 4/5] $ \n",
    "\n",
    "이때 단위벡터 **u**의 크기는? 1\n",
    "\n",
    "ex) 벡터 $\\mathbf{x} = [ 3, 4, 5, 6 ]^T $방향의 단위벡터 **u** 는?"
   ]
  },
  {
   "cell_type": "code",
   "execution_count": 72,
   "metadata": {},
   "outputs": [
    {
     "name": "stdout",
     "output_type": "stream",
     "text": [
      "[0.6 0.8]\n",
      "1.0\n"
     ]
    }
   ],
   "source": [
    "v = np.array([3,4])\n",
    "u = v / np.linalg.norm(v)\n",
    "print(u)\n",
    "print(np.linalg.norm(u))"
   ]
  },
  {
   "cell_type": "code",
   "execution_count": 73,
   "metadata": {},
   "outputs": [
    {
     "name": "stdout",
     "output_type": "stream",
     "text": [
      "[0.32349832 0.43133109 0.53916387 0.64699664]\n"
     ]
    }
   ],
   "source": [
    "v = np.array([ 3, 4, 5, 6])\n",
    "u = v / np.linalg.norm(v)\n",
    "print(u)"
   ]
  },
  {
   "cell_type": "markdown",
   "metadata": {},
   "source": [
    "### 벡터의 곱셈\n",
    "\n",
    "**스칼라 곱**: 임의의 벡터에 임의의 스칼라(실수)를 곱하는 것을 말하며, 다음과 같이 성분 별로 스칼라를 곱해주면 된다.\n",
    "\n",
    "$ \\mathbf{y}  = a \\mathbf{x}  = \\left[\n",
    "\\begin{matrix}\n",
    "ax_1\\\\ ax_2\\\\ \\vdots\\\\ ax_N\n",
    "\\end{matrix}\n",
    "\\right] $\n",
    "\n",
    "Ex) 벡터 $\\mathbf{x}=[3,4]^T$일 때 $\\mathbf{y} = 5\\mathbf{x}$ 는?   $[15, 20]$"
   ]
  },
  {
   "cell_type": "code",
   "execution_count": 74,
   "metadata": {},
   "outputs": [
    {
     "name": "stdout",
     "output_type": "stream",
     "text": [
      "[15 20]\n"
     ]
    }
   ],
   "source": [
    "x = np.array([ 3, 4 ])\n",
    "y = 5 * x\n",
    "print(y)"
   ]
  },
  {
   "cell_type": "markdown",
   "metadata": {},
   "source": [
    "**내적 (inner product; dot product)**: 차원이 동일한 두 개의 벡터 x, y 에 대하여 대응되는 성분 별로 곱하여 합하는 것을 두 벡터의 “내적”이라 한다.그러므로 벡터 내적의 결과는 실수 스칼라이다.\n",
    "\n",
    "$$ c = \\langle \\mathbf{x},\\mathbf{y} \\rangle = \\mathbf{x} \\cdot \\mathbf{y} = \\mathbf{x}^T \\mathbf{y} = \\sum_{i=1}^N x_i y_i $$\n",
    "\n",
    "두 벡터 사이의 각 $\\theta$가 주어질 경우, 내적 스칼라 c 는 다음과 같이 주어진다.\n",
    "\n",
    "$$ c = \\| \\mathbf{x}\\| \\|\\mathbf{y} \\| \\cos \\theta  \\text{ ,      where       } 0 < \\theta < \\pi $$\n",
    "\n",
    "ex) 벡터 $\\mathbf{x}=[3, 4]^T$ 와  $\\mathbf{y}=[5, 6]^T$ 의 내적 $\\langle \\mathbf{x},\\mathbf{y} \\rangle$ 는? $15 + 24 = 39$\n",
    "\n",
    "ex) 벡터 $\\mathbf{x}=[1, 0]^T$ 와  $\\mathbf{y}=[0, 1]^T$ 의 내적 $\\langle \\mathbf{x},\\mathbf{y} \\rangle$ 는? 0"
   ]
  },
  {
   "cell_type": "code",
   "execution_count": 75,
   "metadata": {},
   "outputs": [
    {
     "data": {
      "text/plain": [
       "39"
      ]
     },
     "execution_count": 75,
     "metadata": {},
     "output_type": "execute_result"
    }
   ],
   "source": [
    "x = np.array([3, 4])\n",
    "y = np.array([5, 6])\n",
    "np.dot(x,y)"
   ]
  },
  {
   "cell_type": "code",
   "execution_count": 76,
   "metadata": {},
   "outputs": [
    {
     "data": {
      "text/plain": [
       "0"
      ]
     },
     "execution_count": 76,
     "metadata": {},
     "output_type": "execute_result"
    }
   ],
   "source": [
    "x = np.array([1,0])\n",
    "y = np.array([0,1])\n",
    "np.dot(x,y)"
   ]
  },
  {
   "cell_type": "markdown",
   "metadata": {},
   "source": [
    "**수직사영 (orthogonal projection)** : 벡터 **y**를 벡터 **x**로 사영(혹은 투영)을 취하면, 벡터 **x** 의 방향으로 어떠한 길이를 가지는 벡터가 만들어진다. 이 사영 벡터는 내적의 정의를 사용하여 다음과 같이 정의하는데, 여기서, $\\mathbf{u_x}$ 는 **x** 와 같은 방향의 단위 벡터이다.\n",
    "\n",
    "$$ \\langle \\mathbf{y}^T,\\mathbf{u_x} \\rangle \\mathbf{u_x} = ( \\|\\mathbf{y}\\| \\cos \\theta )\\mathbf{u_x}$$\n",
    "\n",
    "<img src=\"./images/orthogonal.png\"  width=\"200\" title=\"orthogonal\">\n",
    "\n",
    "(Ex) 벡터 $\\mathbf{y}=[2, 4]^T$ 의 벡터 $\\mathbf{x}=[4, 3]^T$ 방향으로의 사영은?\n",
    "\n",
    "$ u_x = ({ 1 \\over  \\|x\\| }) x = \\left[\n",
    "\\begin{matrix}\n",
    "4/5\\\\ 3/5\n",
    "\\end{matrix}\n",
    "\\right]$\n",
    "\n",
    "$ \\langle \\mathbf{y}^T,\\mathbf{u_x} \\rangle \\mathbf{u_x} = ([ 2, 4 ] \n",
    "\\left[\n",
    "\\begin{matrix}\n",
    "4/5\\\\ 3/5\n",
    "\\end{matrix}\n",
    "\\right] ) \n",
    "\\left[\n",
    "\\begin{matrix}\n",
    "4/5\\\\ 3/5\n",
    "\\end{matrix}\n",
    "\\right] = 4 \\times \\left[\n",
    "\\begin{matrix}\n",
    "4/5\\\\ 3/5\n",
    "\\end{matrix}\n",
    "\\right] =  \\left[\n",
    "\\begin{matrix}\n",
    "16/5\\\\ 12/5\n",
    "\\end{matrix}\n",
    "\\right]$\n",
    "\n",
    "(Ex) 벡터 $\\mathbf{y}=[2, 4]^T$ 의 벡터 $\\mathbf{x}=[1, 0]^T$ 방향으로의 사영은?\n",
    "\n",
    "(Ex) 벡터 $\\mathbf{y}=[2, 4]^T$ 의 벡터 $\\mathbf{x}=[0, 1]^T$ 방향으로의 사영은?\n",
    "\n",
    "만약에 두 벡터  $\\mathbf{x}$와 $\\mathbf{y}$가\n",
    "* $\\mathbf{x}^T\\mathbf{y} = 0 $ 이면 두 벡터 $\\mathbf{x}$ 와 $\\mathbf{y}$는 수직/직교(orthogonal)라고 한다.\n",
    "* $\\mathbf{x}^T\\mathbf{y} = 0 $ 이면서, $\\|\\mathbf{x}\\| = \\|\\mathbf{y}\\| = 1$ 이면,  두 벡터 $\\mathbf{x}$ 와 $\\mathbf{y}$는 정규직교(orthonormal)라고 한다."
   ]
  },
  {
   "cell_type": "markdown",
   "metadata": {},
   "source": [
    "### 선형결합\n",
    "\n",
    "벡터집합 $x=\\{x_1, x_2, ..., x_N\\}$ 와 스칼라 계수집합 $\\{a_1, a_2,...,a_N\\}$ 과의 곱의 합으로 표현된 벡터 $\\mathbf{y}$를 벡터 $\\mathbf{x}$의 “선형결합(linear combination)”이라고 한다.\n",
    "\n",
    "$$ \\mathbf{y} = a_1 \\mathbf{x_1} +a_2 \\mathbf{x_2} + \\cdots +a_N \\mathbf{x_N} $$\n",
    "\n",
    "$$ \\left[\n",
    "\\begin{matrix}\n",
    "2\\\\3\\\\5\n",
    "\\end{matrix}\n",
    "\\right] = \n",
    "2 \\times \\left[\n",
    "\\begin{matrix}\n",
    "1\\\\2\\\\3\n",
    "\\end{matrix}\n",
    "\\right] + 1 \\times \\left[\n",
    "\\begin{matrix}\n",
    "0\\\\3\\\\1\n",
    "\\end{matrix}\n",
    "\\right] -2  \\times \\left[\n",
    "\\begin{matrix}\n",
    "0\\\\2\\\\1\n",
    "\\end{matrix}\n",
    "\\right] $$\n"
   ]
  },
  {
   "cell_type": "markdown",
   "metadata": {},
   "source": [
    "#### 선형종속\n",
    "만약, 벡터집합  $x=\\{x_1, x_2, ..., x_N\\}$ 이 아래의 식을 만족하는 모두 0 이 아닌 스칼라 계수집합 $\\{a_1, a_2,...,a_N\\}$ 이 존재한다면, 다시 말해서, 벡터 집합 중 적어도 하나를 다른 벡터들의 선형결합으로 표현할 수 있다면, 이 벡터 집합은 “선형종속(linearly dependent)”이라고 한다.\n",
    "\n",
    "$$ a_1 \\mathbf{x_1} +a_2 \\mathbf{x_2} + \\cdots +a_N \\mathbf{x_N} = \\sum_{i=1}^N a_i \\mathbf{x_i} = 0$$\n",
    "\n",
    "$$ \\left[\n",
    "\\begin{matrix}\n",
    "0\\\\0\\\\0\n",
    "\\end{matrix}\n",
    "\\right] = \n",
    "1 \\times \\left[\n",
    "\\begin{matrix}\n",
    "2\\\\2\\\\4\n",
    "\\end{matrix}\n",
    "\\right] - 2 \\times \\left[\n",
    "\\begin{matrix}\n",
    "2\\\\2\\\\3\n",
    "\\end{matrix}\n",
    "\\right] + 2  \\times \\left[\n",
    "\\begin{matrix}\n",
    "1\\\\1\\\\1\n",
    "\\end{matrix}\n",
    "\\right] $$"
   ]
  },
  {
   "cell_type": "markdown",
   "metadata": {},
   "source": [
    "#### 선형독립\n",
    "만약, 위의 식을 만족하는 유일한 해가$a_k= 0, \\forall k$ 이라면  $x=\\{x_1, x_2, ..., x_N\\}$ 는 “선형독립(linearly independent)” 이라고 한다.\n",
    "\n",
    "$$ a_1 \\mathbf{x_1} +a_2 \\mathbf{x_2} + \\cdots +a_N \\mathbf{x_N} =0 \\Rightarrow a_k = 0, \\forall k$$\n",
    "\n",
    "$$ \\left[\n",
    "\\begin{matrix}\n",
    "0\\\\0\\\\0\n",
    "\\end{matrix}\n",
    "\\right] = \n",
    "0 \\times \\left[\n",
    "\\begin{matrix}\n",
    "1\\\\0\\\\0\n",
    "\\end{matrix}\n",
    "\\right] + 0 \\times \\left[\n",
    "\\begin{matrix}\n",
    "0\\\\1\\\\0\n",
    "\\end{matrix}\n",
    "\\right] + 0  \\times \\left[\n",
    "\\begin{matrix}\n",
    "0\\\\0\\\\1\n",
    "\\end{matrix}\n",
    "\\right] $$"
   ]
  },
  {
   "cell_type": "markdown",
   "metadata": {},
   "source": [
    "#### 기저집합\n",
    "행렬 Nx1로 표현되는 모든 벡터를 표현할 수 있는 벡터의 집합을 “기저 벡터 집합”이라고 한다. 이때 임의의 벡터는 기저 벡터 집합을 통하여 Nx1 벡터 공간에 펼쳐(span)진다고 표현한다. 만약, 이 기저 집합이라면, 임의의 Nx1벡터 x는 다음과 같이 표현될 수 있다.\n",
    "\n",
    "$$  \\mathbf{x} = \\sum_{i=1}^N c_i \\mathbf{v_i} $$\n",
    "\n",
    "$$ \\left[\n",
    "\\begin{matrix}\n",
    "3\\\\6\\\\9\n",
    "\\end{matrix}\n",
    "\\right] = \n",
    "3 \\times \\left[\n",
    "\\begin{matrix}\n",
    "1\\\\0\\\\0\n",
    "\\end{matrix}\n",
    "\\right] + 6 \\times \\left[\n",
    "\\begin{matrix}\n",
    "0\\\\1\\\\0\n",
    "\\end{matrix}\n",
    "\\right] + 9  \\times \\left[\n",
    "\\begin{matrix}\n",
    "0\\\\0\\\\1\n",
    "\\end{matrix}\n",
    "\\right] $$\n",
    "\n",
    "만약, 어떤 임의의 벡터 x가 {ui} 의 선형조합으로 표현이 되어질 수 있다면, 벡터집합 $\\{u_1, u_2,...,u_N\\}$ 은 벡터 공간에 대하여 기저(basis)를 형성한다고 말한다.\n",
    "\n",
    "$$  \\mathbf{x} = a_1 \\mathbf{u_1} +a_2 \\mathbf{u_2} + \\cdots +a_N \\mathbf{u_N}$$\n",
    "\n",
    "계수  $\\{a_1, a_2,...,a_N\\}$를 기저 ${u_i}$ 에 따른 벡터 $\\mathbf{x}$의 성분이라고 하고, 기저를 형성하기 위해서 ${u_i}$ 벡터들이 선형 독립인 것은 필요 충분한 조건이다.\n",
    "\n",
    "직교(orthogonal) : $$  \\mathbf{u_1}^T \\mathbf{u_j} \n",
    "  \\begin{cases}\n",
    "   \\neq 0 & \\quad i = j \\\\\n",
    "     =  0 & \\quad i \\neq j\n",
    "  \\end{cases}\n",
    "$$\n",
    "정규직교(orthonormal) : $$  \\mathbf{u_1}^T \\mathbf{u_j} \n",
    "  \\begin{cases}\n",
    "   = 1 & \\quad i = j \\\\\n",
    "     =  0 & \\quad i \\neq j\n",
    "  \\end{cases}\n",
    "$$"
   ]
  },
  {
   "cell_type": "markdown",
   "metadata": {},
   "source": [
    "#### 벡터공간 ( 또는 유클리드 공간)\n",
    "\n",
    "* 모든 n차원 벡터들이 존재하는 n차원 공간을 “벡터 공간”이라고 한다.\n",
    "* 벡터 공간은 실수에 의하여 벡터 덧셈과 벡터 곱셈에 대한 규칙에 닫혀있는 벡터 집합이다. 그러므로 임의의 두 벡터에 대한 덧셈과 곱셈을 통하여 해당 공간 내에 있는 새로운 벡터를 생성할 수 있다.\n",
    "* n차원 공간 Rn 은 모두 선형독립인 n개의 n차원 벡터에 의해 생성될 수 있는데, 이때 n차원 공간 Rn 을“유클리드 n차원 공간”혹은“유클리드 공간”이라고 한다.\n",
    "\n",
    "벡터간의 거리 : 벡터공간에 존재하는 두 점 사이의 거리(유클리디안 거리)는 두 점이 잊는 벡터의 길이로 다음과 같이 정의 된다.\n",
    "\n",
    "\n",
    "$$ d_E (x,y) = | x - y | = [\\sum_{k=1}^d (x_k - y_k)^2]^{1/2} $$\n",
    "\n",
    "<img src=\"./images/vectors_distance.png\" width=\"300\" title=\"Distances between two vectors\"  >"
   ]
  },
  {
   "cell_type": "markdown",
   "metadata": {},
   "source": [
    "## 2.2 행렬 (Matrix)\n",
    "\n",
    "* 행렬은 숫자들이 행과 열로 정리된 사각형 배열을 의미한다. \n",
    "\n",
    "$$  \\begin{bmatrix}\n",
    " 3 & 6 & 7 & 2 \\\\\n",
    " 2 & 12 & 0 & 11 \\\\\n",
    " 5 & -7 & -8 & 13 \\\\\n",
    " \\end{bmatrix}\n",
    " $$\n",
    "\n",
    "* 이러한 사각형 배열은 열벡터들의 배열로 생성될 수도 있다.\n",
    "\n",
    "$$ \\left[ \n",
    " \\begin{bmatrix}\n",
    " 3  \\\\\n",
    " 2  \\\\\n",
    " 5  \\\\\n",
    " \\end{bmatrix},\n",
    " \\begin{bmatrix}\n",
    " 6  \\\\\n",
    " 12  \\\\\n",
    " -7  \\\\\n",
    " \\end{bmatrix},\n",
    " \\begin{bmatrix}\n",
    " 7  \\\\\n",
    " 0  \\\\\n",
    " 8  \\\\\n",
    " \\end{bmatrix},\n",
    " \\begin{bmatrix}\n",
    " 2  \\\\\n",
    " 11  \\\\\n",
    " 13  \\\\\n",
    " \\end{bmatrix}\n",
    " \\right]\n",
    " $$\n",
    "\n",
    "* 행렬의 차원(또는 크기)은 (행의 개수) x (열의 개수) 로 표현한다. (예 위의 행렬은 3x4 의 크기를 갖는다)\n",
    "\n",
    "* 다양한 형태 또는 특성에 따른 행렬의 종류는 다음과 같다.\n"
   ]
  },
  {
   "cell_type": "markdown",
   "metadata": {},
   "source": [
    "**정방행렬 (square matrix)**: 행의 수와 열의 수가 동일한 행렬\n",
    "\n",
    "**대각행렬 (diagonal matrix)**: 행렬의 대각 성분을 제외하고는 모두 0인 행렬, 모든 대각행렬은 정방 행렬이다.\n",
    "\n",
    "$$ A = \n",
    " \\begin{bmatrix}\n",
    " 3 &0 &0 \\\\\n",
    " 0 &6 & 0 \\\\\n",
    " 0 & 0 &-2 \n",
    " \\end{bmatrix}\n",
    " $$\n",
    "\n",
    "**스칼라행렬** : 대각 성분이 모두 같고, 비대각 성분이 모두 0인 정방행렬로, 다른 행렬에 곱하면, 그 효과가 스칼라를 곱한 것과 같아진다.\n",
    "$$ B = \n",
    " \\begin{bmatrix}\n",
    " 5 &0 &0 \\\\\n",
    " 0 &5 & 0 \\\\\n",
    " 0 & 0 &5 \n",
    " \\end{bmatrix}\n",
    " $$\n",
    "\n",
    "**항등 행렬** 혹은 **단위 행렬 ( identity matrix )** : 대각 성분이 모두 1 이고, 그 밖의 성분이 모두 0인 정방행렬\n",
    "$$ I = \n",
    " \\begin{bmatrix}\n",
    " 1 &0 &0 \\\\\n",
    " 0 &1& 0 \\\\\n",
    " 0 & 0 &1 \n",
    " \\end{bmatrix}\n",
    " $$\n",
    " \n",
    " 단위행렬은 임의의 행렬의 왼쪽 또는 오른쪽에 곱해도, 그 행렬 값에 영향을 주지 않는다.\n",
    " \n",
    " $$ IA = AI = A $$\n",
    " $$AIB = AB = ABI $$"
   ]
  },
  {
   "cell_type": "markdown",
   "metadata": {},
   "source": [
    "**대칭 행렬 (symmetry matrix)** : 대각선을 축으로 모든 성분이 대칭되는 행렬\n",
    "$$ S = \n",
    " \\begin{bmatrix}\n",
    " 1 &4 &5 \\\\\n",
    " 4 &2& 6 \\\\\n",
    " 5 & 6 &3\n",
    " \\end{bmatrix}\n",
    " $$\n",
    " \n",
    " $$ S = S^T $$\n",
    "\n",
    "**영 행렬**: \n",
    "모든 구성 성분이 0인 행렬\n",
    "\n",
    "**직교 행렬**:\n",
    "주어진 행렬 A가 정방행렬일 때, $\\mathbf{A}\\mathbf{A}^T=\\mathbf{I}$ 를 만족하는 행렬\n",
    "\n",
    "$$ \\mathbf{A}\\mathbf{A}^T = \n",
    " \\begin{bmatrix}\n",
    "  <\\mathbf{x_1,x_1}> & 0 & \\cdots & 0 \\\\\n",
    "  0 & <\\mathbf{x_2, x_2}>& \\cdots & 0 \\\\\n",
    "  \\vdots  & \\vdots  & \\ddots & \\vdots  \\\\\n",
    "  0 & 0& \\cdots & <\\mathbf{x_N, x_N}>\n",
    " \\end{bmatrix}\n",
    " $$\n",
    " \n",
    " **전치행렬 (transposed matrix)**\n",
    "\n",
    "$$ \\mathbf{A} = \n",
    " \\begin{bmatrix}\n",
    "  a_{11} & a_{12} & \\cdots & a_{1N} \\\\\n",
    "  a_{21} & a_{22} & \\cdots & a_{2N} \\\\\n",
    "  \\vdots  & \\vdots  & \\ddots & \\vdots  \\\\\n",
    "  a_{M1} & a_{M2} & \\cdots & a_{MN} \n",
    " \\end{bmatrix}\n",
    "  \\Rightarrow\n",
    "\\mathbf{A}^T = \n",
    " \\begin{bmatrix}\n",
    "  a_{11} & a_{21} & \\cdots & a_{M1} \\\\\n",
    "  a_{12} & a_{22} & \\cdots & a_{M2} \\\\\n",
    "  \\vdots  & \\vdots  & \\ddots & \\vdots  \\\\\n",
    "  a_{1N} & a_{2N} & \\cdots & a_{MN} \n",
    " \\end{bmatrix}\n",
    " $$"
   ]
  },
  {
   "cell_type": "markdown",
   "metadata": {},
   "source": [
    "**행렬의 곱셈**\n",
    "$$ \\mathbf{AB} = \n",
    " \\begin{bmatrix}\n",
    "  a_{11} & a_{12} & \\cdots & a_{1D} \\\\\n",
    "  a_{21} & a_{22} & \\cdots & a_{2D} \\\\\n",
    "  \\vdots  & \\vdots  & \\ddots & \\vdots  \\\\\n",
    "  a_{M1} & a_{M2} & \\cdots & a_{MD} \n",
    " \\end{bmatrix}\n",
    " \\begin{bmatrix}\n",
    "  b_{11} & b_{12} & \\cdots & b_{1N} \\\\\n",
    "  b_{21} & b_{22} & \\cdots & b_{2N} \\\\\n",
    "  b_{31} & b_{32} & \\cdots & b_{3N} \\\\\n",
    "  \\vdots  & \\vdots  & \\ddots & \\vdots  \\\\\n",
    "  b_{D1} & b_{D2} & \\cdots & b_{DN} \n",
    " \\end{bmatrix}\n",
    " = \n",
    " \\begin{bmatrix}\n",
    "  c_{11} & c_{21} & \\cdots & c_{1N} \\\\\n",
    "  c_{21} & c_{22} & \\cdots & c_{2N} \\\\\n",
    "  c_{31} & c_{32} & \\cdots & c_{3N} \\\\\n",
    "  \\vdots  & \\vdots  & \\ddots & \\vdots  \\\\\n",
    "  c_{M1} & c_{M2} & \\cdots & c_{MN} \n",
    " \\end{bmatrix}\n",
    " $$\n",
    "where\n",
    "$ c_{ij} =  <\\mathbf{a_{1*},b_{*1}}>  = \\sum_{k=1}^D a_{ik}b_{kj} $"
   ]
  },
  {
   "cell_type": "code",
   "execution_count": 3,
   "metadata": {},
   "outputs": [
    {
     "name": "stdout",
     "output_type": "stream",
     "text": [
      "[[1 1 1]\n",
      " [2 2 2]]\n",
      "[[1 1 1 1 1]\n",
      " [2 2 2 2 2]\n",
      " [3 3 3 3 3]]\n",
      "[[ 6  6  6  6  6]\n",
      " [12 12 12 12 12]]\n"
     ]
    }
   ],
   "source": [
    "import numpy as np\n",
    "A = np.array( [[1,1,1],[2,2,2]] )\n",
    "B = np.array( [[1,1,1,1,1],[2,2,2,2,2],[3,3,3,3,3]] )\n",
    "print(A)\n",
    "print(B)\n",
    "C = np.dot(A,B) # numpy에서 행렬곱셈은 dot()으로 수행한다.\n",
    "print(C)"
   ]
  },
  {
   "cell_type": "markdown",
   "metadata": {},
   "source": [
    "**행렬의 트레이스(trace)** : 정방행렬에서 대각 성분의 합\n",
    "$$ tr(A) = \\sum_{k=1}^D a_{kk}$$\n",
    "\n",
    "* $tr(A) = tr(A^T)$\n",
    "* $tr(A+B) = tr(A) + tr(B) $\n",
    "* $tr(AB) = tr(BA)$\n",
    "\n",
    "행렬의 고유값 문제에서 고유근을 구할 때 매우 중요한 역할을 함"
   ]
  },
  {
   "cell_type": "code",
   "execution_count": 4,
   "metadata": {},
   "outputs": [
    {
     "name": "stdout",
     "output_type": "stream",
     "text": [
      "[[1 2 3]\n",
      " [4 5 6]\n",
      " [7 8 9]] 15\n"
     ]
    }
   ],
   "source": [
    "A = np.array([[1,2,3],[4,5,6],[7,8,9]])\n",
    "A_tr = np.trace(A)   # 1 + 5 + 9\n",
    "print(A, A_tr)"
   ]
  },
  {
   "cell_type": "markdown",
   "metadata": {},
   "source": [
    "**행렬식 (determinant)** : 숫자들의 다차원적인 배열을 행렬이라고 한다면, 행렬식은 행렬을 어떠한 하나의 실수 값으로 표현한 것을 말한다. $d\\times d$ 정방 행렬 $\\mathbf{A}$에 대하여, 행렬식은 $|\\mathbf{A}|$ 혹은 $\\det \\mathbf{A}$ 으로 표현하며 다음과 같이 계산된다.\n",
    "\n",
    "$$ |\\mathbf{A}| = \\sum_{k=1}^D a_{ik}|\\mathbf{A}_{ik}|(-1)^{k+1} $$\n",
    "여기에서 $\\mathbf{A}_{ik}$ 는 $\\mathbf{A}$에서 $i$ 번째 행과 $k$ 번째 열을 제거하여 만든 부행렬(sub-matrix)을 말한다.\n",
    "\n",
    "* 행렬식은 오직 정방 행렬에서만 정의된다.\n",
    "* 행렬식의 값은 하나의 상수 즉, 임의의 실수이다.\n",
    "* $n$차의 행렬식 $|\\mathbf{A}_{n×n}|$은 n개의 행과 열의 위치가 서로 다른 성분들의 곱의 합으로 표현된다.\n",
    "\n",
    "$$ |\\mathbf{A}| = \\left| \\begin{matrix}\n",
    "  a_{11} & a_{12}  \\\\\n",
    "  a_{21} & a_{22} \\\\\n",
    " \\end{matrix}\\right| = a_{11}a_{22} - a_{21}a_{12} $$\n",
    " \n",
    "$$ |\\mathbf{A}| = \\left| \\begin{matrix}\n",
    "  a_{11} & a_{12} & a_{13} \\\\\n",
    "  a_{21} & a_{22} & a_{23} \\\\\n",
    "  a_{31} & a_{32} & a_{33} \\\\\n",
    " \\end{matrix}\\right| = a_{11}a_{22}a_{33} + a_{12}a_{23}a_{31} + a_{13}a_{21}a_{32} - a_{13}a_{22}a_{31} - a_{11}a_{23}a_{32} - a_{12}a_{21}a_{33} $$"
   ]
  },
  {
   "cell_type": "code",
   "execution_count": 5,
   "metadata": {},
   "outputs": [
    {
     "name": "stdout",
     "output_type": "stream",
     "text": [
      "[[4 2]\n",
      " [1 3]] 10.000000000000002\n"
     ]
    }
   ],
   "source": [
    "A = np.array([[4,2],[1,3]])\n",
    "A_det = np.linalg.det(A)     #  (4x3) - (2x1)\n",
    "print(A, A_det)"
   ]
  },
  {
   "cell_type": "markdown",
   "metadata": {},
   "source": [
    "**역행렬 (Inverse Matrix)**: 대수 연산에서 임의의 수를 곱하여 1이 될 때, 이를 \"역수\"라고 한다. 이를 행렬 대수에 적용하면, 가령 $\\mathbf{AX} =\\mathbf{I}$ 가 되는 $\\mathbf{X}$ 가 존재할 경우에 이 행렬 $\\mathbf{X}$ 를 $\\mathbf{A}$ 의 역행렬이라고 하며 $\\mathbf{A}^{-1}$로 표현한다.\n",
    "\n",
    "역행렬의 성질\n",
    "* $\\mathbf{AA}^{-1}=\\mathbf{I}$,   $\\mathbf{A}^{-1}\\mathbf{A}=\\mathbf{I}$\n",
    "* $(\\mathbf{A}^{-1})^T = (\\mathbf{A}^T)^{-1}$\n",
    "* $(\\mathbf{AB})^{-1} = \\mathbf{B}^{-1}\\mathbf{A}^{-1}$"
   ]
  },
  {
   "cell_type": "code",
   "execution_count": 6,
   "metadata": {},
   "outputs": [
    {
     "name": "stdout",
     "output_type": "stream",
     "text": [
      "A = \n",
      " [[1 2]\n",
      " [3 4]]\n",
      "Inverse of A = \n",
      " [[-2.000  1.000]\n",
      " [ 1.500 -0.500]]\n",
      "A * A_inv = \n",
      " [[ 1.000  0.000]\n",
      " [ 0.000  1.000]]\n",
      "A_inv * A = \n",
      " [[ 1.000  0.000]\n",
      " [ 0.000  1.000]]\n"
     ]
    }
   ],
   "source": [
    "A =np.array([[1,2],[3,4]])\n",
    "A_inv = np.linalg.inv(A)\n",
    "np.set_printoptions(formatter={'float': '{: 0.3f}'.format})\n",
    "print(\"A = \\n\", A)\n",
    "print(\"Inverse of A = \\n\", A_inv)\n",
    "print(\"A * A_inv = \\n\", np.dot(A,A_inv))\n",
    "print(\"A_inv * A = \\n\", np.dot(A_inv,A))"
   ]
  },
  {
   "cell_type": "markdown",
   "metadata": {},
   "source": [
    "**정부호 (positive-definite)** : 양의 실수(positive real number)와 유사한 성질을 갖는 행렬의 성질을 말하며, 만약, 모든 영이 아닌 $x$ 에 대하여 $\\mathbf{x}^T \\mathbf{Ax}> 0$ 의 조건을 만족한다면, 행렬 $\\mathbf{A}$는 정부호 행렬 (positive-definite matrix)이라고 한다. $\\mathbf{A} > 0$ 은 $\\mathbf{A}$가 정부호임을 나타낸다.\n",
    "$$ A = \n",
    " \\begin{bmatrix}\n",
    " 3 &0 &0 \\\\\n",
    " 0 &1 & 0 \\\\\n",
    " 0 & 0 &2 \n",
    " \\end{bmatrix}\n",
    " $$\n",
    " 만약, $\\mathbf{x^T} = [1, -3, 2] $ 라면\n",
    " $$ \\mathbf{x^T} A  \\mathbf{x} = \n",
    " \\begin{bmatrix}\n",
    " 1 &-3 &2 \\\\\n",
    " \\end{bmatrix}\n",
    " \\begin{bmatrix}\n",
    " 3 &0 &0 \\\\\n",
    " 0 &1 & 0 \\\\\n",
    " 0 & 0 &2 \n",
    " \\end{bmatrix}\n",
    " \\begin{bmatrix}\n",
    " 1 \\\\\n",
    " -3 \\\\\n",
    " 2 \n",
    " \\end{bmatrix}\n",
    " = 3 + 9 + 8 = 20 > 0\n",
    " $$\n",
    "\n",
    "만약 $\\mathbf{x}^T \\mathbf{Ax} \\ge 0$ 라면, $\\mathbf{A}$는 반정부호(positive semidefinite)라고 한다. **공분산 행렬은 정부호 행렬의 대표적인 예이다**."
   ]
  },
  {
   "cell_type": "markdown",
   "metadata": {},
   "source": [
    "### 고유치와 고유벡터\n",
    "\n",
    "고유치와 고유벡터 행렬 $\\mathbf{A}$가 $N\\times N$의 정방행렬이고, $\\mathbf{x}\\ne 0$ 인 벡터 $\\mathbf{x} \\in R^N$ 가 존재할 때, 다음 관계를 만족하는 스칼라 $\\lambda$를 행렬 $\\mathbf{A}$의 **고유치(eigenvalue)**라 하고 벡터 $\\mathbf{x}$ 는 $\\lambda$에 대응하는 $\\mathbf{A}$의 **고유벡터(eigenvector)**라고 한다.\n",
    "\n",
    "$$ \\mathbf{Ax} = \\lambda \\mathbf{x}$$\n",
    "\n",
    "예를 들어,\n",
    "$$\n",
    "\\begin{bmatrix}\n",
    " 2 &3 \\\\\n",
    " 2 &1 \n",
    " \\end{bmatrix}\n",
    " \\begin{bmatrix}\n",
    "3 \\\\\n",
    "2\n",
    " \\end{bmatrix}\n",
    " =  \\begin{bmatrix}\n",
    "12 \\\\\n",
    "8\n",
    " \\end{bmatrix}\n",
    " = \n",
    " 4 \\times\n",
    "  \\begin{bmatrix}\n",
    "3\\\\\n",
    "2\n",
    " \\end{bmatrix}\n",
    " $$"
   ]
  },
  {
   "cell_type": "markdown",
   "metadata": {},
   "source": [
    "**고유치의 계산**\n",
    "$$ \\mathbf{Ax} = \\lambda \\mathbf{x}$$\n",
    "$$ \\mathbf{Ax} - \\lambda \\mathbf{x} = 0 $$\n",
    "$$ (\\mathbf{A} - \\lambda \\mathbf{I} ) \\mathbf{x} = 0 $$\n",
    "$$ \\Rightarrow \\mathbf{x} = 0 \\quad \\text{ or } \\quad \n",
    "(\\mathbf{A} - \\lambda \\mathbf{I} ) = 0 $$\n",
    "\n",
    "$(\\mathbf{A} - \\lambda \\mathbf{I} ) \\mathbf{x} = 0$ 에서 $\\mathbf{x}=0$ 이 아닌 해를 얻는 유일한 경우는 $(\\mathbf{A} - \\lambda \\mathbf{I}) $ 가 정칙행렬 (singular matrix)인 경우이며, 이를 만족하는 필요충분조건은 $|\\mathbf{A} - \\lambda \\mathbf{I} |=0$ 이고, 이 때 $\\mathbf{x}\\ne 0$인 해가 존재하게 된다.\n",
    "여기에서 $|\\mathbf{A} - \\lambda \\mathbf{I} |=0$ 를 $\\mathbf{A}$의 특성방정식이라고 한다.\n",
    "\n",
    "$$ (\\mathbf{A} - \\lambda \\mathbf{I}) = 0 \\Rightarrow\n",
    "|\\mathbf{A} - \\lambda \\mathbf{I} |= 0 \\Rightarrow \n",
    "\\lambda^N + a_1 \\lambda^{N-1} + \\cdots + a_{N-1} \\lambda + a_N = 0 $$\n",
    "\n",
    "$\\mathbf{A}$ 를 $N\\times N$ 행렬이라 하고, $\\lambda$을 $\\mathbf{A}$의 **고유값**이라고 한다. $\\lambda$ 에 대응하는 모든 **고유 벡터**의 집합은 영벡터와 함께 $R^N$ 의 부분공간을 이룬다. 이 부분 공간을 $\\mathbf{A}$의 **고유공간(eigenspace)**이라고 한다.\n",
    "\n",
    "\n",
    "\n",
    "**고유치와 고유벡터의 성질**\n",
    "\n",
    "* **대각행렬**의 고유치는 대각 성분 값이다.\n",
    "* **삼각행렬**의 고유치는 이 행렬 대각 성분 값이다.\n",
    "* 벡터 $\\mathbf{x}$ 가 행렬 $\\mathbf{A}$의 고유 벡터이면 벡터 $\\mathbf{x}$의 스칼라 곱인 $k\\mathbf{x}$도 고유 벡터이다.\n",
    "* **전치**하여도 고유치는 변하지 않는다. 즉, 행렬 $\\mathbf{A}$의 고유치와 전치행렬 $\\mathbf{A}^T$의 고유치는\n",
    "동일하다.\n",
    "* **역행렬**의 고유치는 원래 행렬의 고유치의 역수가 된다.\n",
    "* 행렬 $\\mathbf{A}$의 **모든 고유치의 곱**은 $\\mathbf{A}$의 행렬식과 같다.\n",
    "* 서로 다른 고유치와 관련된 고유 벡터는 선형독립이다.\n",
    "* **실수 대칭 행렬**의 고유 벡터는 서로 직교한다.\n",
    "* **실수 대칭 행렬**의 고유치 또한 실수이다.\n",
    "* 만약 $\\mathbf{A}$가 양의 정부호 행렬이라면 모든 고유치는 양수이다.\n"
   ]
  },
  {
   "cell_type": "code",
   "execution_count": 12,
   "metadata": {},
   "outputs": [
    {
     "name": "stdout",
     "output_type": "stream",
     "text": [
      "eigenvalue of A [ 14.639 -1.639 -0.000]\n",
      "[[ 0.255  0.789  0.408]\n",
      " [ 0.502 -0.493 -0.816]\n",
      " [ 0.826 -0.366  0.408]]\n",
      "========================================\n",
      "eigenvalue of A^T [ 14.639 -1.639  0.000]\n",
      "[[ 0.611  0.880 -0.239]\n",
      " [ 0.577  0.233 -0.796]\n",
      " [ 0.542 -0.414  0.557]]\n",
      "========================================\n",
      "[ 1.000  2.000  3.000]\n",
      "[[ 1.000  0.000  0.000]\n",
      " [ 0.000  1.000  0.000]\n",
      " [ 0.000  0.000  1.000]]\n",
      "========================================\n",
      "[ 1.000  0.500  0.333]\n",
      "[[ 1.000  0.000  0.000]\n",
      " [ 0.000  1.000  0.000]\n",
      " [ 0.000  0.000  1.000]]\n"
     ]
    }
   ],
   "source": [
    "A = np.array([[1,2,3], [6,5,4], [9,8,7]])\n",
    "W, V = np.linalg.eig(A)\n",
    "print('eigenvalue of A',W)  # 고유값으로 구성된 벡터\n",
    "print(V)  # 고유벡터로 구성된 행렬\n",
    "print('=='*20)\n",
    "\n",
    "W, V = np.linalg.eig(np.transpose(A))\n",
    "print('eigenvalue of A^T',W)  # 전치된 행렬의 고유값은 이전의 행렬의 고유값과 같다.\n",
    "print(V)\n",
    "print('=='*20)\n",
    "\n",
    "A = np.array([[1,0,0], [0,2,0], [0,0,3]])\n",
    "W, V = np.linalg.eig(A)\n",
    "print(W)  # 대각행렬의 고유값은 대각성분\n",
    "print(V)\n",
    "print('=='*20)\n",
    "\n",
    "W, V = np.linalg.eig(np.linalg.inv(A))\n",
    "print(W) # 역행렬의 고유값은 원래 행렬의 고유값의 역수\n",
    "print(V)"
   ]
  },
  {
   "cell_type": "markdown",
   "metadata": {},
   "source": [
    "## 2.3 선형변환\n",
    "\n",
    "선형 변환이란 벡터공간 $R^N$ 으로부터 벡터공간  $R^M$ 상으로 매핑하는 것을 말하며, 행렬로는 다음과 같이 표현된다. 벡터 $ \\mathbf{x} \\in R^N$가 주어질 때,  $R^M$ 상에 대응되는 벡터  $\\mathbf{y}$ 는 다음과 같이 계산된다.\n",
    "\n",
    "$$ \n",
    "\\begin{bmatrix}\n",
    "  y_{1} \\\\\n",
    "  y_{2}  \\\\\n",
    "  \\vdots  \\\\\n",
    "  y_{M}\n",
    " \\end{bmatrix}\n",
    " =\n",
    " \\begin{bmatrix}\n",
    "  a_{11} & a_{12} & a_{13} & \\cdots & a_{1N} \\\\\n",
    "  a_{21} & a_{22} & a_{23} & \\cdots & a_{2N} \\\\\n",
    "  \\vdots  & \\vdots  & \\vdots & \\ddots & \\vdots \\\\\n",
    "  a_{M1} & a_{M2} & a_{M3} & \\cdots & a_{MN} \n",
    " \\end{bmatrix}\n",
    " \\begin{bmatrix}\n",
    "  x_{1} \\\\\n",
    "  x_{2}  \\\\\n",
    "  x_{3} \\\\\n",
    "    \\vdots  \\\\\n",
    "  x_{N}\n",
    " \\end{bmatrix}\n",
    " $$\n",
    "\n",
    "선형 변환이 이루어지는 두 벡터 공간의 차원을 같을 필요는 없다. 패턴인식에서는 선형변환을 통하여 **특징벡터의 차원을 축소하는데 이용**한다. \n",
    "\n",
    "선형변환 행렬이 정방 행렬 $\\mathbf{A}$이고 $\\mathbf{AA}^T = \\mathbf{A}^T\\mathbf{A} = \\mathbf{I}$ 일 때, 정규직교 한다고 말한다. 정규직교이면 $\\mathbf{A}^T = \\mathbf{A}^{-1}$ 이다. 특히 정규직교 변환하게 되면 아래와 같이 벡터의 크기를 보존하는 성질을 가짐을 알 수 있다.\n",
    "\n",
    "$$ |\\mathbf{y}| = \\sqrt{\\mathbf{y}^T\\mathbf{y}} = \n",
    "\\sqrt{(\\mathbf{Ax})^T (\\mathbf{Ax}) } = \n",
    "\\sqrt{ \\mathbf{x}^T \\mathbf{A}^T \\mathbf{Ax}} =\n",
    "\\sqrt{ \\mathbf{x}^T\\mathbf{x} } = |\\mathbf{x}| $$\n",
    "\n",
    "이때, 정규직교 변환의 행 벡터들 $(\\mathbf{a_1,a_2, \\cdots,a_N})$는 정규직교 기저벡터집합을 형성한다.\n",
    "\n",
    "$$ \\mathbf{y}_{M\\times 1} = \n",
    "\\begin{bmatrix}\n",
    " \\leftarrow & \\mathbf{a}_{1} & \\rightarrow \\\\\n",
    " \\leftarrow & \\mathbf{a}_{2} & \\rightarrow \\\\\n",
    " \\vdots \\\\\n",
    " \\leftarrow & \\mathbf{a}_{N} & \\rightarrow \\\\\n",
    " \\end{bmatrix}\n",
    " \\mathbf{x}_{N\\times 1}\n",
    " \\quad\n",
    " \\text{with}\n",
    " \\quad\n",
    " \\mathbf{a}_i^T \\mathbf{a}_j =   \\begin{cases}\n",
    "    0 & \\quad i \\ne j \\\\\n",
    "    1 & \\quad i =  j\n",
    "  \\end{cases}\n",
    " $$\n",
    "\n"
   ]
  },
  {
   "cell_type": "markdown",
   "metadata": {},
   "source": [
    "주어진 행렬 A가 선형 변환이라면, 고유벡터(eigenvector)는 벡터공간에서의 불변 (invariant) 방향을 나타낸다.\n",
    "\n",
    "A에 의한 변환 시에, 고유벡터(eigenvector) $\\mathbf{v}$\n",
    "로 정의되는 방향에 놓인 어떤 점들도 그대로 그 방향으로 놓이게 되며, 그 크기는 해당하는 고유치(eigenvalue) 로 곱해지게 된다.\n",
    "<img src=\"images/eigenvector.png\" width=\"250\">\n",
    "\n",
    "예를 들어, Z 축에 대하여 3차원 벡터를 회전하는 변환 A는 벡터 $[0, 0, 1]$을 유일한 고유 벡터로 갖게 되며 해당하는 고유치는 1이 된다.\n",
    "$$ A = \n",
    " \\begin{bmatrix}\n",
    " \\cos\\beta &-\\sin\\beta &0 \\\\\n",
    " \\sin\\beta & \\cos\\beta & 0 \\\\\n",
    " 0 & 0 &1 \n",
    " \\end{bmatrix}\n",
    " $$\n",
    "\n",
    "<img src=\"images/rotation_z.png\" width=\"300\">"
   ]
  },
  {
   "cell_type": "markdown",
   "metadata": {},
   "source": [
    "[Prectices]"
   ]
  },
  {
   "cell_type": "code",
   "execution_count": 15,
   "metadata": {},
   "outputs": [
    {
     "name": "stdout",
     "output_type": "stream",
     "text": [
      "A =  [1 2 3 4]\n",
      "norm of A =  5.477225575051661\n",
      "3 x A =  [ 3  6  9 12]\n",
      "inner product of A & B =  90\n",
      "outer product of A & B = \n",
      " [[ 3  6  9 12]\n",
      " [ 6 12 18 24]\n",
      " [ 9 18 27 36]\n",
      " [12 24 36 48]]\n"
     ]
    }
   ],
   "source": [
    "import numpy as np\n",
    "\n",
    "# Vector operation\n",
    "\n",
    "A = np.array([1, 2, 3, 4])\n",
    "A_norm = np.linalg.norm(A)\n",
    "print(\"A = \", A)\n",
    "print(\"norm of A = \", A_norm)\n",
    "B = 3*A\n",
    "print(\"3 x A = \", B)\n",
    "\n",
    "C = np.dot(A,B)\n",
    "print(\"inner product of A & B = \", C)\n",
    "D = np.outer(A, B)\n",
    "print(\"outer product of A & B = \\n\",D)"
   ]
  },
  {
   "cell_type": "code",
   "execution_count": 81,
   "metadata": {},
   "outputs": [
    {
     "name": "stdout",
     "output_type": "stream",
     "text": [
      "[[1 0 0]\n",
      " [0 1 0]\n",
      " [0 0 1]] \n",
      "trace of A =  3\n",
      "determinant of A =  1.0\n",
      "[[1. 0. 0. 0.]\n",
      " [0. 1. 0. 0.]\n",
      " [0. 0. 1. 0.]\n",
      " [0. 0. 0. 1.]]\n",
      "[[0. 0. 0. 0.]\n",
      " [0. 0. 0. 0.]]\n",
      "[[1. 1. 1. 1.]\n",
      " [1. 1. 1. 1.]\n",
      " [1. 1. 1. 1.]]\n",
      "[[2 0 0 0 0 0]\n",
      " [0 3 0 0 0 0]\n",
      " [0 0 6 0 0 0]\n",
      " [0 0 0 1 0 0]\n",
      " [0 0 0 0 3 0]\n",
      " [0 0 0 0 0 5]]\n"
     ]
    }
   ],
   "source": [
    "# matrix operation\n",
    "\n",
    "A = np.array([[1,0,0],[0,1,0],[0,0,1]])\n",
    "print(A,\"\\ntrace of A = \", np.trace(A))\n",
    "print(\"determinant of A = \", np.linalg.det(A))\n",
    "I = np.eye(4)  # Identity matrix\n",
    "print(I)\n",
    "Z = np.zeros((2,4))  # zeros matrix\n",
    "print(Z)\n",
    "O = np.ones((3,4)) # ones matrix\n",
    "print(O)\n",
    "D = np.array([2,3,6,1,3,5])\n",
    "E = np.diag(D)  # diagonal matrix\n",
    "print(E)"
   ]
  },
  {
   "cell_type": "code",
   "execution_count": 82,
   "metadata": {},
   "outputs": [
    {
     "name": "stdout",
     "output_type": "stream",
     "text": [
      "(3, 5) (2, 5) (5, 5) \n",
      " [[1. 2. 3. 0. 0.]\n",
      " [4. 5. 6. 0. 0.]\n",
      " [7. 8. 9. 0. 0.]\n",
      " [0. 0. 0. 1. 0.]\n",
      " [0. 0. 0. 0. 1.]]\n",
      "[ 1.61168440e+01 -1.11684397e+00 -1.30367773e-15  1.00000000e+00\n",
      "  1.00000000e+00]\n",
      "[[-0.23197069 -0.78583024  0.40824829  0.          0.        ]\n",
      " [-0.52532209 -0.08675134 -0.81649658  0.          0.        ]\n",
      " [-0.8186735   0.61232756  0.40824829  0.          0.        ]\n",
      " [ 0.          0.          0.          1.          0.        ]\n",
      " [ 0.          0.          0.          0.          1.        ]]\n"
     ]
    }
   ],
   "source": [
    "F = np.array([[1,2,3,], [4,5,6], [7,8,9]])\n",
    "G = np.append(F, np.zeros((3,2)), axis=1)\n",
    "H = np.append(np.zeros((2,3)),np.eye(2), axis=1)\n",
    "J = np.append(G, H, axis=0)\n",
    "print(G.shape, H.shape, J.shape, \"\\n\", J)\n",
    "W, V = np.linalg.eig(J)\n",
    "print(W)\n",
    "print(V)"
   ]
  },
  {
   "cell_type": "markdown",
   "metadata": {},
   "source": [
    "[Questions]\n",
    "1. 벡터 $a=[1,9,3,7,5]$ 의 크기를 구하시오.\n",
    "2. 벡터 $b=[1,3,5]$ 와 $c=[2,4,6]$의 내적을 구하시오.\n",
    "3. 행렬 $a=[1,2,3; 4,5,6; 7,8,9]$ 의 트레이스, 행렬식, 역행렬, 고유치 및 그에 해당하는 고유벡터들을 구하시오. 그리고 $b=a^T$ 에 대한 값들도 구해보시오.\n",
    "4. 주어진 행렬 $a=[1,0,0,0; 0,2,0,0; 0,0,3,0; 0,0,0,5]$ 의 트레이스, 행렬식, 역행렬, 고유치 및 그에 해당하는 고유벡터들을 구하시오.\n",
    "5. 주어진 행렬 $a=[1, 2, 3; 2, 1, 2; 3, 2, 1 ]$ 의 트레이스, 행렬식, 역행렬, 고유치 및 그에 해당하는 고유벡터들을 구하시오."
   ]
  }
 ],
 "metadata": {
  "kernelspec": {
   "display_name": "Python 3",
   "language": "python",
   "name": "python3"
  },
  "language_info": {
   "codemirror_mode": {
    "name": "ipython",
    "version": 3
   },
   "file_extension": ".py",
   "mimetype": "text/x-python",
   "name": "python",
   "nbconvert_exporter": "python",
   "pygments_lexer": "ipython3",
   "version": "3.7.6"
  }
 },
 "nbformat": 4,
 "nbformat_minor": 2
}
